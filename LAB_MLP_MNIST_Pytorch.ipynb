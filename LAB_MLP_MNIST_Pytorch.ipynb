{
  "cells": [
    {
      "cell_type": "markdown",
      "metadata": {
        "id": "BzmTFNgNA-U1"
      },
      "source": [
        "# **Import Modules & Libraries**"
      ]
    },
    {
      "cell_type": "code",
      "execution_count": null,
      "metadata": {
        "id": "230STsMAVuBg"
      },
      "outputs": [],
      "source": [
        "import datetime\n",
        "import torch\n",
        "import torch.nn as nn\n",
        "import torch.nn.functional as F\n",
        "# For optimizing a function we are going to use torch.optim which is a package, implements numerous optimization algorithms.\n",
        "from torch.optim import Adam\n",
        "# Using TensorBoard in PyTorch to evaluate the model\n",
        "from tensorflow import summary"
      ]
    },
    {
      "cell_type": "markdown",
      "source": [
        "MNIST is a dataset consisting of handwritten images that are normalized and center-cropped. It has over 60,000 training images and 10,000 test images. This is one of the most-used datasets for learning and experimenting purposes."
      ],
      "metadata": {
        "id": "hSOkdWoSamLP"
      }
    },
    {
      "cell_type": "code",
      "source": [
        "from torchvision.datasets import MNIST"
      ],
      "metadata": {
        "id": "UUdZ5dC5aiVr"
      },
      "execution_count": null,
      "outputs": []
    },
    {
      "cell_type": "markdown",
      "source": [
        "\n",
        "Image transformation is a process to change the original values of image pixels to a set of new values. One type of transformation that we do on images is to transform an image into a PyTorch tensor. When an image is transformed into a PyTorch tensor, the pixel values are scaled between 0.0 and 1.0. In PyTorch, this transformation can be done using torchvision.transforms.ToTensor(). It converts the PIL image with a pixel range of [0, 255] to a PyTorch FloatTensor of shape (C, H, W) with a range [0.0, 1.0]. \n",
        "\n",
        "The normalization of images is a very good practice when we work with deep neural networks. Normalizing the images means transforming the images into such values that the mean and standard deviation of the image become 0.0 and 1.0 respectively."
      ],
      "metadata": {
        "id": "JMJPMIY2Y058"
      }
    },
    {
      "cell_type": "code",
      "source": [
        "from torchvision.transforms import Compose, ToTensor, Normalize"
      ],
      "metadata": {
        "id": "zVjY647oYz1T"
      },
      "execution_count": null,
      "outputs": []
    },
    {
      "cell_type": "markdown",
      "source": [
        "*   random_split to split a given dataset into more than one (sub)datasets. This is handy since it can be used to create training, validation, and test sets. Use training set for training purposes. Use validation set during training to check underfitting and overfitting.\n",
        "*   Data loading is one of the first steps in building a Deep Learning pipeline, or training a model. This task becomes more challenging when the complexity of the data increases. In this section, we will learn about the DataLoader class in PyTorch that helps us to load and iterate over elements in a dataset. let's now discuss in detail the parameters that the DataLoader class accepts: DataLoader( dataset,batch_size=1,shuffle=False,num_workers=0, collate_fn=None,pin_memory=False)\n",
        "      \n",
        "\n",
        "     1.   **Dataset:** The first parameter in the DataLoader class is the dataset. This is where we load the data from.\n",
        "     2.   **Batching the data:** batch_size refers to the number of training samples used in one iteration. Usually we split our data into training and testing sets, and we may have different batch sizes for each.\n",
        "     3.   **Shuffling the data:** shuffle is another argument passed to the DataLoader class. The argument takes in a Boolean value (True/False). If shuffle is set to True, then all the samples are shuffled and loaded in batches. Otherwise they are sent one-by-one without any shuffling.\n",
        "     4.   **Allowing multi-processing:** As deep learning involves training models with a lot of data, running only single processes ends up taking a lot of time.\n",
        "     5.   **Merging datasets:** The collate_fn argument is used if we want to merge datasets. This argument is optional, and mostly used when batches are loaded from map-styled datasets.\n",
        "     6.  **Loading data on CUDA tensors:** You can directly load datasets as CUDA tensors using the pin_memory argument. It is an optional parameter that takes in a Boolean value; if set to True, the DataLoader class copies Tensors into CUDA-pinned memory before returning them.\n",
        "\n",
        "\n",
        "\n",
        "     \n",
        "\n"
      ],
      "metadata": {
        "id": "WggR08P0Z2tv"
      }
    },
    {
      "cell_type": "code",
      "source": [
        "from torch.utils.data import random_split, DataLoader"
      ],
      "metadata": {
        "id": "Ftm4j8t0aP5v"
      },
      "execution_count": null,
      "outputs": []
    },
    {
      "cell_type": "markdown",
      "source": [
        "**Tensorboard** : It is an open source toolkit which enables us to understand training progress and improve model performance by updating the hyperparameters. TensorBoard toolkit displays a dashboard where the logs can be visualized as graphs, images, histograms, embeddings, text etc."
      ],
      "metadata": {
        "id": "hENdz9QJcqnG"
      }
    },
    {
      "cell_type": "code",
      "execution_count": null,
      "metadata": {
        "id": "SBuP4VvGwRyT"
      },
      "outputs": [],
      "source": [
        "%load_ext tensorboard\n",
        "current_time = str(datetime.datetime.now().timestamp())\n",
        "train_log_dir = 'logs/tensorboard/train/' + current_time\n",
        "train_summary_writer = summary.create_file_writer(train_log_dir)"
      ]
    },
    {
      "cell_type": "markdown",
      "metadata": {
        "id": "BfayKVDnV9Fs"
      },
      "source": [
        "# **Data Preparation**"
      ]
    },
    {
      "cell_type": "code",
      "execution_count": null,
      "metadata": {
        "id": "S4my3VCgWAX5"
      },
      "outputs": [],
      "source": [
        "def prepare_data(batch_size):\n",
        "  # transform to normalize the data\n",
        "  transform = Compose([ToTensor(), Normalize((0.5,), (0.5,))])\n",
        "  \n",
        "  # Download and load the training and test datasets\n",
        "  trainset = MNIST(root='MNIST', download=True, train=True, transform=transform)\n",
        "  testset = MNIST(root='MNIST', download=True, train=False, transform=transform)\n",
        "\n",
        "  trainset_size = round(len(trainset) * 0.8)\n",
        "  validset_size = len(trainset) - trainset_size\n",
        "  trainset, validset = random_split(trainset, [trainset_size, validset_size])\n",
        "\n",
        "  train_dl = DataLoader(trainset, batch_size=batch_size, shuffle=True)\n",
        "  valid_dl = DataLoader(validset, batch_size=batch_size, shuffle=True)\n",
        "  test_dl = DataLoader(testset, batch_size=batch_size, shuffle=False)\n",
        "\n",
        "  return train_dl, valid_dl, test_dl"
      ]
    },
    {
      "cell_type": "markdown",
      "metadata": {
        "id": "-cNT1ol8Xvyi"
      },
      "source": [
        "# **Model Definition**\n",
        "![fc.jpg](data:image/jpeg;base64,/9j/4AAQSkZJRgABAQEAYABgAAD/4QAiRXhpZgAATU0AKgAAAAgAAQESAAMAAAABAAEAAAAAAAD/2wBDAAIBAQIBAQICAgICAgICAwUDAwMDAwYEBAMFBwYHBwcGBwcICQsJCAgKCAcHCg0KCgsMDAwMBwkODw0MDgsMDAz/2wBDAQICAgMDAwYDAwYMCAcIDAwMDAwMDAwMDAwMDAwMDAwMDAwMDAwMDAwMDAwMDAwMDAwMDAwMDAwMDAwMDAwMDAz/wAARCAGaAkIDASIAAhEBAxEB/8QAHwAAAQUBAQEBAQEAAAAAAAAAAAECAwQFBgcICQoL/8QAtRAAAgEDAwIEAwUFBAQAAAF9AQIDAAQRBRIhMUEGE1FhByJxFDKBkaEII0KxwRVS0fAkM2JyggkKFhcYGRolJicoKSo0NTY3ODk6Q0RFRkdISUpTVFVWV1hZWmNkZWZnaGlqc3R1dnd4eXqDhIWGh4iJipKTlJWWl5iZmqKjpKWmp6ipqrKztLW2t7i5usLDxMXGx8jJytLT1NXW19jZ2uHi4+Tl5ufo6erx8vP09fb3+Pn6/8QAHwEAAwEBAQEBAQEBAQAAAAAAAAECAwQFBgcICQoL/8QAtREAAgECBAQDBAcFBAQAAQJ3AAECAxEEBSExBhJBUQdhcRMiMoEIFEKRobHBCSMzUvAVYnLRChYkNOEl8RcYGRomJygpKjU2Nzg5OkNERUZHSElKU1RVVldYWVpjZGVmZ2hpanN0dXZ3eHl6goOEhYaHiImKkpOUlZaXmJmaoqOkpaanqKmqsrO0tba3uLm6wsPExcbHyMnK0tPU1dbX2Nna4uPk5ebn6Onq8vP09fb3+Pn6/9oADAMBAAIRAxEAPwD9/KKKKACiiigAooooAKKKKACiiigAooooAKKKKACiiigAooooAKKKKACiiigAooooAKKKKACiiigAoprPtPbHcntXwj/wUA/4OOv2Xf8Agnn4pfw3rnizUPH3jK1ujaah4f8AA8MOq3WkMrzxy/apXmitoZIpbdo3t2m+0IzxkxbG3AA+8KK/IE/8HLnx+8YH+1vA3/BOf9oDxX4J1T/TPD+t/wDExj/tjT5PntrrbDpM8S+bCUfEc0qDdhZHGGPf/s1f8HX37OfxW+Kdp8P/AIlaT4/+AfjaPZYavF4y01I9L0vVxNHBPp73MbmWLy5XkBnu7e2jVIHaUwnCUAfp/RWb4U8YaX4+8MaZrmg6np+taHrVrFfafqFhcJcWt9byoHimilQlJI3RlZWUkMrAgkEVpDpQAUUUUAFFFFABRRRQAUUUUAFFFFABRRRQAUUUUAFFFFABRRRQAUUUUAFFFFABRRRQAUUUUAFFFFABRRRQAUUUUAFFc7qfxb8K6LqE1reeJNAtbq3O2WGbUYY5Iz6MpYEfjVzwz480TxmZv7H1jS9U+z4837Hdxz+XnpnYTjPvWMcRSbspL70VyytexrUUUVsSFFFFABRRRQAUUUUAFFFFABRRRQAUUUUAFFFFABRRRQAUUUUAFFFFABRRRQAUUUUAFFFFABRRRQAUUUUAFFFN3ZbHvQB+Wf8AwWz/AOCmnxO8R/tPeFP2Hv2W7rT7P44fFS1D634qfVordfBmnvFNNJHGyM0kF59khkuXkK+bFbtE1uks88Tw++f8Ev8A/ghT8Bf+CXfhbQ7vw94Z0/xT8UrO1RNR8e6xbedqdxcFJ0kktFdnTT42W5li8u32l4tiTPOymQ/GX/BrVoV5+2Z+0d+1V+2j4mt/+Jt8SPFUvhnQYrrW7rUL7QbPMd/c2DFlSKS3SKXR4IX27lWxZVSFPlf9kfEWtR+G/Dt9qUlveXUdhbSXLQWcDXFxMEUsVjjXLO5xgKoJYkAcmplJRi5S2RUYuT5VuXl+6K8c/bF/YG+DX7f3geHw78Yvh74f8c6fabvsct3G8V/pm6SKR/st5CyXFt5jW8Qk8mRPMVAj7lyp5D/gmX/wULm/4KN/Dfx14mk+G/in4Xx+EPGN54Ui0rxKwj1eQW8NvIZbq22j7JNmYq0BaTaUzvbPH0litJRcbX6pNekkmvvTX6mcZJ3t0bXzTaf3NH4g/Ar4seOv+DYL9uDwj8AfiH4l/wCE4/ZB+NWrTf8ACBeINU1G3t7/AMBztPELj7SZGRI7eKS6ha6+5Ayy/a4fLl+1Wr/t8v3RXxd/wcH/ALMGl/tUf8Egvjbpeof2fbXfhHQJ/GmmX1xpyXkllcaUpvSIdzKYpJ4Yp7Uyocql3Jw6lo23/wDghv8AtQ6t+2F/wSX+BvjzXf7QbWrrw+dI1C5v9RfULrUrjTZ5tNlvZZ3UM8ly9o1w27LAzFS7kb2ko+sqKB0ooAKKKKACiiigAooooAKKKKACiiigAooooAKKKKACiiigAooooAKKKKACiiigAooooAKKKKACiiigAr85v+C8v7bnjjwzd/DX9lz4J6l/Zfxq/aJvhp8OqJI6t4Z0kPtnvCUBdNwEgDqCUSGdhhlU1+jNflb+0j42s/2d/wDg5++HPi74iaxpOheDPFPwgvtF8P6rrFzHaWVpdRTySzRCaQqiyEBuCwJ88D+IA8uKs+WnLaTs/ubt87WfkVHqz0T4L/8ABsn+y74S+GelWPjzwzrvxQ8YLCH1fxNrHibVIrrVbkgGSTy4bhERN2dq4JC43Mxyx8z/AOCgX/BG34c/8E+P2fde+PP7NPii/wD2efHHwq0641p7iTXry80fxDCg3fYruO6llGZDhIyvBeQKyOGGP0m+Dv7R3w//AGhoNVk8B+N/CXjSPQ7kWeovoWr2+oLYzEbhHKYXYIxHIB6ivhf/AIOCvGei6j4M+Duh+MNQST4H2/xN0qT4ww20L3f2PSlVp7UXywq8kNpJcJGGYhcnyxnnnaVKEo8kkrdilVne92eL/sv/APBZL9vb9sP4J6D8QPhp+yX4Y8QeDPsUJuNT1TXV02bxDLHuS5kso5JkOxpFIQhJFUgjL9vvv/gm5/wUL0v/AIKF/CPWtWHhvVvAvjLwXrdx4a8W+FdTcSXWgajCfmiMgAEisuGDADqQQCK9T+DWo6F4i8JaXqngvVvDd98O7vSLWPQYNDgiNkka7/nhliYxtC0ZiVI0UBPLPJ3YX4e/4Je+MLfxZ/wWW/bxk8ITef4Dj1Pw3DdPGN1u2uxWLw3uw9NwZCr45LKCe1czp+xcXBu2is23v6t7b+lw5ua9z9F6KKK7TMKKKKACiiigAooooAKKKKACiiigAooooAKKKKACiiigAooooAKKKKACiiigAooooAKKKKACiiigAqNjl/51JQRmgD8YP+DRrxoP2fh+05+yn4jl8P8A/Ca/CXx/c6jLcWmqeZ/bf3dKvGtreSOOVre3m02AmYjn+0IVZI227/2T8Q3t5pvh6+uNPsf7Sv7e3kktrPzlh+1ShSUj3twm5gBuPAzmvyM/4LM/svfFL/gnl/wUE0v/AIKGfAvQ/wDhL9P0XSk074ueD4b28gm1XTo4Ps737lXZXt1tUtgyrGUtZdPtrtop1Fw0X6G/sHf8FFvhL/wUh+Ddn4y+FXizT9aia0huNT0Z5o11jw28pkVYL+1VmeCTfDMqk5jlETNE8ke1zMotxaTt59vvuiouzu1c8N/4Iu+E/jv4Nv8A49SfGr4J/wDCoV8cePbnxxpH/FYaf4g+0/b1CzWv+iE7fs/2eI+Y+3zPP4Rdhz9yUA5Fc78Uvi34X+B3gS/8U+NPEvh/wf4Z0sx/bdX1rUItPsLTzJFij8yaZlRd0jogyRlnVRyQDo5LljFKyjGMV6RSit79EjNR96UnvJuT9ZO7+9tv59rI8g/4Kl+NvCvgv/gn98UIfG8Xiebwv4t0tfBd6PDtn9s1RBrc0ejo8EQVmkZJL5G2okj4U7Y5W2xtx/8AwSV+Gng79kD9k/wr8DfDd9rE1r4M+2tYTaxPFLc36XN5PeyEtGkaFkedxtCA7FU84Yj87vE/jzxh/wAHP/8AwUP8Ft8P7fXPCn7HX7NfidNTv/FE11f6fN461ON4pNlvHFLE8c7RLsgdSk9lBdTTyPHLcw2h+5vH3hy4+GnxG1DT4XuLeTTLotbSeaPNCZDxPuXGGKlW4wQT0B4r8J8XuM844UxuAzjC+/hW5QqwezbtJa292VlLld+mqaunz4ipKm1JbH24DxRXlPwT/aOt/FMNro/iJv7P8QP5aRNJGY49QDruRxxhWYY4OAxZSud20erV+qcN8T5dn2CjjstqKUXo19qEusZx3jJdU/VXTTfRCopq8Qooor6AoKKKKACiiigAooooAKKYWbdXAfHP9rH4W/swf2X/AMLL+JXgD4djXPN/s3/hJvENppP9oeVs83yvtEieZs82Pdtzt8xM43CgD0KivPfgZ+1j8Lv2oP7U/wCFafErwB8RP7D8r+0v+EZ8Q2mrf2f5u/yvO+zyP5e/y5Nu7G7y3x9016EOlABRRXk/7bv7Yfh39g39m3XPif4p0nxNr2k6HNaW503w9Zpd6ney3V1FaxRwRPJGrsZJl4LjjOMnAMyko6vyX36L8SoxcnZHrFFfJ/wU/wCCvfgv48/BP4keJtF+G/xyg8YfChLeTxH8M7/wdJbeOLUXGWtdlg0m2Tzo1aRNkp+QEnaeK+qtMvf7S023uPJnt/tEayeVMm2SPIB2sOzDOCOxrSUWt+yfyauvvRnzJ/j+Fr/miaiiipKCiiigAooooAKKKKACiiigAooooAK+Sv8Agsx/wTK07/gqL+yJN4PWLR4/F2g38OteG7zUlYQR3EbDzLeR0BdIZ4t0bleRlWwSgFfWtFZ1KanHlf8Aw3VP5MqMnF3R+OH7Dfiv4l/8EnvHnxPuvEn7Efj+wuPiDd2ESWfwg0+xv/Dem6dYRPFaqj/afOluH86aSaabYzuw+VRwPiz9nX/gnp+2p+0Bq3izT/Bvwv174U6l46PiS38V/EXxlqEtpqPi7StUkjeO0vI38xmkh8kbHTcytK+HAyT/AExYo6VzypYh6Kat/h1+/mtf5W8uhpGpBa2/HT+vmfj5+wx/wbc/FH4TrrGoeKf2jvG/wtt9ekPn+E/hFqM2j6RFGyRpJt8xmVHbywS6Juyc7u1fpr+yP+x58Pv2Hfg3Z+BfhvoMeh6HayNcTFpGmutQuGx5lzcTMS8sz4BZ2PsMAAD06itKeHUXzSbk+7/yVku2iJlU5ulv6+8KKKK6DMKKKKACiiigAooooAKKKKACiiigAooooAKKKKACmlznp+VI0mO/6/5+lfkH+1H/AMFmP2gf+Chn7U2u/Av/AIJ56V4f1nT/AAf5EXi/4uahHBPpekyyXcSb7J591u9uqpOpcw3Mt0guHtYStus8oB+vu8//AF/Wk3nP+Ffjl4U/4NRtU/aN8LadJ+1l+1d8bvjBrem2sT6baWOsO1r4buJkBvo4p9S+2NcRu6QBZFitWKwBnjJZVjXxV/wai6r+zp4V1KX9kz9q744fCDWtRtJn1O0v9XdbXxJcxIfsEcs+m/Y2t40d5w0jRXTKJyUQFWWQA/Y8dKK/IH9lv/gs1+0D/wAE8/2ptD+BX/BQvSfD+j6f4v8APh8H/FvTo4YdK1WWO7lTfevBttkt2V4FDiG2ltUNu91CFuGni/Xwuc/17CgB1FAORRQAUUUUAFFFFABRRRQAUUUUAIVzX5YftYf8Grnwv8Z/GW1+Jn7OfxB8X/sr/EKC7knkuvCpln06MTC5+0G2gSeCazkkFwse23uEt0hjMa243lh+qFIUBOaAPxx8J/sJf8FifBfhXTNHs/2tfghNZ6TaRWcEl/bLf3TxxoEUy3E+gPNNIQBukldpHOWZmYklPhv/AMGwXj79qr4g6L42/be/aS8X/GW7sLq71FvB+j3lymjWVzNexyyRwXUxUxWc0ESrJBaWlmV3IsUiiBGf9kKQoCc0Ach8AfgB4M/Za+Dfh74f/D3w9p/hXwb4VtRZ6Zplmp8u3TJZiWYlpJHdmd5HLPJI7u7M7Mx4X9rvwXaiLRfFElnJepp9wlrfQKXUT25YsAzg/uxu3LuAyTMOeAK9qrP8VeGrXxj4cvdLvU32t9E0T4ALLnoy5BAZTgg4OCAe1fJ8ccNxz7JK+W2XNJXg2k0pxfNBu/TmST6NNppptPOrDni4nzj4O+Guk+I9XbwZrF3cfaJIvt/hzVoYHX7RBJGZNrK//LP+PZgYcTDeCfm9I+FPxW1Lw14jHgvxofK1iLC2F8zZj1FDwoLHqxxhWPLEFWw4w3mfhnRLrxD4Bm0+0tY4PHHw7vTNbLEiSTXEImZnQfMRIY5SzfdI+6qgmQ59UtrLRv2rfhJbzXC/Z9Qt8xmdIirWN0FUvtBJ3RtlTt3HKkZIYZX+evD+nXpctTJkqeL5OeEG2oYiknyzw9Ry19th5qUITfvKHI5JxbZx0b/Z3/Py9UenUV4r8P8A4v698MvE48N/EDzFhkfyrHVpF/dNtCjmTADoQVO8/Mpb5+p2e1V/RXC/FeDzyhKpQUoVKb5alOa5alOXaUfPdNXTWzuml2U6iktAooor6c0CiiigArL8XeL9L8BeFtT1zXNT0/RdF0W1lvtQ1C/uFtrWwt4kMkk0srkLHGiKWZmIVVBJIArUr8gP+Drf9ofXPiB4d+CP7HvgbVPD9r4m/aS8VWdtqz3l9H/oNml7bRWK3MIhlnit57+VJRcR7WH9lTIqyhpFUA5Dxz+2f+1F/wAHC/x88SeEf2RfGGofA39mLwTdQ6XrfxLmjmsNU8UXH2i3lkaydEFzHIkS+ZFaxSW5aJv9Mmh+1wwJ69+zD/waFfsmfBrws0Pjyx8YfGDWrq1tEuLvWNauNKtLa4jRhPJaQae8DxxzO+fLnluCgjjUSZ3s/wCiH7Kn7M/hX9jj9nDwX8LfBdmLPwz4H0qHS7PdFDHNc7F/eXM3lJGjXE0heaWRUXzJZZHIyxrP0P8AbS+Ffij9qbUfgnpfjbR9U+KWj6Q2u6joFmXuJtNtFkijLXDopjhkzPCRFI6ylZFcIVO6iOsuVb66eiu/uWr7IHouZ7afjovveiPz/wD2nf8Ag0K/ZL+M3hVYfAdj4v8Ag9rVpaXaW13pGtz6ra3NzIiiCS7g1B53kjhdM+XBLblxI4L52MnkPgb9tD9qL/g3p+Pvhvwj+114v1D45fsw+NrqXS9E+JcMc19qXhe4+0XEsbXruhupJHibzJbWWS4KxKPsc0v2SWCT9rsV57+1X+zV4W/bH/Zy8afC7xpa/bPDPjjSptKvdsUMk1tvHyXMPnI6LcQSbJopCjeXLFG4GVFAHX+FPF2l+PfC+l67oWpafrWh61axX2n6jY3CXNrf28qCSKaGRCUkjdGDK6khlIIJBr5F/wCC/Pw08RfFr/glv440fwvofjbxHq39p6HdCx8H2kl1rzRQ6vZyyvZxoCxmSNWdSB8pXccAEj5t/wCDZz4o698ANX+P37FXjW/8/Vv2bvFVy3hafUII9Lvta0O7up2M8dht837P52y7E7SzArrVuocIIS/6vis6kOZLyaf3NP8AQ0pz5JX/AK10PwV8O/sm/HDXf2Pv2sNS8K/D79pHXPB/xO07wrDo7/GyGG8+KGtajZ6tFHdAxQA3H2KG13siz8LtDxgh5SLP/BQ34GfEDWf+Clms+J/GfwP/AGlPH3jzw58S/DOsfDvxp4T0u81Hwt4e8HWskEt3aIbaQLHdORcl0MbSNIFIZd+X/eGitoy5atOqt4NNfJxa9Pht/glKOzMJR5qc6b+3f8Y8tvNbSs/tpS6JH47f8Elf2e7rwd/wWO+IXiyP4C/GmFtW/wCEhudV+I/xK8N6hoOoWbTXkRhtIbn+17rT9WhYBo1eCzt3WOOJ9zrur9iaKKmn7tGnRW0IqK9E3/n+ru7suXvValV7zfM/Vpf5foFFFFABRRRQAUUUUAFFFFABRRRQAUUUUAFFFFABRRRQAUUUUAFFFFABRRRQAUUUUAFFFFABRRRQAUUUUAFFFFAH5X/8HUv7V/jHwX+zF8Pf2dfhpa6hN8Qf2qPEH/CLWkkFwLNXso5bZJ7QXBuIhFJdT3dlbkSBoXtpbxZCmVJ+4P8AgnX+wb4N/wCCb/7I/hL4V+DbLT449FtI5NY1O3tTbyeI9UMSLdajMGeRvMmdAQrSOIkWOJCI4kUfm/8At3+FNJ8Zf8Hh37JtnrGmafq1rD8NZb9ILy3SeJLi2TxPcW8wVgQJIp4opUbGUeNGBBUEfsgOBQBT8Qa9p/hTQr3VNUvbPTdM02B7q7vLuZYYLWFFLPJI7EKiKoJLEgAAk1D4S8WaT4/8K6drmg6np2taJrFtHe2GoWFylza30Eiho5YpUJV0ZSGVlJBBBBr5m/4LYeAfhb8Rv+CaHxSsfi7d6TaeGrfR572xOo65JpEEuqxRO9gnmJLF5jm4EeyFiwkcKNrHArqf+CUPizQ/Gf8AwTQ+A914d1LSdW0yHwNpFl52m3Ec8Ec0FpHDNDujJUPHLG8br1V0ZSAQRRR99VW/sOC+UlPfzTjt2ad9bIre46f95S++Lj+DUt+6atpd6H/BRX9hDwb/AMFIf2SPFnwp8ZWWnyR61ayPo+p3FobmTw5qgjdbXUYVV428yF3yVWRBLGZInJjlcH4x/wCDYn9pXxVqXwJ+Kn7MfxAu/wC2fG37I/iqbwa+rwSzXFnfae1xdxW0cc87+a/kzWd5Eg8mFI7VLJFXIcD9P9gzX5taj8QPBF7/AMFKv2mNN8OaNb6H8RPDmt+HpPEmoQvK91q0cvh+wk0+5MpUCNUCzwpCjsENu8pCtcHd8T4g8ZPhfKJZt9XdZRlFNJqNlJ25m2nZXslZO8nFaJtrOtU5I81j9Jh0orwnwLonjzXvDkN54T8fW+p6bcfNI2pxf6TbzdGiYMsxGBtON2DnIGCGbUb4u/EzwtdI2s+BY76GZGCJpu5mVgV5ZkaUAYJ4IGex4IrxsL4oYd0IYnHYKvSpySfOoKrTs9mp0XUutVZtK99L2doVdWu0/wA/yPYqK8p0v9r7w5Jfx2eqWesaPdLlLnz4A0dtIoO5TtJc4YbfuA56gc47LQPi/wCF/E8du1nr2lyPdP5cUTziKZ23bQPLbD5J6DHORjqK+jyrjzh3MnyYLGU5S/l5kpdPsytLdpbb6blxqwlszpKKKK+sNAooooAKKKKACiis3xd4v0vwB4X1TXNc1LT9F0TRbSW/1DUL64S3tbC2iQvLNNK5CxxoiszOxAVVJJAoA0qK/MD9pb/g6/8A2c/hR8Urr4f/AA10nx/8e/G0u/T9Ij8G6akmlarq5mkgg09LmRxLL5kyRgT2lvcxsk6NEZjlBwA/4OXPj74P/wCJv45/4Jz/AB/8KeCdK/0zxBredRk/sfT4/nubrbNpMETeVCHkxJNEh24aSMZYAH6/UV8HfsAf8HHn7L3/AAUO8VJ4a0HxVqHgHxjdXYtdP0DxxDDpV1q5Z4I4/ssqSy200kstwI47dZjcO0chEWxd5+8QeKAPGfjB5fwk+OXh/wAYj7QlhqmbLVCm8RjChQ7EZz8pVhGAMm3yOSSKcyj9mz46Q+W8cXhbxg+ZQyRotpIGPCnI2pG0inJAASQjDFc16d8Wfh/F8TPAd9pLiNZpE8y1kfH7qZeUOcEgE/KSBnazAda4H4ZLp/7Q37Pq6DdPHb3mloloXRFZrdowPJlVSScMg2k/Lu/egYHNfz/xBw9Xw2f1cPl9oVqjeLwrvb99FRjiaTd1eNaPK5XaS5pOzszknBqdl6r16r5npXjnwNpvxF8OTaXqkPm28vzKy8SQuOjoezDP0IJBBBIPlvhD4h6h+zzrK+F/GMsk2i7C2lassbOPLX/lmwGTgcDbyUJA5Qqw3P2afiFJq2hT+F9SXydb8L/6JIpdD5saMUG0L/cwEJGR907iW47bxz4G034i+HJtL1SHzbeX5lZeJIXHR0PZhn6EEgggkH6uph/9YsFQ4q4ckqOMUbLmT5ZWfv0K60bSkmr7wkuaDtvfxpVIb/1ozUtLuK/tY54JI5oZkEkckbBlkUjIII4II5yKkrxHS9U1L9lfxHHpupSXGo+BtRlItLsruk05zklWA/ElRwwy6jO9D7VaXcV/axzwSRzQzIJI5I2DLIpGQQRwQRzkV9VwvxRHNYTw+Ig6OKotKrSb1i+jT+1CW8JrSS7NNLSnU5tHuSUUUV9WaBX44ft4eLtL8F/8Hh37Jd5rGpafpNpN8NpbGOe8uEgie4uE8T29vCGcgGSWeWKJEB3O8iKoLMAf2Pr8r/8Ag6j/AGUvGXjP9mT4e/tF/DO71CH4g/sr+IB4qtEgtxdrHZSS2zz3a25t5RLJaz2dncHzCsKW8V40gfCgAH6oDpX5f+AP2mfgLoH/AAc16r4T8JzaDpPjfXPhzd+Hteh0/wAOzWcup+IFvE1BxcTLAqTS/YYi/ns7KQgTeWwtfZ3/AATs/bz8G/8ABSD9krwn8VfBt7p7xa1aRprOmW92bmTw3qixo11pszNHG3mQu+NzRoJIzFKo8uVGPuQORRT92vGs/sqSt35ouO/ZJt2tq0tVbUqe9RlS/m5de3LJSWnqkt9rrrdFGOaK8O/4KKft4+Df+Cbv7JPiz4q+Mr3T449FtJE0fTLi7NvJ4k1Ro3a102FlSR/MmdCCyxuIkEkrgRxOwAPjT9mT9lHx74H/AODo79or4varocdn8PPGXw+tNH0bVW1G1Y312lt4e3RCASGcEfY7k5ZAMRE5wQT+ngr8qf8Aggv+zP8AFT43fsaeIPjj8RvEGoaD4k+OPjXVviD4e8PLFLDpugWd5cSThreOZBc263N081whE88Rt3t5UHmSzM/6H/Br4zXHiK/m8NeJYf7O8WadlJI3AVb0AZ3rjjdjkgcEfMvy5C/A4XirGYTOJZVn1ONONWbWHqxvyVFuqcrtuNZLo7KbT5Fok8VUalyz+X9dz0eiiivvjYKKKKACiiigAooooAKKKKACiiigAooooAKKKKACiiigAooooAKKKKACiiigAooooAKKKKACiiigAooooAKKKKACiiigD8gP+Drb9nrXfh/oHwR/bC8DaX4fvPE37NviqyutWS8sY/8ATLOS+tpbF7mYTRTS28F/EkQt49zH+1JnVogsjN+nv7Kv7TPhX9sb9nPwX8UPBV59q8M+ONKh1Sz3ywvNa71+e2n8l5EW4hkDwyxq7eXLFIhOVNdl4s8I6T498LaloeuaXp+taJrVrLY6hp9/bpc2t9byoUlhlicFJI3RmVlYEMGIIINfi/43/Yw/ah/4N6fj94l8Xfsi+ENQ+OX7MPja6i1TXPhpPLNf6l4XuPtNvHItkiObmSR4m8uK6ijuGES/6ZDN9khncA/Yr4tfBfwb+0B4Jm8N+PPCfhnxt4duJEml0vXtLg1KyldDuRmhmVkLKeQSMg8ipvhb8JfCvwN8DWfhfwT4Z8P+D/DWm7zaaTomnQ6fY2u92kfy4YVVF3OzMcAZZiTyTX5ofsw/8He37Jvxm8LNN48vvGHwe1q0tLV7q01jRJ9Utbi4kRjPHaT6ek7yRwsuPMnity4kjIQEuqH7T/8Awd8fsm/Bjwss3gS+8YfGHWru1umtrXR9EuNKtbe4jRTDHdz6gkLxxzO23zIIrhkEchZM7FcWl0uu4PW1+h+h37VX7THhf9jf9nLxp8UvGt39k8M+BtKm1W92ywxzXOwfu7aDzXjja4nkKQxRs6+ZLLGgOWFflV/wQg/Z28Qfte+BP2jf2zPFul/8VJ+0P4quLrwXbX041XUNG0axup1e3hvgfOaEsfsS27QwjGj2zBNhh8vH8DfsY/tRf8HDPx88N+Lv2uvB+ofA39mPwRdzaronw0hkmsNT8T3H2m4ijW9R3FzHIkS+XLdSx25MTf6HDF9rlnT9nfCfhHSfAfhXTND0PTNP0XRNFtIrDT9PsbdLa1sLeJBHFDFEgCRxoiqqqoAVQAAAK8vPMpoZpl9bLcT8FWMovy5la681un0aTJlFSXKz5P8Age/iG1utRvPDF7J/aWmJHdvpYVmXUoFLK+QOGK7lwp+Y+YShDAZ+mfhT8VtN+LPhwXtkfKuIsLdWrNmS2c9j6qcHa3QgHoQQPnL4u6XcfBD48SXmlx/ZY1lTUbJdwVGRvvJhMYj3CRNvB2jHIOT6Pd+BP+FmWEfjzwDqX9j65NFuvLOGT93PcAq7xOTgBsjkMuyQ7GIAYsf5U8K80zTIK2JyfDRdWphZTVXD31qRUn++oc1kpxulKC0qQcWvf1fDQlKDcV06fqj2LWvD2n+JbVYNRsbPUIVcSLHcwrKqsARkBgRnBIz7muM8UfsyeDfFHnv/AGX/AGdcT7f3tlIYfLxj7qcxjIGD8ncnrzVj4NfGaD4nWE1rdQ/2f4g07KX1i4KspB2l1B5254IPKHg9i3b1/R9PB8O8U4GONlRp4inUWjlBNrdNarmjKOqe0ou60Z2WhUV9zx27/Za1Dw/ayR+FfGeuaTCUMgtpJWCyzYxktGUCggKM7GIxnngCT/i8nhL/AKF/xR9o/wB2P7Nt/wC/Od2f9r7vbv69RXk/8Qwyug+bKq1fCeVKrJR/8Anzw6tJctldtJPUn2EV8N16M8h/4ac1Lwl8vizwbrGlxx/uGuoBvimnHUJuCrtOHIIkbgcbhzW3oH7UvgvXY7fdqUmnz3D7PJurd1MZLYG51BjAPXO7AB5xzj0Ouf8AFHwr8OeNPPbUtF0+5mudvmT+UEnbbjH71cP0AHB6DHTiiWS8Y4NXwWYU8R2jXpWfzqUZR10Sv7N6Nt3aSDlqLZ39V/kami+IdP8AEtq0+nX1nqEKuY2ktpllVWABwSpIzgg49xVyvKfEv7HnhXWNzWLahpMnlFEWKbzYg/OHYSZY9RkBgCB2OTVf/hUHxG8Lf8gXx59v+0f67+042by8fd2bxN1yc429B17H+s3E2Ddsxyp1IreeHqwnf0hU9lPe3fS7drantJr4o/ceub/m7V+IXx2+K/jr/g58/bf8XfAL4d+Jf+EH/ZB+Cmqwnx74g0vULe4v/Hk6zyrb/ZjGzpJBK9rM1r9+BVi+1zeZL9ltU9l/4KMf8F8fAPwI0PxN8D9b8epD8RvF2nXXhEal4C3apqfga9uVuLL+0bh7SbalxZzoWe1idbxX8srEAVNfQH/Bvz+wtb/sB/8ABL/wP4aa+8L6zrfiuW48X6xrXh3U59Q0vW5L1gbS5gklCfL/AGfHYR/u0VCYiw3Fmkf6jI+IKWaU/aRo1aT/AJatKdN6b/ErO11ezdrq+jV7jUUj3r9jv9gP4N/sAeBJvDnwe+Hvh/wPp95t+2y2kbTX2pbZJpI/tV5Mz3Fz5bTzCPzpH8tXKptXCj1/aDXEfGb9pz4a/s3RaW3xE+IXgfwCuuStBpp8Ra7a6WL+Rdu5IfPdPMYblyFyRuHqK8X+LH/BShvhx/wUm+F/7O1v8MPGt8vxCtb27m8a3URsdAtVgspbryrWVkYXs48tVkjQoIhMh3OdyD3o6tRXVtfNK7/BXLlonJ9Ff5bfPXTTqcb/AMFQ/wDghR8B/wDgqH4X1y88ReGdP8K/FC9tXTTvHmj23lanb3ASBI5LtEKJqEapbRReXc7isW9IXgZvMHgP/BFD/gpt8UPDX7Tniz9h79qS6sLz44/Cu036J4rXVorhfGlgkUM0cbs7LJcXn2SaO4SQL50tusrXCRTQSvN9YfFv/gpI3w3/AOClHwx/Z1h+F/ja9/4WBbXt3P40u4jY6DaC3s5brybWVkYXs48tVkjUoIhMh3OdyD4P/wCDqDxPb/safGX9kv8Aam0OPUI/GXw08atp11b6bYT2UniXSyFupLG41mNGW3j2Q3MC2soczJqd4yIyRXCsLWKmtnf8G0/xTCWkuR72T+/Y/ZAHIrxn938Hf2of+XhNJ8bRf7YiS6Z/+BB23j22C57Ac1f2Qv8AgpR8Bf29NNhm+EfxV8H+NLua0mv20m3vPs+s21vFOLd5ptPmCXcMYkKAPLEqsJIyCVkQt1v7TXw/i8b/AAuvJ8RreaKjX0EjYHyqMyJnBOGQE4GMsqZOBXwPiJl9eplsczwMU8Rg5KtC/Xlvzwv2nByj62e6TWNaL5eZbrUxP2gNHvvh94p0/wCIGjDb9i2W+rxJIsf2qEuoXPynduzsJOSMRkD5cj07wr4ltfGPhyy1Sybfa30SypkgsueqtgkBlOQRk4II7Vh/DzxZZ/Gj4XRXE6RyJqFu1rfwI23Y+NsicMSoOcjJ3bWU8Zrgfg5rcvwc+KOpeBdVupBps7+doslw52ncchFO0AlwecEL5kbAAlufnsLmdDKc4pZnh53y/M+Vp9IYhxvGXkq0VZrV+0Wtr6SpKMuZbS/P/gnr2v6BZ+KdGuNP1C3jurO6TZLE44YfzBBwQRyCARgivEWufE37LGvpDi81zwGzs4IjDNZq7KDlsfI4YjAJCPuONrMdvvVR3dpFf2skE8cc0MyGOSORQyyKRggg8EEcYNfW8VcIrNJQxuDqvD4ul8FWO9r3cJradNvVwfXVW1vpUp82q0ZX0DX7PxTo1vqGn3Ed1Z3Sb4pU6MP5gg5BB5BBBwRVyvEdU0vUv2V/EcmpabHcaj4G1GUG7tA26TTnOAGUn8AGPDDCMc7HPrXhDxnpfjzRl1DSbyO8tWcx71BUqw6hlYAqehwQOCD0INTwzxZ9dqSyzMoqjjqS9+nfSS6VKTes6cuj3i/dlZrUp1L+7Lc1KMc0UV9oaH4//tQ/8EZ/2gP+CeX7VGvfHT/gnnqvh/RdP8YfZ5fGHwk1GSGDStWlju4nCWST7bdLd1edihmtpbVDcJazBJ1giwfBX/B3OfgAYfDv7Vn7Mvxe+Evjb+yrK8t4tOsf+Q2W82Oe6Wz1E2ktrbtLEREBJc5/eKZMxFn/AGexQRkUAfjB41/4O6f+F/ed4d/ZT/Zl+L/xa8a/2VeXlxFqVh/yBNvlRwXbWemm7lurcTTASgyW2P3arJmXcnQfsuf8EaP2gv8Agod+1Nofx0/4KGat4f1rT/B5uJfCHwj0+SCbStJmku5H2XiQbrd7dVSBggmuZbpBbrdTFbdoJf1/IzRjNAABXEfGX4NQfE6whurWb+zvEGnYexvkJVlIO4IxHO3PII5Q8juG7eivLzrJcHmuDngMfBTpzWq/Jp7pp6prVPVEyipKzPOPg18ZrjxFfzeGvEsP9neLNOykkbgKt6AM71xxuxyQOCPmX5chfR64j4y/BqD4nWEN1azf2d4g07D2N8hKspB3BGI5255BHKHkdw2B8Kf2gri88Rjwr4utf7L8QW+IBMxCx3kvYEAYVmG0qQSrknbjKqfhcs4hxOQ4qGR8R1HKM3y0MQ9qnanVa0jWXRu0aq1VpXTzjNwfLP5P+up6tRRRX6cbBRRRQAUUUUAFFFFABRRRQAUUUUAFFFFABRRRQAUUUUAFFFFABRRRQAUUUUAFFFFABRRRQAUUUUAFFFFABRRRQAUbeaKKAPL/AI1fsQ/Bf9pLxTb658RPhD8L/H2t2lothBqHiPwtY6pdQ26u7rCss8TusYeSRgoOAZGOMk5Pgt+xB8F/2bfFFxrnw6+EPwv8A61d2rWE+oeHPCtjpV1Nbs6O0LSwRIzRl442KE7SY1OMgV6hRQAmwUtFFAHnH7S3g641jwbBrmnt5er+FZf7Qt3wDhFIaThjt42q/IJPl4A+auA+Enj6z+FXjKzWP/RfBvjKJbq3eeaRk02dQUkj3soB2yAoxx93ymLYHP0Fd2kV/ayQTxxzQzIY5I5FDLIpGCCDwQRxg1886H8MIk1PxV8Nb+aRDI/9reHpZXEatIEZQxbaC5KFVYBWA8uXGCua/AfEbJcZgeIsLnmUpKrVdk3s60IvlhLqliKSlRdrXlGk9HFM5K0WpqUf6f8AwdvuPR/i58CF8danHrWjX8mg+JLdGUXUJZPtA2FQrlSCp6LvGTtJBDDaBH8GvjNceIr+bw14lh/s7xZp2UkjcBVvQBneuON2OSBwR8y/LkKfs6fFZ/HHhxtK1Q+T4g0T/R7iGVm8+ZEwvmsG53Zyr8khhk43AVqfFv4L2fxRjtbhbiTSta091a11GFcyRgNnaQCCQDyOQVbkHlgffwuH+s048X8HWc63vVaLfLCt0knf3adeDTSnZJyup3TuWtf3lP7u/wDwTs6K8p+FPxW1Lw14jHgvxofK1iLC2F8zZj1FDwoLHqxxhWPLEFWw4w3q1ff8N8SYXOsL9Yw14yi3GcJK06c1vCa6Nfc1ZptNM2hNSV0FFfIH/BRf/guj+zj/AMExvtGm+PvGX9seNrfb/wAUb4YRNS15c/Z2/fR70itP3NzHMv2uWHzYw5i8wjafgDSPjp/wUc/4L2fYZfAOl/8ADGf7Peq/Z7j/AISF7mePXtWtW/s6fzLa52R3lzlWknt5LSOytZo2lgluZCMn6Ao+/wD/AIKL/wDBdH9nH/gmN9o03x94y/tjxtb7f+KN8MImpa8ufs7fvo96RWn7m5jmX7XLD5sYcxeYRtPwV8TvhN/wUA/4LvnULnxlf3X7Df7Mt1YGK60C/nd9e1OJbe9gumuogtrdTQu+5JYLx7K2NvLbyJFcNGZH+9f+CdH/AAQu/Zx/4JjfZ9S8A+Df7Y8bW+7/AIrLxO6alry5+0L+5k2JFafubmSFvskUPmxhBL5hG46X7X/xeb41ePJPhTousaRpnh2zgbUPF+vXB3W+lQ2xMsiyuQEjSLy1ZmLAGRkjZ48OD4mfZzHLsNzxjz1JtRpwW85y0jFfPd9Fd+R73DuRzzTFeycuSnBOVSb2hBfFJ93bZdXZeZ+I37UH7J3wh/YM8P67ofwQ8L6/rl7Z6Xf6pe6zf3k15rGuaZY/arvfOVhSKKIqhdlhgiVI7GFpUkeMzH9n/wDggf8Atd2f7Zv/AASc+D3iVX09dY8P6MnhPWrW2v47qS1vNNH2TdMEVfJknijhuhCygpHdxgF1Ku3kX/BGX4S6D+0F+0D8Tv2h49OtbfTbW9HhHwjaSQRpdWkMNrAr3dwgVlS7ktvswaSGXDPPegqFda+Vfhzq3iH/AINUf28fE+l+KtI1DWP2Jfj/AOIPtGia5pr3l2vw5vf3pjgkt3klJkSAiOYndNeW9pDPG7yWstmPucxwdbKcvw2QV5udWknUrvo69W0ppLblpx5aUP7sO7d/PzTHUMbjZ4jCQ5KKtGmuqhHRN95Sd5yf80n0senf8Ftf+Cavxu/aP/ac+I2ueFPgP4Z+P+i/Er4f2XhXw3q2p+KbHTLj4T3cE8kk9xBBecSGZmR98BV8K6lgCQ/tXx28OftI+I/2+v2Stc0H9m6S68A/C2y/4n+sv480i3bTX1SxSyvIja7i7/YFBkzD5iz42oV4avvT4XfFvwv8cPAtj4o8FeJvD/jDwzqnmfYtX0TUItQsbzy5Gify5omZH2yI6HaxwyMDggit/wAzNeDh7UoqK1Slza9dZuztbS83taW2vfhrfvJOT0bi4/eoRvr1tBLtu7XZ8Jftu6B+0F4q/wCCrX7OviDwb8Bf+Eq+F/wwu7ttU8W/8JtptjhNVtxZ3LfYpSJ/9EjHnYQOZvuLtPNfL/8AweKazcfFX4Cfs8fAXw3pOoat8Qvix8So7jw9CjwQ2s8ltbPY+RJNLIgjkkm1i1CFv3YVZS7phd36Pft3/wDBRb4S/wDBN74N33jT4qeLNP0aKO1muNM0ZJo21nxI8RjU29hasyvPJvmhViMJF5qvK8ce51/PH/gjT+y98U/+Chv/AAUC1b/goZ8dNDHg/T9Y0p9P+EfhCW9u5ptJ06SEW6X6F5FVLdrV7kKrRhLqXULm7WGBTA0pH3YKHm3frq727WXTS/dsJay5vJK3pfXvd316drH5Rf8ABGT9kz9lP9rfx3q37Nn7TGmfED4T/Gy48VOPD3iq01Y6bNdypH9mk8MXVrdxSQW1wLhXkjLwiWaUmDzI3WOG4/T/AF3/AIJo/wDBTr/gnvrFx4i+CH7U3/DSOk/8S+71Dw34+nf7fq8sV04e0gTUpbiKC3MMm6WWHULSWRd6gb4oS3yf/wAHPH/BLnwb8C/+Clng34wax/aHhX4L/H66Nj4q1rSbItH4Q17y/Ll1B4YbQrJG6NFftb72ub6S21QLJCWWVPvD/ghN/wAFXPiPc/tHeMP2J/2nJftHxt+E/wBqtdF8VXVw0TeNbO1ZRsYXIjnubg27LdQ3CxlrqzDTSBXjea4APF/gT/wcT/Er/gnRqWvaN+19+yz8UPANqbua0XWvDNlI+k3GopPKEhtIr2RYXheBJMXEV/P5n2UMgdH3R/fHgn/gpj+zX/wUo8PwJ8H/AIyeF9e8caZdzro2jtczaTrl7LDCtzOLfT7pIrqZRCpcSRRFd0TAONkgHvH7Unhr7HpGmeMLRLf+0vC93FKfMHyzxmRdqtgbmxJtIG4ABpO5FfK37SX/AAbq/sa/t3+C4dWh+F2n/DvUtQ0+CC01fwC0egzWKJMZmH2SENYPMd0kUkkttJJtO0MDHGU/L8Pl+XYlY3gerQVKnGKnTSbd6dSUpc8U/hdOqnZJ2i1HlSVksOWLvSsfafwX+Ja/FbwHb6o0ccN0rtBdxR7tscq4zjPYqVbGTjdjJINdZX4a/GP/AIJSftvf8EmrS8uP2Wf2qNU8TeDdTt5re18P+MLKGe40u2tATp+nWzXcd1ZmUxM0fmKtlGTGMqqcR9Z/xEkftHfsCeI/7L/bX/ZH8QeFdJ/tX7HJ4w8Eq/8AZSebY/aLa1txPLNZ3twWSQuY9STanmDy99u6v9Vw1jpui8txleNXE4dRjUaTTd17s3FpWc0m9LxvfldttIP7LeqP2au7SK/tZIJ445oZkMckcihlkUjBBB4II4wa8V8S/DbUv2ctVbxN4R+0Xui8nVdLlfdiLJIZTjO1QcBjlkxkllLgeXfsZ/8ABeX9lP8Abo/s6z8H/Fzw/pfibUfsEK+G/E7HQ9VN5eZEVjClztjvLgSAxstm86hygDESRl/r+s+J+E8LnMIVG3TxFLWlVj8dOXdd4u1pQfuyV0+6VSmpevcx/A3jrTfiL4ch1TS5vNt5flZW4khcdUcdmGfoQQQSCCdivFfiH8Mte+D+vy+JPACyG2vHUX+kxQ+ap+bIKRjkoTkELhk3HaQpO30L4U/FbTfiz4cF7ZHyriLC3VqzZktnPY+qnB2t0IB6EEDy+G+Lq1TGPIs7h7LGxV9P4daK3nRb3VrOUH70LtO9m1MKjvyy3/P0Ooooor742CiiigAooooAK4T44fA+z+L2jbl8u11q1Qi1uiOGHXy5MclCe/VScjOWVu7oryc8yPBZvgqmXZjTU6U1Zp/g09009U1qnqiZRUlZnlPwp+K2peGvEY8F+ND5WsRYWwvmbMeooeFBY9WOMKx5Ygq2HGG9Wrl/it8KdN+LXhw2V6vlXEWWtbpVzJbOe49VOBuXoQB0IBHI/Cn4ral4a8RjwX40PlaxFhbC+Zsx6ih4UFj1Y4wrHliCrYcYb4fLMzxXDeKhk2czc8PN8tCvLe/SjWf8/SE3pUWjtNNPOMnB8stuj/Rnq1FFFfpxsFFFFABRRRQAUUUUAFFFFABRRRQAUUUUAFFFFABRRRQAUUUUAFFFFABRRRQAUUUUAFFFFABRRRQAUUV83/tPw+Jvif8AtofCz4Y2Xj/xh4J8G+IvBXivX/EFt4ba0tbrXTZX3hy2it2vJIJLq1jMWp3YMljLbXCl1ZJo3RWAB7B8a/j94N/Z08K2+seNfEOn6DZ312unafHMxe61i9dHeKxsrdA015eSiNxFbW6STSldqIzcV5/4T/ao8ZfGLxVpsXgf4N+MI/Ck93E114p8cSDwlayWQcJcm10+VJdXN5Gxby4Lyws4ZhFI4ulRoWm6D4KfsX/C/wDZ88VXHiPwz4P0+PxlfWjWF94t1OSXWPFGqW5dH8m61e8eW/uY18qFVSadwiQQooCRRqve+L/F+l+AfC2p65rmpafoui6LaS3+oahf3CW1rYW8SF5ZpZXIWONEUszMQFAJJAoA06K/JD4tf8HYHhvxn8Ym8Gfss/AP4oftR3mn2sl9qd3o9td6bGluBbBZreBbO5u5I1knMUjzwW6o6oFMqyK1UB+2T/wWQx/yah8Afb/ib2v/AM0NAH6/UV+SPwk/4Ov/AA14M+Mi+C/2pvgJ8UP2W7rULRL/AEy71i2u9Sje2Iud01xA1nb3aRtJAIo3gguFd2fcYljZj+rfhPxhpfj7wvpmuaFqen61omtWsV9p+oWFwlxa31vKgeKaKVCUkjdGVlZSQysCCQRQBp15D+1D4futAm0fx1pXy3/h+VI58sQskJb5d3zD5dzFCqjLCY5OBXrw6VT8Q6LF4l0C+06dpFh1C3ktpGjIDKrqVJGQRnB7g18xxjw+s6yitgE+WbXNCS3jUi+aEk/KSV9rq6vZmdSPNGx5D8ZLKXwnrOl/FDw1JJJbzJC2pqJjGLy3fyxH8rLwGXCnjIOxguQzV69oGv2finRrfUNPuI7qzuk3xSp0YfzBByCDyCCDgiviH46f8FU/gr/wTK+FHifwz8dfF1nYahpqSLp3hywDXWt67FNHcsqW9qgWRYpWt5VS6mMcAeVFaWPK5+I/h1+1X+21/wAFQtVXwT8FbW4/ZP8AgH4rlMum+N/Gduf+Eo1jSpyyrJpyBfka4s7uK4ia3CR/aLRhFqSMxDfAcH46rQxEM5cVRwuOV6sJyUPZYuMnCaipNNqtJNWSlKU4qWikzKnKz5uj/B/8E+4P+Ctv/BXv9l/9h/w5daB8TPGX9qePrPDWvhfwtFHqniG0dvs7Zli3pFaqYbiOYLdywCaJWMW9lAH5yeDf2lv+ChH/AAVt0bwvoPh24vP2P/gDrzwSW/iq7+0W+r6jYt9gmD215sju7hApaWB7VbS3kjlkhluWQAj9Av8Agmj/AMG3X7OP/BOT+yfEH9g/8LQ+Jun+Tcf8JX4qhS4+xXSfZpPMsLPBgtNlxb+bFJiS6i810+0upr7n8c+BtN+IvhybS9Uh823l+ZWXiSFx0dD2YZ+hBIIIJB+2znh1xr1M6yaEI45wUVKXNyzimnyzUZJO9rKbTlFWtdKxrKGvNHc+GP8Agmj/AMG3X7OP/BOT+yfEH9g/8LQ+Jun+Tcf8JX4qhS4+xXSfZpPMsLPBgtNlxb+bFJiS6i810+0upr7/AK8N0DUtX/ZU1m30vWppNV8G6g+IL5IiDYynlhtySATklMnIyy/MHU+hfGL41aN8HPhbeeKL26tZbeODdYp52BqUzKWiijZQ2S+OoBAXLH5VJE5Dxph8bh6zx0Pq1fD/AMalNpunpe91pODWsZx0kvO6XRgaNXF1o4ahFupJpKK3beyOF/bL/aXuPgl4Ys9H8N+TeeOPEUi2+n2ioZpoEbK+eIgDubeAiK2AznIDhGU/Jv7f3hib9kf9iTS/gz4bmk1T4q/tA61b6LFJZ3BsTIokgE0SzFQrQfPFbFJpE3i+lfhd6D6M/Y0+EuqeN/E958aPGTQyeIPFMbf2daLaeUljb8RrKNw3BmjRVQqTmJslnMh2/N/7NenaT/wUX/4LE+P/AIpSX9rrngn4HwWuk+HInW3kSe5/fJFOmxHSa3E6ahcxy+YJAz2rKQFKJ9Z4W5a8wzOfGmaxapYaDnRg+ibSp3s7c9abi5J7Qjy33PrOLcZSyzBrhnASTba9vNfbmvsrS/JS1S6Sk3K2x9wfsrfs96X+yn+zx4T+HukSfaLXwzYrbyXG11+2XDMZLi42s7lPNmeSTYGITftX5QBWh8ffgB4N/ak+DfiH4ffEHw7p/irwb4qtTZ6npl6pMdwmQykMpDRyI6q6SIVeOREdGV1Vh2FFdmJxFXEVpV6z5pSbbb3bbu382fGxiorlWx+N/wASv+DYPx9+yr8Q9c8bfsRftKeMPgzeX13aakvg7WLy5k0a+uIb2SVIri6hLGWzgglZY7e7tLxnKuskjrO5U8V/sKf8Fh/GnhbU9FvP2tPgjDZ6taS2U8ljbLYXSRyIUYxXEGgpNDIASVlidXRsMrKwBH7HlAe1G0E1iUflh+yh/wAGrvww8F/GS7+Jf7RnxC8YftU/EKa6jnju/FJlg09xCLYW7XMD3E815JGLdosXFw9u8Mgja3OwMf1PC8Ubc0o4oA8P/wCCin7Bvg3/AIKRfsj+LPhT4ystPeLWrSR9G1O4tDcSeG9UWJ1tdShVXjbzIXfJVZEEsZkicmOV1P4g/sQ/szXH/BZH9mDXPgP411jT/hX+3L+w7dpofgXxVYzQWV1/Zeny+Rb2FzLZytJcx2V5A8TXdvHm1MtlMjzST3C3P9F1fjD/AMFtvh94q/4JSf8ABVf4Yft9eA9H8Qal4C1byPDHxltdMSadfsuIrNJ5k+1xhvOtTCkCMsdrFeaXZvIzSTqGAPeP+CPX/BYfVv2pfE2vfsu/tQaN/wAIB+1P4Hil03VNNu0S0h8b26RbnurXyyIxcGAiWSOAmOWJhdWxMDOlv9kfsx6o/hXVfEXge8kuHutFu5J7VpVZfNgJCkqhyEXO1wNx3edkZwSfh/8A4Ls/8Ea/+HqPgTwf+0F8AfFn2P46eB9Ktb3whqul635dh4r05JGvbSO3ukfy7e4WSZp7W8jZULS7ZG2NHPb1/wDgnZ/wWK8P/t8S6fquvaX/AMK2/aE+G13/AGR8SPAs8DW90GiYwy3lpDOPMMJIkhkSVjLaSGOGQkGKeb818QFLLauF4opJf7NLlq93QqNRn6uD5aiT/leqTd8a3u2qdvyP0q+IngOz+JHhK70q8SMiZCYZWTcbaXB2yLyDlSemRkZB4Jrhf2ZfGt1DYXPg3W47i31zw/u2xyqTut8rj5skHaWAGMAoY9uRkj1K0u4r+1jngkjmhmQSRyRsGWRSMggjggjnIryn9ojwneeGdT0/x54dtY/7W0dz9u2w7/PgKFd7jPIVcqSBu2vnICAieNMLPLsTS4vy+PNKiuWtGOrqYeTTk1beVL+JDVK3Mm9UFRWftF8/Q8a/bM/4IN/sp/t0f2jeeMPhH4f0vxNqP2+ZvEnhhToeqm8vMGW+me22x3lwJAJFa8SdQ5clSJJA/wAgf8OCP2rP2Cfl/Yx/bH8QaP4Zj/0Cw8FfEeMX2laPZy/v7qaNhBc2huHvF3qY9OgYJcSgyk7/ADv1u8K+JbXxj4cstUsm32t9EsqZILLnqrYJAZTkEZOCCO1aFfo2HxFOvSjXotSjJJprZpq6a8mjbfVH4w67/wAF9/21v+CfmsXF1+11+xx5Pgn/AIl91ceJvAMkv2Dw9Zy3T28rz3Anv7Oa4ZjGIrd7q0bdsDHE8br6x8Gf+C/P7KH7TGpQ+NPAfxS0/wCGfjNLSe/1bwz48RdBMsKTiJgbh2NhLNJlJBDDcySOjbwqyRyAfo18X/jb4b+BvhiXVPEWow2qrG729qHU3V8V2gpDGSC7ZZQey7gWKrkj8af+Cp3h74RftQeP/DGgeGf2bfhjZ+OPH3iePWNJ1UaLaWOsa5eyXU0AuLy4TyhcRzzysGhuDLC80TtI8nl7a+bznJ8DxJi6XDUG3i5PmpuDtOk4pv23PtTUEnJt7xvFKV+V+xS4exVbATzOquTDw3m9FfZRj1lJvRJJ/wB5pXa/WDxX+3P8Nvhn8DfEHxB8aeJtP8H+H/COn/2jrk2oM2LFNwQBQBunZ5GRI0iDSSPLEipvdUP5had/wcMftWf8FGfHN1H+w7+yz/wkXgnQvOS/8R/EEiGG9lWOzJt1dLy2s7a4iadj5H2u5llikjlCRBXFN1r/AII+eLf28/22fCnw3+J/xG0vxH+zt8PdC07xZ4k8O6I1vFqF1r8Ye1EUkwK3SWN9KdSkiuIVRTDZTQ+XDOFum/ZHwn4S0nwH4V03QtD0vT9G0TRbSKw0/T7C2S3tbG3iQJHDFEgCxxoiqqooAUKAAAK7uHaWcUsFGlnsqc68W05U78sknZSs0rNrVpaX2SWi4sdhPq1eVC7aWza5W01dXjeVnZ6q7s+p+SC/sdf8FjyuR+1h8AcHof7Itv8A5nqwNQ/4OF/2q/8AgnN47tY/24v2Wf8AhHPBOu+Uth4j+H2JobGRo7xhAzve3Nnc3ErW6kQG7tpYokkkKShkFfs9isvxb4U0vx54X1PQtc0ux1vRNatZbHUdOv7ZLi0vreVCkkMsTgrJG6EqyMCGDEEEGvcOQwPgF+0B4O/al+Dvh/4gfD7xDYeKvBvim1F5pup2ZJjuEyVYEMA8ciOGR45FV43R0dVdWUdmOlfgB+0v4i+I3/BpV+2Rea18LfDviD4hfsf/ABg33f8AwjGqX7R2ega4VkH2SC+xO8FwkcUbpLNETdWuYnE8tn9pi+0P2X/+Dsz9j/8AaO8Uto+p694w+FN3Nd2tlYyeNdGWC1v3ndkz9os5bmG3jiIUySXTwxqJFbcVWQoAfpfRXH/BT9oXwD+0p4VuNd+HPjjwf4/0S0u2sJ9Q8N6zbaraw3CojtC0sDuiyBJI2KE5AkU4wwz2FABXL/Fb4U6b8WvDhsr1fKuIsta3SrmS2c9x6qcDcvQgDoQCOoorhzPLMLmOFngcdBTpTVpRezX+fVNap2aaaFKKaszx3wH8cLz4d6ynhPx55kN9C6x22qE7obiI5CvI5wcZAHmY7/PtKsT7FXL/ABW+FOm/Frw4bK9XyriLLWt0q5ktnPceqnA3L0IA6EAjzn4Y/ELWfghqtr4U8cL5OnzZTTNSLh4kVTt2l/8Ann0xuw0YZdwCkbfzPBZxmHCuMjlmdzdXBTsqWIe8Heyp4h7dUo1XZS+1q3y4KTpvllt0f+Z7dRRRX60dAUUUUAFFFFABRRRQAUUUUAFFFFABRRRQAUUUUAFFFFABRRRQAUUUUAFFFFABRRRQAUUUUAFfP/xG/wCUpvwb/wCyVePP/Tv4Mr6Ar5/+I3/KU34N/wDZKvHn/p38GUAe/b/m/GvxT/bR8c+Pv+Dhb/gqJ4v/AGRfCPiTUPBH7MXwNukm+JeuaXa3H2rxRf206I9g0kkIijkS7WWK3hkzExsrm9/0ryYIk/Vv9t342ap+zZ+xl8XfiLodvp91rfgHwXrPiPT4L6N3tZrizsZriJZVRkZoy8YDBWUkZwwPI+Av+DQn9mDSfgx/wSZsfHkTafda38YfEGoaxd3KaclvdW1vZ3EmmwWUk+4tPGjWlxOmdoQ30qhM7ncA/Q/9mn9lP4b/ALHPwstPBXwu8F+H/A3hm12N9i0q1EP2mVYY4ftE8n+suLho4YleeZnlfYCzsea78IoGMcdMV8Vf8P5fg3c/tZf8KpsNB+KGqRtqGpaNB41tPDu/wjd6lp9o91eWMN75oaWaJY2VtkRUMQd2wh6+fP2RP27f2mB4/wD2b/i/8SPiB4b8R/Cj9rbXbrRdP+Hdl4bt7SXwCs8FxdabNDqK4mvG8u2AmE2AvmsFDHDKUf3rXJs7WfS8vgXe8/s6WtZtpNNlb92nzbq7a62jrJ+kftdb6JOWh+i/7S/7LHw3/bG+F154K+KXgzw/458M3m9vsWqWgm+yytFJD58EnElvcLHLKqTwskqbyUdTzX5J/sY+OPH3/BvP/wAFRfCP7Ivi7xJqHjb9mL45XTzfDTXNVtrg3fhjULiZ0SwV44THJI920MVxDHiINe217/ovnTwv9u/8E7fj38eviF+3l+1B4J+NGs+CZrHwFPoL+GNI8LWz/YdLtLyK7mUtcTRpcTTvEsHm78oJEbywqnFeQ/8AB2t8FdL+KX/BGDxhrmoXGoQ3fw38QaN4j0xLd0WOe4kvE0srMGUloxDqU7AKVPmJGclQysLWMZd0n96vZ+fcHpKUezt+unl/Wx9Qf8FAf+Cs/wABf+CZfhV7z4reOtP03W5bQ3en+GLD/Tdf1YFJzF5Voh3rHI9tLEtxN5duJAFeVCa/NHV/+Ck37ef/AAXS+3aR+yb8PP8Ahn74Jah9otf+Fk+J5jb3mpwf8TGDdDd+W/l7/KRGXTIbie0uokJvERs1+QH/AASp+N15D+2RqXijXv2dvD/7YXia++063d6D4ivbq813VZXWaOeW0gZ5Y9QuGku1uZllsr6VY7WSdRAIpbhP2/8Ah1/wd/8Aw48HeO5PBf7Q/wADPjB8B/G1vqsFpe2E1qupQ6NZzRwSR3d4JltLyP5ZWkMUdpKxiCOhkMgQAHQfsof8EAvh5/wTD+L+i/GHxlreoftA/EjUtVa91fxN4s0+KUW1+buS6F7aW8kkjpeN8jm4lmllE1sXWSMStGf0j+Pnwtl+I3hiKfTmkj8QaO/2jTpEnMOGypZc9ASFBB4wyr8wGc/N/h3/AILSfse/tdfBnXG0P9of4V2VvI8lgieJ9Z/4Ri4FwiJKjiDUBBO0QZoz5io0bFXUFirqPoD9l7x1L4l8BtpN8skWqeGnFlPHIhVljGRHkbQFICsmOT+7yeTX5PmmBpVM8xPD+azlLD5jT56d38FSkkpxg3ez5VCrD+WUZO21+eS95wltL+v+CanwE+KyfFXwPHNIcanY7be9Usu53CjEoC4wr8kcAAhgMhcnt68V+J7XXwD+LMPi+1SRvDuuusGqWsLou6ba3zBMAZwN4OclhICyh+fZrS7iv7WOeCSOaGZBJHJGwZZFIyCCOCCOcivc4GzrE1adXJs0k3i8I1Gbat7SL/h1V5Titdbqakn0vdKT+GW6/q5R8YWOl6j4W1CLXBa/2R5DPdtcuEijjUbi7MSNoXG7dkbcZyMZr4J8PaTB8T/ik3iIafq2qfCjwXrQSIOokW8LFfmbfGqkSCKJnQqMK0UZILh69m/ah+IGoftJ/Fi3+CvhG8s1sJcT+JNTWJrgWnlPvMJwMLsZI8kN80rxxlo8OD9C+B/hzpPgD4e6f4YsbaNtJ0+0FmI5Y0PnrjDtIAoVmclmc4G5mY45r5niTh+HFuYueD5af1W8VW5Yycqm/s7PenB2c0922lZ3Z+i0af8Aq7l6xj0xuIj+770qUtHPVfFUV4x6xjeV7ux4N/wU3/bB039nn9gzxN4q0vUJ21DxVatoHh2eyuJbeZb26jkUSpKikxSQRrNP82w7rfZuV2Fa3/BMf9kT/hi39kDw74VvIfK8SahnWvEXzbsahOqb4+JJE/cxpFBujYI/kbwAXNfD/wC0N8JtL/aU/wCCo8Oi+GtNvPFPw2+AsMWp+KYJUhubA3hnEklmJQkgdG2wQyRT/MBaXvH7tmP6keBvHWm/EXw5Dqmlzebby/KytxJC46o47MM/QgggkEE/uEeIJYHK8LwxmTjTzCrBYmvTi5OPK3KFJQlJRckopzlGzcHUim3ZSf5fh5e0rOcumi/V/fobFFFFcJ6AUUUUAFFFFABXn/7VX7NHhX9sj9nHxp8LfG1p9s8M+ONKm0q82xQyTWu9f3dzB5ySRrcQyBJopGRvLlijcDKivQKKAPyB/wCDXT9oDxV8ANY+L/7C/wAVF+y+PfgDqt3qWg7baaOG+0ea6H2loN1rETbi6uIrqKad/MuItXjKII4eO0/4OC/+CQmo/GDRj+1J+z3Za5ov7T3wzSG8VfDlvHJceNrKLbFJFLCxAmuYbYvswJHuIY2tGinDwLDxf/Bwx+zRqX7D/wC0d8Nf+CivwvtPM8TfCnVdO0rx/o0UVjaw67o8zSWRuXnkRpBcSR3K6a0nl3EgiuLZ0EQsyzfp9+yr+0v4V/bI/Zx8F/FLwTd/bPDPjjSodVs90sMk1rvX95bT+S8ka3EMgeGWNXby5YpEJyprOtRp1qcqVWKlGSaaaumno009Gmt0wPl3/ggN/wAFQtH/AOCnH7Dun6pJPpdp8QvBrjTfFmi2txLIdOkZ5DbyqJFDLBPGjNGA0gUI0fmO0T4+3ru0iv7WSCeOOaGZDHJHIoZZFIwQQeCCOMGvxv8A+CyP/BPnx/8AsLftiQftnfsjyQ6H8RZo57vxp4Pii3af42gUo16Wtk2iRpgI5JoQweeRTPE0d2iNN9o/B/8A4Kia1+0v8C/B2oeD/hZ4m0n4keJ9Otr7UPDesRiZPDbO+yVJ5I2UsoOwq7CHCToZRDIskC/G0OIsly7DTy6VTWg/Z+z3naycIqKvKScHHlet1rJ83Nb1slyHG5nN08HC6j8UnpGK7yk9Erd397PRvC3i+1/ZS+IGr+H9d1BbfwnPA2p215Oq7ozt6sVOSSI2j2hSzuqbVG7BwNd/a98V/tE61deG/gvo8ytayRm78SagI44bSMysu5Y3DDawCsCwMhQSAQ7l3DNf9iXxl8YvDd5rvxQ8TXmseJkiEul6TbzqLO1JiXdG4AVFdyqqfJKqGQOWkzge1fsyeM9L8U/DC1tdPsbPS5NJ/wBHuLS2iihjDn5jKscYAVZGLN90DdvHOMn864ZpZhhsXHhmdSeFw1X2lSgml7X2d/eoqfNLkdO/Ns5qEkk7ptfQQlkWRP2cbYzELVN3VCPkl8VVrXdRg7rSVnfxHxH8D/A37HHwi8SfFv41X9148vtHgiuLuaeGS9Csypbx28ccjETu8siRrJNtUfuziEKzV4H+wB8K/E3jW88YftafFi3e28e/ERX0/wAK2QsI7WGzs5IIo0vrc/NLGfIjMUTMUcwxuzPMLlXp/wC19qeqf8Fb/wBuaz+A/hubVrb4Q/C2+a68cazb6aiSQ6nF9phaNJZj/vW0QC5Lvcy+XPFCrD6q+Pvwjt/joG+EWk6hqPg3w3b6DLYPceGpBp13oUbwGFGtGxsikijaLyWVGETNnaQCo/qTBZLguD8i/s7AwUMRi1zVHvONJ6xjKT95zqP3pXbfKoqyVjyKWaYvP81WLzSo5U6KcrbRSj0jFaRW0Ukldvuch+wt+1Z4Nf8AYR8SfG3WvFEFl4BXWvEF7JqE17BeabY2Gl30+lie1lghRpIZ1077WoYzPvvHRJHQRKvC/Cn/AIK33v8AwUO+FnxV0P4B+Gde+GfxS8F6Vp+q2lx8ZtCl0bSDYXrM0epqIHmd4TbxSyx7wgcmMn5N5Hw//wAG9tnbftZ/8E5/2iP+Cfvxh1a+0Dxp8N9V1TSH0+GewFxpWnzXBWb7K0Ts101pq0d08sjB41+22qiVkkRE+jL/AP4IFfF3x/8ADf4waT48/a0k8Y618W/DWjeGZtXf4ZWdl9ht9LvY7m2VoIbsJOhj+0wyI+DIJwWYhCr/ACFpSlOMtrK2ttfevqnfdRXTRy1Ts15mKxUq9X6xJ+/KV3fWy5o9LWtZz76qKta6fQf8E1v2hf2nPjH8P/2gbHRvip4E/aKs/DT29r8NfihrvhQ+FtA1/Vdssd9bbNP3C7sLWWNALi3B813kVZWXHl+9f8EY/jv8QP2mP+CcvgPxr8UdctfEnjnWJ9VXUr62sorOFzDqd1CiJHEiKFSONEB2hmCgtliScn9nT9if9pT4OfArx14T8QftYWXivVNU0i303wTqtr8JNI0WHwE8SuvmR2dvJ5N0hUxKIpAqqIQBgEiuo/4JXfsNeLP+Cd/7Lq/DXxT8U/8AhbCWOrXV9pd//wAI1DoX9n29wwle28uOWXzP9IaeXzHfd++2gBUUV2Sac5K6tyxs7btXTSSWj1TfRpL3pO7fn+9yr/E/u5e73V//ACa75YrlS+cf+Dr34XaF8Qf+CJ/xG1bVrH7ZqHgfVtE1vRZfOkj+w3j6lb2DS7VYK+bW+uo9rhl/e7gAyqw9h+Bv7J3wr/4KdfsDfBrx18evhp8P/iZ428efCrRP7X8Q6r4etBqrfa9OSef7PcxxpLafvrmeRPszR+U8haPYcGvl/wD4OuP2lf7U/ZQ8J/st+Cbvw/rXxc/aI8VaPpVv4Zll237act4JIrlHLpDbeZqMFlAr3DBHVrkKCYpHh/S/9nn4K6V+zZ8AfA/w60K41C70PwD4fsPDmnz30iSXU1vZ20dvE8rIqI0hSNSxVFBJOFA4GJofmj8Uv+DSL4N6J47vvHH7P3xQ+MH7O3j2Py/7Bu9E1lr6w8P5jWC58sMY9QbzoTODm/GGuG6xjyTx9z8OP+Cv37CHiqzsfCnif4X/ALWXg2K0n0fTItbFnZXVlbwPCtre3zzSWF095LEpB/028GTOZWd/Llb9jqKAPyB8Ff8AB23oPwu+KcPhL9p39m34wfs6ahqn2KbTXvIZNQxZzTSxS31zDcW9lcpbxtHw1vFctJsmCrujCv8Ad37If/BXr9mj9u/UYdP+Fvxj8H+Itbu7uaztdEuJn0rWb14YBcSGGwvFhupo1iyxkjjaPEcnzZjcL9AeLPCel+PfCupaFrumafrWia1aS2Goaff26XNrf28qFJYZYnBSSN0ZlZGBDAkEEGvhD9qP/g2K/Y2/ag/ty8/4Vf8A8K78Qa59n/4m3gnUJdI/s/yvKH+j2OX06PekWx/9EO7zJH4lbzAAff8AWP458Dab8RfDk2l6pD5tvL8ysvEkLjo6Hswz9CCQQQSD+RNz/wAENf26v2MfFVm37Lv7bWoah4UhtJ9Hs9A+JUlxPa+GtLR4fsNtbwyQ6haSyJHGIzNHbWhQR4jUJK8aFt/wXK/bq/Yw8VXi/tRfsS6hqHhSG0g1i81/4ax3E9r4a0tHm+3XNxNHNqFpLIkcZkEMlzaFBHmRgkqSJz4zB0MXQnhsTBThNNSi1dNPdNdgaTVmfpR4G8dal8BvEcPhHxdN5ujy/LpGrtxGEHARyeijIHJzGSASUKsvs1fnT8Ff+Djv9iX9uXw5pOgap8Sf+EA1jxF57LpfjWwk0eTSXh80h5b/AA+nRMyR70/0ohhIkZG9zFX058JPjfD8N9O0u01TWLPxB4J1qyj1Dw14m06QXlnfWboHiaN4ywkiZGUqVLbQy4LRsrD8ywuOrcH1o4DMpuWXydqVaTu6De1KrJ/8u+lOo/h0hN2sznT9npLbv29T3qiuJ+On7RXgn9mr4Ja58SPHPiXS/Dngfw5Y/wBoX+r3MhaCOHgJsCAtK8jMiRxxhnkd0RFdmVT+W/iX/g6H8VftO/FLX/Bf7Hf7L/xA+Of2LbpcPiy9M1jpdhqFxNcQ2lzcwRwv5env5SSiS7ubJ2QTK4g8tpB+pxkpLmjqmdB+v1FfkAP2+P8Agrn8Px/b3in9j/4Qat4Z0T/iYavYaFqkTare2cX7yeK0WPWrmQ3DRqyxhLedi5XEUhwjdh+yl/wdSfDHxj8Zbr4Z/tGfD3xf+yt8QYbqOCO08VCW405BMLY263M7W8E1nJILhpC1xbpbpDGJGuBvCigP1Popu85/r2pwORQAUUUUAFFFFABRRRQAUUUUAFFFFABRRRQAUUUUAFFFFABRRRQAUUUUAFfP/wARv+Upvwb/AOyVePP/AE7+DK+gK+f/AIjf8pTfg3/2Srx5/wCnfwZQB3v7WPwO/wCGn/2WviZ8NP7T/sP/AIWH4V1Twz/aItvtRsPttpLbed5W5PM2eZu2b13bcbh1r84v+DRT9o698Wf8E/PE/wAEfEln/Yfjb9nvxXeaRe6NPpt1Z31hZ3s011Gbvzvl+0fbhqkJRdrRraoHjU4eT9XyoNfjl/wVA/Y9+J//AASN/bz1z9vz9nPQtP8AF3hvWLV4fi/4CFlFA32BzA93f2zxR7kjle3juZ5gGlhuFa5k+0W8lxHEAe4fDz/ghB4x+Fv7SPhHW9K/aLvbj4P+AfGmo+MfD/w81HwPaXBsH1Lzlv7c6ms6TyLJHdXKIWU+X5inaxUluj/ZM/4IfX/7Ovx78Bat4g+OXijx98K/gncajdfC7wDc6HbWMXhSS8DpuuL2NzLqBiikkSMyKhTd8uFyje0/sAf8FZ/gP/wUx8LR3nwp8dafqWtR2outQ8MX3+ha/pKhIDL5to/zNHG9zFE1xCZLYyEqkzkV9H7+fb1NFH90oqH2dvkkle+7ilaLd3HXlau7lX945SnvLfpu22tNlJyfMlpK9pJo+RP2Mv8AgnV8VP2bf25Pit8YPGP7Qf8AwsrTfinbxw3Ph3/hBbPR/shtnA09vtUUzs/2e2MsOAieb5m98sor59/4Oyvjl/wi3/BMOP4T6Ppf/CSeNvj14q0rwzomjWdzu1WXyLqK/ee2tER5bv8Ae21rbFEA2vqEJLZKpJ9X/wDBQD/grN8CP+CZ3haS8+K3jrT9N1uS1N1p/hiw/wBN1/VQUnaPyrRDuSORraWJbiby7cSAK8yE18A/8Ev/ANkD4n/8Fcv279D/AG/f2jtB0/wh4b0e1SL4P+Amsop2FgvnvZ39w8se9o43uZbmCZlSWe4ZbiP7PbxW0cwtIRgtoqy9PN7v1d2D1k59W7v8tFsttlofIH/Bxt/wRc8Q/sBfD34M/tC/DXxFqFzJ8P8Aw/4Y8D+KdV0u3vbPUbXVNKso7PT/ABCjpLKlnG6Wlrb4V4xDMlrtaaS4Zl+8P+CCf/Bezwr/AMFa/hZP8DvjjB4f/wCFyf2VNY3lnfWkP9lfEvTvJZbiRLdh5X2jyd/2mz27HTfLEvlebFbfpd8fPgD4N/al+DPiD4e/EHw7p/irwb4qtDZanpd4p8u4jyGUhlIeORHVXSRCskbojoyuqsP5gf2ef+CeXxE+Ev7efxC+Avw/8W6f4D/a8/Zpu59d+E+u2yWGkr8S9LG+6l0+7P2h43vJ7O7iu7ZJVmP2eW/tL6Q20UP2QA/c/wDaX/4Nyf2Nv2oPtdxqPwV8P+EdWm0p9Ktb/wAGyS+Hf7Pz5hS5S1tWSzkuEaUsJJ4Jd2xFcOihB8SfEL/g2bb9jT4haPp/7PP7V3x8+Bui+MEVPEF9/aK3B1KWJiIN4sZdNASETOSZfM4uGK7cMG+2/wDgjJ/wWb0H/gp74E1bwx4n0n/hXf7Qnw732njjwPdxyWs1vLFJ5Et3axTfvfs/nfJJE+ZbWVhFKWDQzT/Vnx+8Br8QfhdqNqqSSXVmhvbQRozsZYwSFCgjcWUsnfG/OCQK+X4y/tOOU1a+Tz5a9Nc8VZNT5dZU2mnpON4p6NNp3VjOpzct47n5KeM/AH/BZD4BT+Xd6p8D/wBp3SvEmn3NlcaYkem2NtobhoWjuWZ4tIlMx+cR7JJoxtkLoreU1dF+y9/wWr/aE8LaF4x+HPxm/Z9vvg7rHw90txfeM9a1nbpcM8ZVHNrBLAElttqXM0c63U8KIsWXkRkL/pDD+1Jpfhr9nGXxjrE8P2zT42tHt3fy2vr5UykSkJ96X5W+VSEDMTwjEeGeBvgt4s8f6Bd/HTV7iFfFGoTLqVpZrbiFLOziGFlCuvLbY4ygyQYlyWkaTA/O+LuJMPicJTzfh+DqYiVFzcoN88MO9ZXSkk53+GLTakpNWaufZ8N5bhaWHlxDmcOahS0jH/n7U3UOvupe9NvouXVvT59/4JU/8F4v2Lrv4b6HobfFaHwT468XST3OpWnjPS5NHWxeFZNsUt/tawSLy4i8W67JYzYwkknkr9rfFz/goH8O9P8A2M/iB8Wvh7488C+OtL8I2k9tb3+i6lHrem/2sUjFtaTNZu2C01xbBl3KVWZWJVTuHNfFb/gnb+zP/wAFIfBup678Qvgr8P8AX9W8VeSmr6sdOitfEBktjEEU6nbeXeLtWGJRtlUtDtQjYxSvzE/aC/4IN/BfwV/wUv0n4Y/s2/214X8QeJdGa88TC/vJdd0PwPZiOMoUTebvzJDF5rx3U+He6tFjlhSX5f3Xw0ynK8bHCwwbSwUYe0cle3sornb11vJaa680tVc+WzvOMTjq1TH4iXNUqO9+7ei9Eu3RI/Q//giV+zFffBz9lybx94lnur7xt8ZJ08Sald3Vw088lq29rTzH811kd1lluTIQsmbwo4JjFe0+PPgfefDvWX8WeA/MhvoXaS50sDdDcRHBZI0GDjIJ8vPf5NpVQfzD8R/8En/+CnX7G/8AwkF18Dv20v8AhbGn3elLdz2/jsvNqt1eQfaCtpZRammo20O9WQCX7VbrI7gShViSSug/4fA/8FHP2V/+S1fsF/8ACff29/yBv+FZX0832Hyf9f8AbPsj6vjf5sPl7/Izslx5vzeX43iBleH4urzxWYJxq83NTnF2nSlpyunLdcqUVbZqKUkzhjh4xpqmunX9T9VvhT8VtN+LPhwXtkfKuIsLdWrNmS2c9j6qcHa3QgHoQQOor8Tfh5/wdKfsq/GzWYdevh8RPgf43t9Mj1O8l1LSRqWiT3w2Ca0glsTNcSOxkcrLLbQxSJCxkWNpNp+4ta/4LhfBu0/4J2eOvj9o3ibw/wCLLPwLoov5dN069bde3kohSztGCRyzWrT3Fzawt5sW62NwplUKNx+T4fz7MqWJWTcQU+Wsl7lWK/d10r6rS0KlleVJv+9FuOi2pe0k3Fq7Wunbv5HqH/BQr/gpz8HP+CYPwttvFHxc8Uf2R/a32iPRNIs7drvVfEE8ERleG2gX/gCGaVo4I3mhEksfmLn88fDX/Bf79sD9v7TZJv2S/wBi6/uNDe6ub3TPGHjvUWTRta0uCeS2IQs1lbLeGUx7o4r+4KGKdAsmxpUb/wAEgv8AgmXq3/BT3xR/w29+2Ra6f8RPEnxEtJV8D+A9W0h/7A8M6NvljhkNlcqVkjdGd7aM74/LmF20k9xcCWH9j9ozX3hR+QS/8FU/+CnH7M//ABPvjF+w74f8ceGbr/QLaw+HOoNNqsN23zpLItrdarJ9nEccysTbou94v3qnCSfR3/BK3/g4W+A//BUzUdN8K6Peah4F+LF1aPPJ4O11R5l00MEUty1jdIPJuo0LyhVzHcNHbSytbxxqWH3fsBHSvg7/AILA/wDBDvwd/wAFGPDJ8ZeCG0/4W/tGeGruPWfDXj/S4zY3d1ewJEsEWoTwATSRgQQLHON01oYkeLKiSGYA+8h0or8//wDg3z/4KreKv+CkP7OPijQPitpv9h/HL4Maqnh3xlZmwlsZrnKusF5NbtEkdtcSSQXcUtuhOyW0kfZCkscS/Xfx3/al8H/s7wQrr95NJqN1H51vp1nH5t1Mm8KWwSFVeSQXZQ2xwu4qRXHjsww2CoSxOLmoQju27L/h30W7eiOzL8vxWOrxw2Dpuc5bKKu/+GXV7Jas6X4sfC3Qfjj8LPE3gnxTY/2p4Z8YaVdaJq9n50kH2uzuYXhni8yNlkTdG7LuRlYZyCDg1+Q3/BDTxp8Vv+CVGn/HT9nDx5o2reN/D/gXxz9l+G19FKB/bKTs32kRqtxcLbwOv2W4SCJGKXV3exyMZRII/uqbR/i/+27ax3Ul1/wrP4e6lbq0VusvnXN/G0cqliFCPIjk4KyGOMxvGyrIRuPyB/wcC/sI+MP2bv2MPB3x0/Z38ReMNB8ffs4eIJPFN1LZ3DTTajYXCCC5uJYI4GSc2qbMrJst0spNT81XEjBvk1m2a5v7uVQdCi9q1Ratd6dN62a1Up2VujPsXk+UZN72b1FXrLejTl7sX2qVVpdPRxhdp/aR9eeI/wBnX4q/taeEk1fx9rVvoNpHF9t0zwxY22xhKY2UCXew8tzhSPMaUr50gxHytfnp+2L8CPi1/wAEz/2hbH9vX9nu2uviD4X0rQ18MfFb4e6hI1xJp+kReS889jKUaSK1cwxXUhjDNaTlpmE9s9xFD+rv7Af7Yug/8FAP2Nvh78YvDsP2TT/HGlLdy2e+ST+zLxGaG8tPMkjiMvkXUU8PmiNVk8reo2spNXwjDb/BX9pe+0cTR2+k+K7cXFrEoRVilLNsU8LtAYTIqrnO+Mcnp8zmGWw4bzzBZtzSqQrt0K05y5pc07OlNX0iuaLg1G0eWS0ukfP55xVjsdGOHbVPDxfu0oLlhHs7L4nv70m5avXUtfsLft0/Dj/gov8As46L8UPhfrX9q+H9VzDcW8yrHf6LeKqmWxvIgzeVcR7lyuSrKySI0kUkcjfLf/BXT9qPUv2OL6TS/h/qMZ8bfFiyewXS7OeQXtmsivCb6OOEB1k3kCB9wZp/NYbwjofkr9sP9k/4gf8ABA7/AIKdeGv2hv2c/DeoW37MnxT1Kw0z4reFNJjN7YaO8l2yzSJYjyxawCOTzLSYSeXb3LTQFobeeO2l+mv+Cc/7O2rf8FAPip4o/ae+LC30lvr0txp/w+sF1fzP7FslkuIZMJGirtiyYY9wG9/tMskRZ0kP7hh+F8LisN/rBjqfOsDJVKMedw9piEn7Om5JN8ktfa2T/d3vF3sfKYyTlajT+J/gur/Q+kf+CeH7G+hf8E/f2U4bMf2TqviK8tjq3iTWtMjJ/taQB5ESN3OWhhjby4/uK3zSbEaVxXoH7NuiNfafqvii7gjS+167kdWXG0R7iTs6soMhYEE87F9MnzG38Ta8vhqT4a6g8n9oQ6tDZxTy/wCqaDOFTJXeEDiN1bBJRgOAAD9JaHpMegaLZ2ELSNDYwJboXILFUUKM4AGcD0r5vKeLK/EuFjnmKUo1a13NSVnGabjONu0ZJqPTlStpY+ooJYTJ0oqzrP7oQ/zl+Xnp+XX/AAV+/wCCaPxa+Df7UDftwfsiX2of8Lq0W1ji8beDHMl5afEHS4YooikdvuzJIIIIke0QqZlgiktzFeQobjv/ANgD/g5v/Zd/bc8LRrrnjLT/AILeMbW1E+oaL44vodOtQVSDzTa6i7La3EfmzMiBmiuXWGRzbogzX6IYr5N/by/4Il/s0/8ABRnUrzWPiR8N9P8A+ExurSe3XxVosz6VrKu8EcCTyywkLdvAsMPlC7SdIwgUJsZ1b0jxT6u34PPAr88/+CgP/BzZ+y/+xH4WkXQ/GOn/ABo8ZXVqZ9P0XwPfQ6halmSfy2utRRmtrePzYVSRVaW4QTRuLd0OT4iP+DKz9lkj/kfv2gP/AAeaR/8AKyvsz9g7/giX+zT/AME5NSs9X+G/w209fGNpawWx8Va1M+qaw7xwSQPPFLMStpJMk0wlFmkCSB8FNioqgHzD/wAEgP8Agml8XPjH+05/w3B+15e6gvxr1u1kj8E+DEMtpa/D7S5opYlSS33ExyGCeZEtHLGETyy3BlvJnNv+qAORSDkfrS0AFFFFABRRRQAUUVT8QeI9P8J6RNqGq31nplhb7fNubuZYYY8sFG52IAyxAGTySBUznGEXKTslq2+hUISnJQgrt6JLds+e/wBrz/gkL+zR+3fqM2ofFL4N+D/EWt3d3De3Wt28L6VrN68MBt4xNf2bQ3U0axYURySNHiOP5cxoV/Ib/go//wAEKfgn/wAE6vFl14z+CPx6+Lvwx1+S5dNT8K6Xf+dNcWV1PHLHYW1+jQSWscaRscXBvpWAgkZG2M7/AKz+MP2hvHH7Vurnw/8AB2C80fQ4/tEWoeJ76E28MhVSvlxPtYx5V0YFQJ8up2xhGJ/Gz/gsHpUvif4W/GbxV8Jdat9d8B/AnStMsNQ8RPeqF1C+1K9gsnlsljRXA8yRxGd8kYWyaQTN5kavx8KyhxLjpRhTvl1Fc1etJe7KK2p0lpzSqStBSulHWUVNqx9VmGR0MnwjqZpP/aZr93RWrTv8VV6qKS97k1lLRNxVzZ/4J8fsx/FP/g4N+NMmh/HD4heIta/Zj/Zz1dRNp0Vm2mHxvrsvmPJbvLbxRQboELRyyRbZIYJYhEiPfS3Z/fv4XfCTwr8D/Adj4W8FeGfD/g/wxpfmfY9I0TTodPsLTzJGlk8uCFVjTdI7u20DLOxOSSa+Tv8Ag30/Zh0v9lb/AIJA/BHTdPOn3V34u8PweNdTvrfTkspL641VRer521mMskEE0FqJWbcyWsfCKFRftIdK7vZYam3DBUo0aV3ywirRhFttRiukY7JdEkj5GnHlio9hNuK8O/by/wCCdnwk/wCCkHwdvPBfxU8J6frUclpPb6XrCQxprPhx5TGzT2F0ys9vJvhhZgMpIIlSVJYyyH3KjbQUfj//AMEZ/wBqL4p/8E8v+CgOqf8ABPP46a5/wmGn6LpTaj8I/GE1ldwzarp8cP2hLBA0bBrdbVLkqzSFLWWwubRZp1ECxfsAOlfkB/wdz/8AFifhb+zL+0Vo/wDpHjb4LfFW2/sSyvPm0q686I6i32mNdsr4m0a1UeXKnySTA5LKyfr+DkUAFFFFABRRRQAUUUUAFFFFABRRRQAUUUUAFFFFABRRRQAUUUUAFFFFABXz/wDEb/lKb8G/+yVePP8A07+DK+gK+f8A4jf8pTfg3/2Srx5/6d/BlAH0BRt/xoooA/M79vL/AINVP2Xf2xNRvNc8M6TqHwT8VTWs6RzeDUhg0ae4MEcVvJPproYRHE0QYpaG1MpklLuXcSL5j/xDi/tTH/nJt8fv+/Or/wDy8r9figNLQB+Z/wCwf/war/su/sd6lZ654m0nUPjd4shtYUkl8ZpDcaNDcCCSK4kg01UEJjlMpYR3ZumiMURRw6GRv0vHzDP40pGaKACvyx/4Oef+Cfvib4qfBrwb+098I49P0/4xfsw3Z8UNfMLSOSfRrQ/bXc+dCwuZLKeBLmKGVxH5cl8AkskqRt+p1FAH44/tDfsraV/wWr+AXw9/br/Y38Raf8P/ANqzwraQXF1Fpd+gXUb+C2RbnQtQeWONPtkKOYI57iJYbq3dI5la0mhlg+qP+CO3/Bazwz/wUl+Gmu6H4ysYfhj8ePhjHLD4/wDBuoh7JrJoH8qe+t0nPmLaiQbZI5CZLSQ+VKSDDNP8b/sv3Mn/AAbyf8FvG/Z7t7PUI/2Yf2rru1vvBE97eajer4X1kq1uLWFvKMUkj3bQ2sq/PItvPpMs9z+6cP7Z/wAFG/2J/BP7RH/BQmH4lfC3wBZ+Jfjp4N8K6kl1NZal/Z8HiC8S2ZLe3u3K+StwkafZEuZSVX7akcp/0eLyvD4gzqGWYX2vLzVJNRpwW85v4Y+Svu+iuz3uHcjnmmK9k5clOKcqk3tCC+KXm7aJdXZHpXw40nw5+0j+15502218Eafqkj6bAYEMOosG3pGwkVQschUZjKkhWSPGWMg++K/Lz/gmH/wUl8L/APBRP9lAeD5NIk+GP7RHwAhMPi3wXco1jdxGBxDdX9tHIUfyzMoaVWBmtpx5UmfMimn/AEr8A+MYPH/g3T9Yt12R30QcpknynBKumSBnawZc4AOMjg1+e+HOXzyPMcZkWKjBTmo14OKspRlpOKWqXsql1vtOLsrlcRZ5DHYiOGwseTDUVy0odo9W9FeU5XlJ73duh4v4w8WaX+xd8QtU1zVJZLXwNrFnLf3ckcIb+zvJy7sI4wXZI1YnaqglZMAOyAH5/wD+CJXwp1z4q6h8QP2nPHLed4p+Kt9cWel7ZpHjtdPjm/fCPdM5ERmiSCOOVd8Saem1iknM3/BcHxlrnxXg+GP7O/gyOxu/EnxX1hZ7wMwmksLS3ddkksSxSSxQNIzytcJtKpYTj51MgH0N+yV410/4UfBqHwV4g1K101fhraW+jLcahcQw/wCiwqltH5jghGdWUIWAVSWj6lq/UcojhOA8q/sqVblWbVKk6MbWVKjSSnUhz309rVc5xi0lyQklc+PpU3UxapRTdtkv5n08/LzZ7pWN47+Ieh/DHw9JqviDVLPSbCPI824kC+YwVm2IOruVViEUFjg4BrwLxr+3PefFDV7jwn8G9FvPEmvXFu7rqkyLb21moVCZVSXG7G5lzL5aiQIMSBgpm+Hf7B1xrvjGHxX8VvEk3jTXIpPMSyDFtPjAeRhGd4BeLLK4jVY0U7lKupwfmKnFdTG1HQyCl7ezs6jdqMX/AIvttaO0L7rVH6RT4Rp4GmsRxDV9gmrqkletJf4dqaeqvUtqnozzf45+Mbj/AIKVaND4R0f4P+FfFXhGzv0u/wC0PHGhWerWllcoqJ5yxXCSW8cyJPKpCiaUxTMVC5Ir8j/21viv4b8Z/tC+Df2ZPh34guNE8M+Ptfg+F1jrGmwRfZblLq4XTZb2KGCQR/YYobhRHbrMfPUKSyCTbB+q3/BVD9qrVJ9X8N/stfB1dDm8afEqP+w9ZWOF5l8MaZNGqbGijidY1kt2kd2wWgtomcRjzIpF+Hf+DgT9hi9/4Jr/ALIH7Knxe+G//FR6h+zN4/8A7U1I3Ogs9tqt3ey2t2uo38lu6tDbpdaZa2gV2LMl3BEJwyIZPvsl4Lo5RgVn3EEvrWNrJqhGcfcpQd1KrGl8Kb+GDleTtzp6a+XmnFzrU5ZZk1JYbDbT5XedTsp1H7zW7cVaOrVj9uLKx8N/Bj4bw29vDofhPwj4T01YooolisNN0axt4sKqgbY4YIokAAG1UVewFeF/tIf8FO/APwj/AGMfFPxp+H6XH7QGieGme3Nt8NbiHxBunVdzCWW3Z0ghiUiSaVs+VH821iVVvPf+Cp3wz17/AIKTf8EwtNuvgrHa+OtP8US6D4ztdDuryTRofHmiiWG9bT3llCGAXMJX/XBQCAH284+Y/wBmv9mz9oj4EfsPfta6boP7H+j+CvEXxm115/DfgLSfHWhQ2On2d9py2E/l3MREC/ZjEZ/LKRq4nCoQQ2PLqyqOlWcNJRXu+bvCy7WlzSV/s8jcrJo8OnGCqUufaT97yVpXemt1Zf4uZJa3PtLxj/wUA8Vad+wh8Nfiv4V+CPjT4h+NPilp2lz6X4K8P3CzLZXN9ai4VbzUWRYrW0jzse7kQKCVO35sDS/4Jwft16h+3T8OPF1z4k+HeofC3xz8O/FF14R8UeHZ9Yt9Zgsb6BI5cQ3tviO4XyposkKpV964IVXb5f8Aiv4L/a9tf+CMnwT8FeBfhbr3h34o6TLpvhvxp4b0H4gaVp2rrodnDNBI9prDboLaW5ENq++LfLCJyq7irMPo7/glD4d8RfD/APZdj8K67+zfYfsv2vhu/ez0rwvaeLrTxQt7bmONzevd24y0skjSBzMWlZk3szFq9SpGn9YxCh8KbUdel42af2lZtbybd9IqF58FOU/YUef4mk5evvJp9ndJrRK1rOXNZfIv7SP7O2nfs9f8Fv8A4k/Frwv461Tw34p+KHw40u01k3jwSWdjDI8lqTGsKSXke9dDtNrGMbZDMUlfLJbfaX7L/wAEvhHb6hDq2l69pvxA8X3Ea6nNf312lzeIzGJ2mFuSWhYS4bc6mVGkKlznFfnjJ4O0v/gpn/wdfa9qEdnDeeBf2WPh4fDurahaj+1NP1u/uIrqM2kk8exLG5jl1i8UIWkkD6LPgK27yPePit+yro/wP+P9n4b8RajqcfhfxJGRpOtJsj+wO7bFNz5iiORYWx5qo6HY6vlCdlfivFtPG5VmizitShiqMpRUVNuPsXokldyglJ68/LdN6tKzf7dwfUwOb5U8mo1p4WtCMpScEpe2WrbdlGbcVpyc9mldJu6X6NVn+LPCel+PfCupaFrumafrWia1aS2Goaff26XNrf28qFJYZYnBSSN0ZlZGBDAkEEGvnO1+Ev7QnwTnuJvD/jLTfH+lwSCWOx1l2N1el0VGyZTmNUOWCi5AOzOMsUNzTv2+7jwDqFvpvxQ8C+IPCF1JItst7DEZrO5dDtnlXdtPlKSrDyjMSrcE8Fvro8aYai+XNaU8M9rzjeHyqR5ofe1+Kv8AHT4HxNZc2U1qeKW9qcrTt505cs/uTt8nb84f+CN+uXH/AAQw/wCCo3xL/Yn+JWuafYfD34qXa+M/hDqt/qUEjag80zWcFvK8duh+2XcFukTLM0MYuNLKQRyfa4mk/WP9qHwLL4l8Brq1i0kWqeGnN7BJG5VhGMGTB3AKQFV88n93gcmvzj/4OQvhR4Z/by/YTtPir8J/GSW/xc/Ztv5vGGgzWl9JpuqCxiSObU/s4kmgMbRRW8N8s6pJIDphjiw0rVveI/8AguHH+1H/AMEh/h14q8E2ttqHxa+NsM3g2+0XTRL5+iarHGsGpNBFBJNIj+ZNA1rDJMJmiv7SYq2GQ+9U4boca4OeR4ScZrEJxUoyTUWveU7q6/dtKfly3Pjc0wdfBc1LG05U5JbSTi/LRpPcvftJeMNU/wCCy37XugfBnw3/AGtp/wAIfh7ImqeONVt9PQSWupqk6NEk8xGcZa2iwgJdrmXy54olYfOPx50jxz/wak/tWr8SPB91qvj79i341+I/s+v+EbvUfP1bwlq8sby77Rp33TS+TBI0crN/pEUBt7plkjtrw/ff/BJL9naP9i3wleeAtbs7Gz8baxa22qatLGsRkkuDGZDatKGYyeQkwRVRjHmOaRQPMYt9BftfeGvCfjr9n/XfD3jTw5ofi3QdeVLR9J1ixjvbO6kDiSNnikR0YxtGJV3DholIIbBr6LEcXYLN6EcBlU3Khg5VKF3FRc6tOThVqyim7OpKPNFdKbhpF3RzZRhKmIqRgvjm0vTpb0R5fqXjzWPi7NN8TfDMd5HpGjLbXFnHeWNzZ3Mlsfm2vBJHHNGdrF5YpQkkayFWAwRX0J4B8YweP/Bun6xbrsjvog5TJPlOCVdMkDO1gy5wAcZHBr8rfjt/wUi+Mf8AwRZ/b6s7n436VJrf7HHxiWwg0TX9N00Nd/DzVRZxi5juRHGJZC0iTSvBJ5jvABJbMXt7i1b7s+EXiyx+GvxA02PRtS0/Xfh/8RootT0DU7C4a5s5I5l3QPDIpdJVdWjG9WIZGhfcBxX5ZnmYYnI89o5jWm3g8Qo0ZpvSlUv+6mt7Rm5OE9knyyb3PVz7FRljLUv4cUoR9I6J/N3fzuz36gjNFBbBr9FPPCjFJvA70uc0AFFFFABRRRQAUVDqOpW+j6fcXl5cQ2traxtNNNM4jjhRRlmZjwqgAkk8ACvnXx/+2XqnxM8f/wDCC/B6zh1bWmkkju9buU3afZRBQpnjIJ3Kjt/rHBQlAFSXzFrx84z7B5bCLxEvek7Rilecm9lGK1f5Lq0e1kvD+NzSclho+7FXlOTtCCW7lJ6L830TPRf2if2qfC/7OWkN/alx9q1ye3aex0qHPnXWGCgs2CIkLZ+duoR9ocqVryjSv2efHH7Wvi5fEfxQnvPDnhWO4insPCMUx/exBGKmQqw8t/n2szL5pzIuIQEx2X7O37Eeh/Ca6XxB4hk/4Svxpdbbi6vb3E8NtceYZGkgDjdv3bf3rkuSmRs3Mteza9r1j4W0O81TVLy103TdNge6u7u6mWGC1hRSzySOxCqiqCSxIAAJNfP0clx2dSjVzxctK6caEXdX/wCnsl8b/uK0NrqWp9JUzzAZJF0MgfPW1UsRJWfTSlF/Av77vN9HHQ+Qf+Cpv7TbfsPfsuaH4A+GekyL4y+Ijy+G/DVlp4uRdWcbIFnurcwje90rzwrGN6yNNcLJ+82OreV/tk/8EmzoX/BAT4s/A/ws2oXHjDUPD6+KtQOn202rz6/rdi9rqDWtrCBGxWd7CO0iCIGVWjYpJJuEkf8AwTz+G19/wUM/bb8ZftQeONDum8H6ZONP+HFpqtu3lqIZCsdzEjTuqvbrGS21XhN1dTPGyyQnb+j5UHt1r9u4ghRyfAUuHMLZONpVraLnt7tNW0tSjpbbmvomj83p1KmJrSxdVtuTdm9W+7bfVvW58H/8G2n7Xtr+15/wSB+FczTae+t/Dm0PgHV7eztZ4Y7R9NVIrVSZSfMkfT2sJneNjGXncDYQY0+8VOVr8Qfjr8KPHX/BsJ+3B4u+P3w78Nf8Jx+yD8bNWhPj3w/pmn29vfeA52uJTb/ZxGqJHbxSXUq2v3IGWX7JN5cv2W6f9XP2Ov2/fg5+394Fl8RfB/4heH/HGn2m37ZFaSNFf6bueaNPtVpMqXNt5jQTGPzo08xULJuXDH4k6j2KimeZxXxl/wAFQf8Aguz8CP8Agl54W1yz8ReJtP8AFXxSs7V207wFo90JtTuLjZA8Ud26K66fGyXMUvmXO1mi8xoY52UIwB8o/wDB0sf+Gv8Ax5+yv+yBoI83xN8WfH8WvX93p/8AxML/AMMadbxyWRvJdPTDvbmO9vZ/NaSJFXSrgZIDvF+vy/dr8r/+CJ//AATM+J/iX9qHxZ+3D+1Ja6fZ/HH4pWxTRPCiaTFbr4LsHihhjkkV1aW3vPskMdsibhNFbmVbh5ZriVIf1QHSgAooooAKKKKACiiigAooooAKKKKACiiigAooooAKKKKACiiigAooooAK+f8A4jf8pTfg3/2Srx5/6d/BlfQFfP8A8Rv+Upvwb/7JV48/9O/gygD6AoooJxQAZozXjv7Y/wC318G/2A/A0PiL4w/ELw/4H0+8z9jiu5Hlv9S2yRRyfZbSFXubjy2niL+TG/lq+59q5YfAPxT/AODx39kjwB47vtH0nTfi9450+z8vytb0Tw7bQ2N7ujVz5aXt1bXA2MxQ+ZCnzISu5drMAfrBnNFfAH7LX/Bzj+xv+08uhWf/AAs//hXniDXPP/4lPjbT5dJ+weV5h/0i+w+nR70j3p/pZ3eZGnEreWPv/digAooByK5P42/F/S/gb8N9S8RapLCq2sbC1t3k8tr64KkxwKQGO5iOoU7QGY/KpIwxWKpYajLEV5KMIptt7JLdnRhcLWxNaOHw8XKcmkkt23sj5B/4Ln/sufCP9s74O+E/BHjrwvD4o8ZQ6zBe+HDZyvDqumoZF+0CN4wXMN0I1t3hJAk3K6/vbeN44f8AggV+1v4N/ap/Z88eLpeha14P+IHgrxfeaF4w8Pa+sEOs6a8TEWrSwKfOhiaMMuyYApcxX0alxEXb2D9jT4S6p438T3nxo8ZNDJ4g8Uxt/Z1otp5SWNvxGso3DcGaNFVCpOYmyWcyHb+aP/BUnw5qX/BBT/gsl4b/AG2/DPh/7d8EvjJnwp8R9I0mSxhvP7RuInlmMEDwrjzvsUGoB1cvPdWl2k08CXCFvkOH8PVzLFf2/jU0mmqMH9im95PW3PUVm+sUlG+59nxFiqOWYX/V7AyTaadea+3UW0FpfkpO6XSUm5W2Ppv/AILTf8EWdY/aY8Y6d+0d+zjqMfgH9qrwCguLS7t2igtvHEEcRj+xXfmDyTOYd0KSTAxSxMbW5DQMj28H/BAH/grJpf7aul+KPhz4ssZPAfxq8Hu3/CR+Db2E2s1vcwP5FzNBHLibZvCK8LZkt3Rkk6xyTfXnxZ/b/wDh38OfDlneaXrFr4wuNWsIdR01NFnS5tru3nhMtvP9pUmLyZFKMGUuxSVHVGVgT+Z//BWT4Mf2rrEfxw1T4Z+C/DPxQ+JlzF4R06JLP/ipry2ijnT7T5ToXd/JlFm8yiORke1UjYsArWWHwOdcS4LCZe+fG0p2vF+7ThP3avtpfCoKN5NO8lKKcU2rPxo8K4mGB/tbHv2NBJuMpb1Ha6jTjo5OWlnpFXu5JHX/ALOX7U2p/Gz/AIKM/FD40adpLePrhBc+Fvh/aJZTSRW1qmSl3CkjNPC4t4w7xJGnmf2hdHdD8yN9L/EX9mb4kfEGKfx58R1sZmhnSR9BsNoWKBXkyZjCRlVUKoZXeXy3+aRPLryv/g27/bl+D/x2/Z91b4Y+HdL1bwT8Yvh/c3CeMPDPiJlXWLgLcugvIxtQm3V5PLaELutJW8uTcZI7i4/Si7tIr+1kgnjjmhmQxyRyKGWRSMEEHggjjBrv8TuHHxbi8Q62JfsILkw0YWUIRguWnOWl5yl8cr2Sc5RSaszXL+I45bgI0MqpKnWavOs9anM9XydKcVflTS5mkm2m2jm/g1oXhnQvh3pw8JabZ6Xo91EkyRW6KGLbFUmUgktKAoVmYsxK8kkV5P8A8FIP26tL/YN/Z4vfEXmaTeeL9S/0Xw1o95K6/wBo3G5Q8hVBuMUKP5jnKA4SPzEaVDVWX4o6T+wtq2uR+M9UOl/D3y21CDVbiDd5b4QYPl5ZmPEexVLM/l7VUPz8vfsW/CXVP+CpX7Z+pftLeP7HVrDwL4LvorX4b2LWqWS36W1zNJDJIySM7/Z5P3khBZJLiV0EnlwPBXv+EFShmmWzzDOaXsYYKXs61NK16sbWpwtpy1E1NNaKm736nx2Kx1atL3m5VZPVt3fm23v+p7X/AMEnv2HtU+AvhjXPip4/uP7S+LHxf26xrBl05LWTRkndrlrXaY0eOV5JN86AIgeONAn7kO/v37Vn7NXhb9sf9nPxn8LfGln9s8NeONKm0u82xwyTW28fu7mHzkkRbiCQJNE5RvLlijcAlRXoVG2vWzjNq+ZYyeMxHxS6LRJLRRSWySSS9O5tRpRpwUIn4gfsPftweKv+DbL4or+yn+1Y3mfAmT7fqnwt+KOl6PM9u0DSvcT21xBAskrbppiXQCSe1nnAJmtZoJ4v2d+F3xb8K/G/wNY+KPBXiXw/4v8ADGqeZ9j1fRdQh1Cwu/LkaJ/LniZkfbIjodpOGRlOCCKwf2l/2VPhv+2P8LLvwV8UvBfh/wAceGbze32PVLUS/ZZWhkh8+3k4kt7hY5pVSeFklTeSrqea/MDxr/waU6D8LfinN4s/Zi/aR+MH7Ouoakb2HUUtJZNQxaTSxTRWVtNb3FncJbxGPBFxLctJthLNujLP5hofr40mD/PAr8sv+Cl//Bwppc2pWfwJ/YvvNP8Ajf8AtHePLr+yNMutCVNQ0bw0HgWZr37Sw+yXUiRuzDEj28BhnkumVYGhl8/1j/g1Y8ffHzUdJ0v49/ty/G/4v/D6wumvptAniuVkNwIJY4poZby/vYYpEMpyxtnYoZEBXfuH6Af8E/v+CTHwF/4JmeFY7P4U+BdP07W5bQWuoeJ7/wD03X9WBSAS+bduNyRyvbRStbw+XbiQFkiQmgDz3/gh1/wSN0v/AIJC/slN4UuNQ0/xH8QfFt2ur+LdctrVIo5bgRqkdlbuUWZ7O3G/y/NOWea4lCxecYU+rPi18JND+Nvga68P+ILX7RZ3HzI6kLNaygELLE2DtdcnnBBBIIKkg9NtorHEYeliKUqFeKlGSs09U0+jRthsTVw9WNehJxnFppp2aa2aZ8u/svfFvXPgZ8WLj4O+PLr/AEa2yvhnUrwGNryLfthiU5ZSki5MYL5RkMOWO1E+nNR0631jT7izvLeG6tbqNoZoZkEkcyMMMrKeGUgkEHgg1wP7TX7PWl/tE/De6026ghXV7WOSXSLxm8trS4K8ZYKx8piFDrg5AyBuVSOA/Y0/aF1TU57z4c/ECea18feH5GiiS8XbLqFuqAj95uIllUZYsPvx7HBf53r4nK69TJsVHJMc3KjO6ozfb/nzNv7SXwO75o6WTVj7zNsPTzvCyz3ARUa1Ozr049/+f0Evst/GrLllrdp3IP2nv2U/gl4X8Baz4z8U+X4B0nR0W81DUtPm+zRpGq+WI1h2vHl2KAJFH5kkhULuZyG/Ev8AZr+OHh/4S/8ABSX4f63dfDm/8JSfGHxDJc/D66vvD3n+HtY1fzxAqPdBUFxeGcQQvOkWEnu45ne1CiSP9Hv26/iDrX/BS39tvS/2YvA+oXVn4J8HzjU/iPf2uqQRx30McluZIo9qyMz2zOIwjBgbqQeZEothKNz/AILu/wDBHW0/4KB/8E1LHwH8OdE0+Px98JY7e7+H0U9zHCzxwxrBNphu50dxHPargBpI1e4t7NpZQkbNX61LhfLuHsrqTwkPYY7HQtKdO0JU6DalbRWU6rSbdm+Ts2z5OPFmZYmdOni6nt6NGV4wqXnFys11d7RT0V7X9DrPiv8AtHeOPA/jrw3rnjj4d3+g6loU4gu9RsZ3FnqCkmWOCNvmjB2F1YCVydz5Hy7B6xc/Gvw/+0N4x8FNZ6pa2/h24aOdotQxA010XI+yskjBZJMqIwE3ffcgsua8W/4I1/8ABTXw3/wVY/4Jn2Oua/q1nqXxC8LaQNK+ImmwPEb62vYkdUvzF5MUaC8WH7VF5cfko7SRK7NbybfQ/g98BfAvxy8N6loeu29299p6D7KsN21uLWMpsWSJFIVnQ9d6sq5QY+ZgfxDL8lx2QZliKtKvGpHFcvKqjUHKsk1a8Va7pQbbUbzau0mm5fZYDMMiqQlj6mGeGknyuVOTnFympXcac3o1urTsktr7+7fH74A+Df2pfg14h+HvxC8Paf4q8G+KrQ2Wp6ZeKTHcJkMpDKQ8ciOqukiFZI5ER0ZXVWH4W/sieLvFv/BA74+av+yX+03rV5efCHxpcNqXwb+IsxWPQNMn8xjcRMX+aziumlhW5jeYxWVxtmZGhumvT+tn/DHXxE+D/Hwv+J15bWC/uYdK1xfNt7WJvnkZTsePeZRkbYEOHb5uu7w79uHwbqX7U37MuufDH9pz4P3HiDwXNaRajJ4h0YrFeeGXhWQNq0Vwolgiuol3uMmKPaZEkVoJmQ9ub5tQxuEqZTxBgqlOFZOLaj7SGu1pQ5mnezi3GLTs9GtPLnwXDF05TyrF0q6/lb9lU/8AAallp15ZS8m9L/Y/7PXxLbxx4O+w3/2hNd0HFpfpMjK5I3BWJYkliEO7ODuVsgDGfn7/AIKMf8Fzv2cf+CZX2jTfH3jL+2fGsO0Hwb4ZRNS10Z+zt++j3pFa5huUmX7XLD5sYYxeYRtP4/8A7C37b/x+/wCCenh+9+Ddlcaj4y0jx9aah4P+AXxDawhzPqkqPDpWn3UFwzrArXSxLELhjHBJDJGXns0MkP6Y/wDBKz/g3p+GP7E+m6d8QPijZ6f8Zv2jtRu31zXfGmuvLqcdpqUs8V0WsUuCQJIp4g630iC7eRpZN8Sy+RH6nBcsyo4OWWZsn7bDSdNzs1zqOibT1jUSXLVhJKUakZXSTR8bPD1qD9nXVnZNdmmrqSezTWqaumtU2meIN/wc+/FL4tH/AISD4K/sD/H/AOJ/wzvz/wASbxNsu7f+09n7uf5LTT7yBfLuEmi+S5kz5eTsbci9D8Kv+Dtj4N6H44sPA/x/+F/xe/Z38eR+Z/btprWjNe2Hh/MbTW3mFRHft50JgIxYDDXC9Yx5x/Vsx8fw+1cD+0v+yn8Of2x/hZd+Cvij4L8P+OPDN3vb7FqtqJvssrQyQ/aIH/1lvcLHNKqTwskse8lHU819gSdB8Lvi54V+OHgaw8UeCvE3h/xh4Z1XzPsWr6JqMOoWN55cjRSeXNCzI+2RHRtpOGRgcEEV0IORX4Y/G3wx4y/4NOv2oLfx94Hk1Dxr+xN8YtfWy1nwZNfCTU/BuqSRO4NkZnBkkEEEhikY4nhtzb3TLJHbXjft74Q8WaX488KaZrmh6lp+taJrVpFf6fqFhcJcWt/byoHimilQlJI3RlZWUkMpBBINAGjXG/Gn49+F/gD4ej1DxJqH2b7TvW0tokMlxeOi7isaD8BuYqgLqGZdwrzT46ftq/8ACP8Ajj/hBfh9pf8AwlnjqS4S22Fd1jbPkmRHZXUs6KvzcqiZJZwY2Sofgr+xpJqeoW/jD4sXk3jDxfcRybrG+dLnT9OWQlhEI8FWZN0nC/ulMh2KdqyH43GcSVsXWlgMiiqlSLtKo7+yptNXTa+KdvsRfq1qfbYPhmhhKEcwz+Tp05K8acbe1qJp2aT+GDf25L0Tdjk9P0T4ift9+ZLrjXnw++GZ+zSx6eke+41gjbJuWRlQshVtwkI8oERYjkZWYfSHw1+F2gfB/wAMLo3hvTYdL05ZGmMaMzs7t1ZnYlmbgDLEkBVA4AA36K9DJ+HKOCm8VWk62IkrSqS+Jq97RW0I9oxstr3ep5udcTVsdBYShFUcNF3jSj8KdkuaT3nLTWUrve1loFfn/wD8FZ/jLeftL/F/wb+yL4JuNmteOr60vvFWoxvbTR6Xp8Ze48lomYN5qJCLwrvicpDCqmQXBA+wP2qf2hNL/ZT/AGePFnxC1eP7Ra+GbFriO33Ov2y4ZhHb2+5Ucp5szxx7ypCb9zfKCa+VP+CLn7OGuX/hjWf2iviTdatq3xO+LHmeTdXsskbRaTvjMf7goir5rwK6bd0Yt0tRF5al1P61wrRhgaFTiHEK6pPlpJ/arNXi7dVTXvvz5V1Pj8S3OSoR67+n/B2PsH4G/BrQ/wBnn4QeHPBHhu3+z6L4ZsY7G33JGsk20fNNJ5aqrSyOWkkYKNzu7YyTXVUUV8XWrTq1JVajvKTbbe7b1bOuKSVkZ/izwjpPj3wtqeh65pmn61omtWstjqGn31ulxa39vKhSWGWJwUkjdGZWRgQwYggg1+X/AO15/wAGnfwH+L/xBuPH3wc8ReMP2dviBDdw6lplx4Zm8/RtNv0vftLXkdmxSaGQA7Y0tLq3ig8uFkjGxlf9UKTbzWYz8cPFn/Bs5+0h498L6poOuf8ABST4361ous2ktjqOn31jqlxa31vKhSSGWN9bKyRujMrKwKsCQeCa+n/2AP8Ag3I/Ze/4J4+KV8SaH4U1Dx94ytbsXen+IPG80OqXWkFXgki+yxJFFbQyRS26yRzrD9pQySAS7TsH3htxS4oAaqKUHyjGOKdRRQAUUUUAFFFFABRRRQAUUUUAFFFFABRRRQBk+P8Axb/wgPgTWtc/szV9a/sWxnvv7P0q3+03995UbP5MEWR5kz7dqLkbmIGRmvk39hj/AIKj+NP2kv2pNV+EfxR+AfiD4HeLD4VTxvoUF54ls9afUNIa5FuHu44Ar2FxvdMW8oZuJQSpT5vqH40t4xT4R+JW+Ho8Ot46XTZzoA19Zm0tr3YfJFyISJPJL7Q2whsZxzX5vf8ABGb/AIJ7/FD4Fftt+Mvipq/wPh/Ze8L+IPDH9m+IPCdv8Rv+Ewg8b6292bgasih5BZrErToI2kYgTAIMGRiYfXEOM/h5X5a2la3d3ST1dtFytSc4FfShzR+LmX3Xje+9ly3eyv8AzJpRl9sf8FBv2/PAP/BOH9mvXviN461KxiXT7eQ6VpDX8Nte+IrsDKWlqsjDfIxwTtDbEDORhTXD/snf8FR/C/xT/Y90n4ufGC++FXwPsda1afSbYT/FPRte0mZ487RHqkDrbSSsEkJhU708tsjg45v/AIL2fs4w/tI/8E1fGmm2vw7HxG8WWc2nv4ftLfQl1bULOeS/to5JrZdjPGRC0m90wRF5mflzXyv/AMFo/wDgkN8QvGvxB+COrfs//B3wX4q+G3gnS9V0PV/h3o8PhrRPsZvmEz3toNWsrnToXZ0QNKsDTqQNn32kTGM5Rcm1e75V2jZc13bXV+71STTto76OMZKNna12+72SSvppfm6N2aufpt8Wf2q/hf8AATTdFvPHXxI8A+C7PxKdukT694gtNNj1U4VsW7TSKJeHQ/Jnhl9RXld3/wAFbPgJp/7a9x8Bbr4heF7Xxpb6UuoNNNrenpYfaTdNbHSt5n8waiCN5tjGG8tg2T0H5h/txf8ABJP48eNtDWz0D9lrwv8AETTfFHwd0XwJ4bs9R+I1lc3HwMubMt5ghmvUQXjvmMma2CElJFDbCPM+r5v+CS9j8S/25tP8eXvwN8A+FdK1r4JSaffam9jpUl3ovjKW5jZZ/wByGd7yKIv/AKamcBMLIcgVtUvGTcVdJ1FbS75VU5fv5E7q6bnGKfV5R1ik9G1B36K7p833c8k09UoSlba323fftffCXTPD+l6tc/FD4d2+la5pE+v6bey+JLNLfUNNgCtPewyGTbJbxqyl5VJRQwJIyKoQ/tzfBO48I+JvEEfxi+Fkmg+CrpLHxDqS+K7A2eg3DuY0hu5fN2W8jOCoWQqSwwBnivx48Sf8E8P2v/jp8CPD/wAOvEX7ONr4VT4R/AvX/hpomsxfEDR9Tj8WX9yLCOGVIt8b2gdbRyPMyAHwzKeD61/wUs/4IJX2hfs2fDG8/Zh+FPg0eJvDutaRqPjbwgsunpb+LUtbF7IOkeqxz6WbiNZ7hjJPA3mGVpWE0iqrFXljdx1V4paa2lUnG7W6tTiptbrmV0hU+ZtRlvZ37XVOErJ7azlKKeqfK7XP1q8DePND+J/g/TvEPhnWdJ8RaBrEC3VhqemXcd3Z3sTcrJFLGSjoezKSDXivxG/5Sm/Bv/slXjz/ANO/gysv/gkf8DdY/Zw/YR8I+Edc+Gsnwl1DTpr2WTw3L4ntfEM1s011LM8slxaW9vaK0ryPJ5NrEsMQcKgUDYup8Rv+Upvwb/7JV48/9O/gytK0VGbjHVf12/r0JpSco3f+X9fj5N7n0ATgV8X/APBaP/grZa/8Euvg74dtfD/hfUPH3xo+Kl1Lovw88L29lPcR6jeqYUaWbyhvaON7m3AgiPnXDzRxptBkmh+z3GVr8UP2V/CUf/BVj/g6Z+MnxM1/TdQ1b4ffsk2qeF9Bj1C305I7DWbaaS1hSSHDyTRm8GuX0EwxJHJDbMzxbUhOZoeg/wDBP/8A4Nq9L8d+KU+Pn7a99qHxk+Pvi+7Gt6tomoXySaBo0u+B7eCWOEBbuSBIfKaIMbARSG3SCSKKOZ/1M+F/wk8L/A/wJY+F/BXhnQPB/hnS/M+xaRomnw6fYWnmSNK/lwxKqJukd3baoyzsTkkmsn4zftN/DX9m6PS2+InxC8D+AV1yZoNOPiPXbXSxqEi7dyQ+e6eYw3LkLkjcPUV8j/tif8FqtU/Zu+PHjjQ/CfwN8SfFD4efBaHT7j4q+NNP122so/ByXaiYCC0kQvqDxWxE0ixOvlhhuKjLCeZNpf8ADK1rtvZJXV22krpN6orldm7f5u7srLdtvZJNvWy0PUf25/8Agjb+zl/wUP0bWv8AhY3wz8Pt4m1nEjeLdIt003xHHOlq1tDMb2JRJP5UZXZFcebATFFuicRqB+cHwx+J/wARv+DVz9o+w+G/xKvte+IX7DfxD1SRPCXixoTc3/w8vJS0r28yRr/vvLBGoW4USXdsomW7tG+0f23v+Cyviz9lDXNW1rw7+zf488f/AAa8E2un6j4t+IcmsWuhafBaXnlNHJpMVyN2rsqSYZYmjCybULDduHtH/BTD9iXQP+ClP7CHjb4c6louh6nqWu6NPd+FJ9aEsEeia2LeT7Be+ZGplhMcrqHKKS0TSxsrpI8bacr5ebztro/mnqk+jtZ9Lkcyul3V11T26rTS6ut1dXPf7/UbfR9NuLy8nhtbW1jaaeaZwkcKKMszMeAoAJJPAAzXyj4Vs7j9v/8AaAfXb7yYvhx8Pb0x6bD9lLDWXLBjuaRACriONpEYZRGjTbl2kr4a/wCCU37YPi/9oT/glN8Efhb4zln8I2+k6U1hqeva3ZQxC90mylkfTfs0MPzNEljFaxozqk1zLEvVXE0/2x4F+PXjb4j+GNN8HfA3wnNo3h3R447M+INWii3IV8ku7YHkLLl3aRQJXcSF1RTX4/xBxNgswzFYCTdShSlrCC5p1qsdVBJPSEHaUnK0ZS93ofs3DvCuOy7LHmMEqdetH3ak2owoUpaObk1rOorxjGN5Ri+brY+ivjL+0b4P+A2ntJ4i1eGC6aPzIbCH97eXIw5XbGOQrFGUO21N3BYV83/Frwh4+/4KXeFNQ8K6l4X0XRvg3rUkTTQ+ItNjuTrECS288TvDIG8xgyLNHsCR5BUysVDV6l8I/wDgn/4P8C6hJq3iSSbx14guJHmmutVTdbs7GTc3kEsGZg43GVpDuUMNpr3avpv7LzjN1fNZ/V6X/PunL32u1SouneMNGt5Hy/8AauTZM/8AhJh9Yrf8/asfcT706b69pT1T2iflf/wQv/a9m8Z/to/Hz9n34s/Dvwz4P+Nvwf1GW70u8sY7+Y6xowmaBp0e6iUKqi4tWS4QQfbINQgdbdRG7N2Xgy2vP+CkH/BZDxNqGqWvm/DP9nWK40SOwvYlkjn1BvOti/lGchJXuFuJkuIkyE0+1DBJNrDzn/g5A/ZD1rw98Y/gL+1p8N/E83gv4h/C7WU8P6lewXSxz32muLi5gRFlnVJAkpuoJIIoZGmh1OZpQYLdlr6e/wCCDOg+FbT/AIJm+Cdb8J6hp+sQ+LbvUNU1DULJ7hobq7S7ltHA85VwYltY4GMa+UzQM6NIrCV/17hjKsHkXDuIxOHpRiqqdCnGy2lH97Jrr7loczu256vR3+EzjMsXmmN9rjajqT+KTbv6LyV9krJJWSsfI/7fX/BITxR8afiC3xc/Z/1X/hXP7YHwcl/tDSb+zZLW38cWka+WbS4MiCLztjbIprjMc8M/2a4Bt9j2/wBP/wDBGT/gs3oP/BT3wJq3hjxPpP8Awrv9oT4d77Txx4Hu45LWa3lik8iW7tYpv3v2fzvkkifMtrKwilLBoZp/ffj3M3wp+Jfh3xvawyCGZzp+qiMqBOmMrlQVLuUDkFiVBhjzjAz+cf8AwXJ/ZU8GePv2/wD4J+MvgvF4s0n9qzVD5xvfB9zJp667o721xbRS3NzE8f75NhRZ1fH2SK4juSYVg2fkvhHl+JrYirwa53qYOVlKWiWHkuanOT25YQvCTW3JbV78ftlSg1Lp+Pb/ACO//a48f6t/wWE/aui+EHwx1C6u/hD4Dt3vPFPiHTrWPyr29USlIY7l3CvDI8cUUW0bWk82fZPFBG6/d/7JGt2MPwg0vwpa2kmmzeB7ODRWs3Rx9nhhXyoBlyWJ2RhTuO7crZABGfhr/g22/a3+C3xS+Dniv4ceHPDuq/D346eDb6ZPH/hvxKBHr120M7QLdAFUb7PGzeU1uFDWcrtHIGaVLi5+z/i7ptx8FfiZZeONJs/+JZff6NrkcMAbhnUl/vDDPxgjaN6DcTvIPveLHEU8rxeGx2UOX9m4a8K0LK81PlTxTS+KpFxjdu9qCaSjZmNOnOn++nu9/JdLeh7NRVfSdUg1zSrW9tZPNtbyJZ4X2ld6MAynBwRkEcHmrFenTqRqQU4NNNXTWqaezT7HoBRtooqwArmiiigAooooAK+Gv+C3HxI034XfDzwbJ4fj1EfGbxBqi2Xg/wDszT5Li7udjp5i7kYYKPNC0Qw7+a6BEKvKy/YvxU+Kvh34IfDzVvFnizVrXQ/DuhwG4vb24J2RLkAAAAszsxVVRQWdmVVBZgD+f/8AwTb+Ferf8FD/ANqPXf2rviVpNrFpNvOdL8DaBci4uI9Pa38sJdwvIRGyQnzAGRSrXUlzKEgeJQfpMk4dwGMo1MxzukqmEouLcWrqpUvenT181zT3tFO9uZFUc0xeCrKeAm4VGmrp2aTVpP7nb/hj0b/giH8LfC/wG+AWqeF9k1n8Tri9a+8VW19bxw3UbLiOOGMqNzQQcqQzMUmkmOFEqg/bVfOv7UP7O+uaN8Rbf4u/DtfO8XaTiS+02RDMupxLF5RMa9d/lZQopBZeUKyAb/TP2dv2idD/AGjvA66rpTfZ7y32x6hp8jhprCUg8HpuRsEq4ADAHgMGVfz2jxZmGOzWth8/a+tSlKUZJWjVh0cVraUVpKF/dSTV47fVZvkGEjgqeaZNd4eyU4t3lSqdYy7xk9YTtZ7OzWv5wp/wTw1b9hD/AILE/Hj4uaX4s0vwr8BfjR4Vj17XrfUdYNtZ2muPfCe7ubhZJpB5UBt7u7N1KIUiXVXhhUok237s+Jfh1fgV8SfCviixmkj0qQQ6RqbSFmyioEDMFOWJiXICrtDQKcEkCvjv/gtxrvwy/aL/AGT/AI1eBvHXjSx0PUdY0A23hGytbrzL271G2lN3p7bI4pG+xy3VkUlldNoWYqJFYoy/O/7A3xz/AGh/+CyPwcX4FXXxF8HWelfCfw3Z6d438RWlvLfahqk7RvDaLdTTzSTy3Uz2U4mkjeHcrXLSriSOBvazvw2xPEOVqtVqLCwpThVhXmnaM6bveEV71STjzR5IayTcbxvdeLxBWjh6NHLYaziuaSX88rPXtaNlr5n6Dftmf8Ff/AP7L/iy28G+GdPuvir8Rr6f7JFoOgXKOltc/aFg+zXEyCRo7gt5gWFI5JN0YV1jDox+evFP7Inxm/bWs9G+J37THiCPw/4VZrO50z4X6V9qtoZHVJwBcoX/ANFkKsZHYtLcGOaSHfbMqKn0f/wS6/Y/+Fv7OPgK7vvCWku3jCVWsNX1e/n8+/uYfNaWNRztiiIKKRGkYkMClg7Rhq9Q8PD/AIXj8Xf7cVpD4d8NMqWaski/aZfvbgM4BDYY9DtEQK8nH1WT8eZPLL6eM4RTaqxuq80vaNPdRjrGlZ3Wl5q2rTOXJcvjipPFY7+DTXM4rZ9o36uT07bvofmr/wAEp/Fmrftxf8FrfixeTW9rpPws/Y3tJfCfhrw+RLp1xZ+ILsy6fNfmGFjFMiwWmrW6iVgsUU0BSBZGldf0+/ao/a5+G/7EXwbvviB8VPFmn+DvCWnypBLe3KyStJK5wkUUUSvLNIeTsjRmwrHGFJH5T/8ABHXxn/wx/wD8HGv7cXwN8Uz+H/7W+LWrN470i9j1Xy/N/fTanBYRQyRq01wbHW2lkCH93/Z8+BKmZV+6v+CpX7FfxL/adm+EPjT4O6r8P7X4i/BbxS3iPSdP8dW9zN4d1MyWz27ef9mBmSSMOJInQZDL1UncvytWUr8y3lJXdr7tJt6q9lrv0NsVi54utOvWd202le2ybUVvZXslpoYfxs/4KJePP2gf2Z/CvxD/AGPYfhN4w8H6+uoXmr/EP4h6tcaP4Y8H2tj/AK03lriO/ZnKSqCqKsWze/yEGuF8I/8ABRb9qD9on/gnj8MfiV8Ofhp8H/D/AIg8S2up3nivxd438Qz2Xgfw1Z6fI6/2gsYK30trepE8sLLlYUZWkd1w7eFa3/wRs/a2b9mL4U+CVuv2XPE0fgzxj4i8WeIPCviK815/B3iKTULmO8s/OtYYUe4FrcSXm2GYmLAhZhISyr6z+27+wl+2H+2N8IfgZHqyfso6trnge+1K+8ZeDdUn8QDwD4gk8yMaU32WNPOuVt40ZjDcHyhKc7XUhVtx9x26yj52Vrt3Vr2eiirJ2XNL3ny8cXdq/Tm8r2cktHe10k7u7V0lFr4vWvgvqOof8Fsv+CNF9Z/EbQNA8K6n8XvDWp6LLLHYtqmlw3KyTW9rrVnDcbHeHzoob63DMHXERWUlVlPyx/wQs1f4p/tVf8Er/hf8PNJ8baZdeG/CelPpXiHXI9UbUnCzXLXUGlmQjzEltLCe2gNoCixpH5bOI3iFffvhP4x+Pv2X/wBgvXfH/wC0JY+CZPFHw70DVPEHiC1+GqXD6XJZ2Uc1wqWSXzJJ5hto1XbI6r5mfmVSMfFP/Bnr8FNV+FX/AAR/j1zULjT5rP4leNdW8R6Ylu7tJBbxrb6WyzBlULIZ9NnYBSw8t4zuDFlXzOIsoWZL6u6soU7+8oOzmrfC5LVJ9eW11poj1OHs5eWVHiY0ozqfYc1dQd/iUXpJpaRcr20lufo58FvgJ4X+APh6TT/Den/ZvtOxru5lcyXF46LtDSOfxO1QqAuxVV3GuyoorswmEoYWjHD4aChCOiSVkvRI4sZjK+KrSxGJm5zlq22236thRRXy/wD8FaP25Jv2H/2XLjUNCvLWHx34nnGl+HklSKcwN96e7MLuCyQx5w211E0tuHQq5B9jKssr5jjKeBwyvOo0l29X5JavyRxVKkacHOWyPn/9pWFv+Ctn/BRLTPhPpNxdD4SfA2dr3xpLLb3cMGq6itx5MtkCjqpcqjQRSN5ToPt8kbSKFD/pBXzT/wAEsP2Frf8AYX/ZotdNvI/M8aeKPK1bxJNJFCJLe4MSgWKyRlt8Vv8AMoJdwXeaRdok2L9LV7nFmZUKlaGX4CV8Ph04wf8AM3rOfrOWvokY4WnJJ1J/FLV/ovkFFFFfJnUFFFFABRRRQAUUUUAFFFFABRRRQAUUUUAFFFFABRRRQAUUUUAFFFFABRX5j/8ABRn/AIKreJf2UPjX+1n4Zuvih4Z8A3XhH4SaZrXwv07VJdMiuNS1iZdQMs9rHcIZLuTfFDH5J8xBsHyZc5+f/HP/AAUk/a30n4x/ETxnb/F7QdP+DXwa8c+CdA1CwufCVjJP4kbVotKS+tnm8tXghh86afen7zdcbQ2wJ5Zhv39RU49bavZXm6a/8mX3NdXYWJkqEXKfS/4QVT/0l/en0Vz9nPCHxN8N/EHUNatNB8QaHrl14avm0zV4dPvormTSrtVVzb3CoxMUoV1Yo+GAYHGCK3K/Db/goJB8QP2iv+Cc/wC194k0D4haN8PNC8C/HTV7PX9PsvBGlrL4sgtb3So7P7RdRrFIslvMnm/aGMksqqqO20AD0D9p/wDbF/aC/Y7/AGtPhd8P/G/7ZHhV/Demw6NBr9/onhLwlca/4jvL3UiGTUNGnv476zh+zyW6JLpsFx+7LSsoIJow/wC8VJPR1OS3/b9NTv5LXltveyV76Ot+79o91Bzv/wBuT5GvN7PtbV26fsTRRRQAV8//ABG/5Sm/Bv8A7JV48/8ATv4Mr6Ar5/8AiN/ylN+Df/ZKvHn/AKd/BlAH0ATtFfjf/wAELtWuvgF/wXq/4KEfCXxRpOoWHirxt4gbx9p7K0E1r/ZY1G6niZ3SQkSTQa9YSogUkDzVk8t02N+yDDIr8gf+C+/7Injr9lH9sb4W/wDBQH4J+Ff7e1b4T/J8TtKsBbxXGp6RGpia7Km2kZt1jNd2lzdMZZLeAWkiRqlvJIgAz/gtl/wTU+N37R/7TfxH1vwn8B/DPx/0X4leALLwr4b1bU/FNjplx8J7yCeSSe4ggvOJDMzI++Aq+FdSwBw8vxw/Yb/as0/Tvjd8M/h38JfDV14J/a607Rp9Y8Ran4rs7Y/Cy4bTrew1S3uLRSz32I4SY2tWKqSCN/3a/Rv9hX9uj4c/8FFP2cdG+J3wx1n+1NA1TMFxbTKI77RLxAplsbyIE+VcR7lyuSrKySI0kUkcj+wBgf51nTpxhB02rp3un1i5Obi7W0cne6tLRLmtdOqk5Smqi0krNNdJKMYqSvfVKNrO8dX7t2flB+058Cf2mNB/bktpP+GW7/8Aaa+DHwts9Gh+GOn3HxU0jw3oWmXVvYxpNqVxps4Z7y+WYyrHJcgrCufLXJEg/Tr4mfFjRfgt8INf8c+LrhtD8O+E9HuNd1qdonuG0+1t4GnncpCHaTZGjnEYYttwoJIFdNmvxx/4Lj/t4+Mv+CiXxlT9gv8AZLvNQ1jx3rF20fxR8SWF0ING8PaXGGiutNu7lUdhGHkj+1tEVKlFsgLiW5ltk39pJw5Zau7bfVt7t2srt9bX+SRn7OKacdEko28krLe709bXbdtTiP2A/i74x+PP7Inw6+OXiDwJDpWm6/ezRQGZ4rzStXmsrhopSqLI0iQySQyr5U+yQiOUDzEUSv8Aoh4G/wCChOqeCPB2hTeKfhvNY+HZI1gi1bQj/wAS8jYzRRQRkeXuVVCNH5+UKSAgFDGPYvgJ+xx4C/Z6/ZI8MfBXQ9Hhm8C+F9Gh0WKCeKJJLwIAXuZjCkaG6ll3TySoqFpneThjmvI/D/iDXP8Agnp44h0LXZrzWvhLrVww07Uihkm0WViWKOFH1LIBhwDJGAwkjP4diuF6/DOPli8uxDo4Wq1d8sZqnK6spqWvs3spJpx2bt7z/eMLxVQ4py6ODzPDKvi6SfKueUHUjZ3cHHT2i3cHFqVrpX91er+BP23vhh4/8tIfFVnpty1uLiSHVFay8n7uUMkgETOC2MI7ZwSMgE16xXmni39lz4YfGX7Pq154Z0a++17rxL2wdrb7b52HMrSQMvnbuGDMW+8SD8xz86ftKfs72/7BfwZ8VfE7wz8SPE3h7TvDdil29jLEZ/7WvVkKWsEjQ7V2STSxRfvIXVPMZmypYD9BwdbihVoYf6tDFc7UYulLkk76L3KnutttWtUt+CPz+rguGMRFypYmphpJO8asOeN+ynT95W86fZd2ef8A7YF3qn7ef/BW3wH8EIIf+KF+DvkeLPFUF5Ck1rqT7YZ8SQNNsuImjltbVSY98ZvbolXjzn5n/wCCVviyP/ggl/wVp8YfsP8AivUtQ1H4W/Gi7tvF3wt8RancadbNDcT28kJiutpDvJcvaCwU7lL3GnwmK1Rb0lPdP+CWMPxr+DPww8SfFrUPhv8A8JO3xf1RvEWq3oZrfVNTiZpPIZLdGxGhmmnmUx2xDxzht2zYU88/4Lk6N4b/AOCjv7L1rq2mx+JPhn+0Z8CrifxD4H1B9XlsILO7S4t2urMzou6OaSO2SSOSSODybm2hzPFH5pf7njbjbKcNmcOG5T9n9VXsk5RlGNSd/wB5OMmuVqU20ve1UVZHj5dwXm2IwX9pYamqsZLmfJKM5RXRShFuSaVm/d0v3P0F/wCCkX7Tfhb9lT9lLXNf8UW91fDUGGmaTY24YPfag6vJAhccRovlNIztwFiYAOxWN/nP/gjL+yVPa6h4j+LnxVtb7UPjTe3XkRnViWuNAsTCsaARMoEE7BJIioJMUMaRARAyI3i//BPnwj44/wCCxnxe8D/Eb41y+HtX8L/BnQrHRdR0pp/Oj8T62LVWuLt7VPLjiSa5PnufJSJ0igt/LlVJWT9BvGH2X4J/tG6brn+jw6Z4uie1u84X7PJuTdJ/CqqW8pmYljzKeuK5vEDMo8EUaEsNGHta8oUsbV+3TpSclTpRmnZRjVmpVlZ811Fv3Xb4+znUVeS91bfP7X+X3nyN/wAFm/8AgjJr37RPjvSf2lv2adW/4V3+1h8O9l3YX9pJHaw+NYoo/LFpdF/3X2jycwxyzAxSxMba5DQMj2/af8Eg/wDgr54V/wCCs3wr17wR430GPwL8d/AqPY+PfAV9FJbSwyRSCGS8tY5T5wgE2FeNiZrSYiOQnMM0/wB11+cH/BZv/gjJr37RPjvSf2lv2adW/wCFd/tYfDvZd2F/aSR2sPjWKKPyxaXRf919o8nMMcswMUsTG2uQ0DI9vhWo061OVKrFSjJNNNXTT0aaejTW6Z6R9c/s/wCsXXww8Zah8P8AWTcbvNe40iV4ztuI8MWx8xCqwXeAOA3mAndxXs1fmz/wTv8A+Coui/8ABXX4Q6npuqaT/wAK1/ak+EG9PGHg2aGa1vVa3kMUs1nG587yfPwpjcNLaTkQyHEkc8/398IPiTB8U/A9tqcfy3C4gvIwhVY5wqlwuSfl5BByeCM85A/NeC5VMkxk+EsU/cgnPDSbu5Ub6wd95UW7ecHF2Vm3jT91+zfy9P8AgHUUU1n2ntjuT2r4R/4KAf8ABx1+y7/wTz8Uv4b1zxZqHj7xla3RtNQ8P+B4YdVutIZXnjl+1SvNFbQyRS27RvbtN9oRnjJi2NuH6cbH3hRX5An/AIOXPj94wP8Aa3gb/gnP+0B4r8E6p/pnh/W/+JjH/bGnyfPbXW2HSZ4l82Eo+I5pUG7CyOMMe/8A2av+Dr79nP4rfFO0+H/xK0nx/wDAPxtHssNXi8Zaakel6Xq4mjgn097mNzLF5cryAz3dvbRqkDtKYThKAP0/orN8KeMNL8feGNM1zQdT0/WtD1q1ivtP1CwuEuLW+t5UDxTRSoSkkboysrKSGVgQSCK+e/8Agqd+3Vb/ALDH7M91qVnJv8aeKPN0rw3DHLAJLe4MTE3zRyBt8Vv8rEBHDO8MbbRJvXvyvLcRmGLp4LCq85uyX+fkt2+iIqVIwi5y2R81f8FKviJrn/BRT9r/AMM/sufDPxL9m0HT/MvvHmpWgkubO2libcYbhY0G77N5a4XzfKe5uoY3MckIZf0V8CeCNL+GfgfRvDeh2v2HRfD9jBpthb+Y8n2e3hjWONNzks21FUZYknGSSea+df8Aglf+xBffsg/BS91TxdJdXnxV+IU41Xxfdz6m18WmDytDDv8Aus6LM5kcFy80sp8yRBHjif2s/wDgsx4X8BavD4N+Cem/8Lu+JOpedHDZ6EJbyxssWxmWbfAjfa8ZDGK3b7scweWFkAb7bM8PWzSrTyLIYOdDDp3krKMpP46s5aJRbVouT0ilbexx05KmnWraSl08uiX6+Z9geN/Heh/DPwxda54k1nSfD+i2Oz7Rf6ldx2lrb73VF3ySEKu52VRk8lgOpFfl54L/AGwm+Lf7YWqQfs22/ibw58O2kjPizWbiyRbEqss7CO2hY/uVuViAhZis8YluCsSLGQvofw9/4JR/ET9tfxwnxE/au8Wat5326aex8A6TeL9h0qLzIQIxKkkiRRSRwlWjt/3rL5UjXHm7wPqy78BaOnxI8O+AvC+k6PofhTwup1CfTNPsUtrOFmcysvkrtjIYuv3VPM7k5ywrwM0yfhzBqLqpYvF03eMk2qdKVrNxa1q+jtTel1NKz+p4WxuNVecYycKDi3UWj54R1s000neyTXvJv3Wmzzv4Sf8ABOj4X/FbxsvxU8YR6X8TrzULaCLRLe9hjl0vRLZYWSW38lWaO6kM8tw7POG2N5YRYzHub87/APgpNpH/AA4t/wCC8vw8/ay0ix/s/wCCX7QXmeGPiT9lsf8ARtMupTF9rnbybJ/L3+Va6mqIz3V3PY6iNyo5r9AtZ/tD/gnn8cLVtP8Atk/wl8XXCfaY7jdJFpE7Eh9jLufeiKHGVzLGCh3tH5i+kf8ABQ79mvwj+3d+wP8AEb4deItQhj8OeN9BYW2pws0yWlypS4sbxFjli8/yrmO3mWPzVSUoEYlXIPweV8W4nN08JmF41sPaDhe8Yq3uyht7k1qnZNu/Nd3b9LibIpUcRHHYaXtaOJblCdrNtvWElracXo1e21tNFm/FjQ9S+Hnxa1S30OaPyfHVuIntzIM+bLJtb5WY8s27DsAAJnC42kj27wN4LtfAfhe1021SPEKgyyBNpnkwN0h5JySPU4GAOAK/N/8A4J9xfD3TvDWvfsw6D401jxJ8VP2efB2hveQ38sgbVIXh+ZrdJpZbiRUQQHyos29qt7YwLJj93F+iHwb8dJ8RPhzpmped5115QhuydoYToAHyq8Lk/MBx8rKcDOK+ayOphcqzerw9QpOEJxlXg27qTnUl7WMVpyqDcWoq+kuml/MzSpHCRWVUvs+9N95vdekNl53Z+dH/AAX3/wCCdPxS8YfFL4Wftdfs52/9ofGz9n/D3ehRyXn2jxfpEcxnFpEsMyeZs8y8SS1jCSXkF9PGJGdIYZPo/wD4JWf8FhvhJ/wVZ+Dmnav4R1jT9F8eR2ry6/4FvdQibWdDkiMSTOI/le4s900Wy7RBG4lRWEcoeGP6uZcmvzh/4KK/8G0Hwb/bQ+Kdx8VPAOt6/wDAX42S6quu/wDCVeGWaS2udRE1vJ9tms/Mj23C+S7rLay2zmed5pTM/X7s8Y/R8Pms/wAWeL9J8BeFtS1zXdT0/RdE0W0lv9Q1C/uEtrWxt4kLyzSyuQkcaIpZnYhVAJJAr8gvDX/BOL/grV8FNOk8L+Df2xfhhrnhXSbq5TSdQ8Uwm/1m8t2nkdJLmW60i7mEhDA+W11MIhiNJGRFNZ4/4NuP2jv2+PEf9qftq/tb6/4p0n+1ftcng/wS8n9lv5Vj9ntrq3M8UNnZXAZ5A4j019yeYfM33DsgBz3/AAUo/aZ8U/8ABxv+0ev7In7Mt5s+DPgvVrfVPih8VFllfSJvKaQR20CxuqXluJAzxRsT9subeOSMxW9q12/7O/CP4X6D8EPhV4Z8FeFrH+y/DPg/SrXRNIsvOkn+yWdtCsMEXmSM0j7Y0UbnZmOMkknNcf8AsifsXfDH9g34NweAPhJ4R0/wb4Vhu5r9rS2lmnkubiUgvNNPM7zTSEKiBpXcrHHHGCERFHqQGKACiiigCrr2vWPhbQ7zVNUvLXTdN02B7q7u7qZYYLWFFLPJI7EKqKoJLEgAAk1+dP7IF9ff8FQf+ClXiT4yapJdX3wk+Ds76f4GtLmNmsprxgFS5jSS3VS5VDdvkrcQyS2ALMsa47X/AILF/tCeJPEuoeEf2Z/h3H5njT4ybI9Rug10jaVphmC7iYUOYpfKuPObLhLe3nDxkSKy/Vf7K37Pel/sp/s8eE/h7pEn2i18M2K28lxtdftlwzGS4uNrO5TzZnkk2BiE37V+UAV95g1HJslljJL/AGjFJxp/3aW05+Tm1yR2fLzNaPXil++rcn2Y6vzfRfLc9Aooor4M7TF+JHji1+GPw717xJfLI9j4e0641O4WMZZo4YmkYD3wpr8f/G3w7+M/xF/4JneIv25vFn7V/wAZvAnjy40CXx94W8JeHNahs/A+j2v+t03S59NaJkvmdTHE7yEGRpVVlkKkyfstdWsV9ayQTxxzQzKUkjdQyupGCCDwQRxg18J+Fv8Ag3h+CPhb4kaZeL4q+NF/8NdD1r/hINL+El74xkm+H+nXYkaZGj00pu2rOzTBGlZSzMGDIShzUG5vXlulaW/Lq+ZpdZNcvLtblaulJmntFGKduazbcduZW0TfRXvda3unZuKRT8P/APBa7VJf2aPG3jS8+Fm7WPAXjnw18PrvTG177O15fammmCeUlrY+SIJtQZAh37/IzvTd8vg0P/Ba39qj4GfHz9qTUviN+za9x4B+E2mWOsf2VF470kyeDo2snaFTLBbtLeLfyIJS2HNqCQQQMV9N/H7/AIIUfDf4/wD7S+pfEmb4lfHXwvHr3iHTfFeseENB8VRweFdY1OxMBhurixkt5A8h+zQbjuB+QFdp5qj/AMFTv2E4h+yH+2H4y8EWXjLxR8Qfjd4LtdOn0S0Q3yyvYW7w26WdtFH5hkdZG3ZLliBjaBipxVaSoTrxXv8ALL3Vqk+SFmv+31OUfJpNW90nC0V7WNBu8bx1e79+V79vccU99Y6PVt8P4b/4L0eLPDss/h34qfs73vwv+JUmr+FLfTvD0vje01a31DTdevjZxX32u2gPltE0czNA0WTtQFlL/LzP/BU3/gr/APHf4a/C34+WXwT+E6rN8FvFWm6BqnjZvE2nsNNjlh068846fdW583zhdNa7ELlN3m7hgAekfBr/AIIGfDW3/Ze8QeHfFXjj45+JPGHxAtdDuL7xhrvi43Pijw5JppWeyh0+58oLbpbTmRkUxscuQSwVAvX/AA//AOCIHw98Gfsr/Fr4Ual8SPjZ42svjRqdtq3iPxF4m8RW+oeIZJoBbrHsuzbLwFtolzIjsAMAjjHZWpqNSUL/AAt2a2fvU7LW+yjPm6SctNLJY4eo5KFR7O177r3Zcz+cnFxW6UbPd3+kv2YviF42+KnwM0DX/iL4A/4Vf4y1GJ31HwwNcg1r+y2Ejqg+1wARy7kCPlRxv2nkGvgr4c/8FMvE37NmlfGaxTQvF3xu+Jfiz9oTXfBfw78HHWvINwsVvbTGAXdxuisrOCLzHJxsTd90Asy/phbwi2gSNd22NQoycnAr5B+NH/BFP4XfGfwlrFmfFHxS8J6/qXxCvfiXZeKvDOvppmvaBql3EsNwtncJCRHA8S7Cjo7YOd24Bhzzb9s5xVouNtOl6lJu1768kZ2bv26lU0/YxjLWSd9fKnUSva2nPKN0raa9Dy74C/8ABwLpPi6HwLe/FL4X6p8I9D8ZaD4ovW1O51uPU7ex1Tw/czJfaZmOFNzfZ4HmWQ7NxBRUbG8+afEP/g54fwZafDuG1+As99r/AIo8PWXivXNDu/iBpul6lpdhf3LJYR6fbXCLPq99NbqJ/stvGGXzoV3NvLLN+2x/wRe0Oy/Zc+B/7Lvhu0+JHxK8K+KPi4viTWvE/iV/7TufClisM11qUr3kEMSxG6bzI1MvLy3kmCTsC/SH7WX/AARK+Gf7Uf7Ruj/FjTfG/wAZPg3480vRU8Oz6p8NPFP9gS6rp6Mpit7g+VIdiBAo8sxkjAbdsj2XT1cZStZSSe6ulByb725pxgra2pt3u2OWjaXWLa8rz5YrTS/LCUnf7Ul0sjj7P/gsd8QvGP7c2t/Cvwf+zF408VeDfB/jiw8G+JvHFtrKiHRBeW8E8d09kLZpSIw83mgsqQrHEzygzBV+9q8m/Zp/Y28K/sreL/iRrXh298RX178Udci1/Vm1a+F2Yp47SC0VY3KhyvlwKxMrSSM7MS5yAPWaasqcY7uyu+t+WN120lzWstn5E+85yk9ruy8ruz76q1/NBRRRUlhRRRQAUUUUAFFFFABRRRQB5v8AG/8AY2+EP7TWr2OofEj4U/Df4g3+mwm3s7nxL4ZstWmtYi24pG9xG5RS3OAQM81oXH7Mnw2u9J1iwm+HvgeWx8QXlrqGqW76FatDqVzbCIW0867MSyQiCERu4LIIY9pG1cdxRRH3fh0/4e/56+uoS11f9dPy0OR1L9n7wHrPhHXvD954J8I3Wg+Kb59T1rTZtHt5LPV7t2R3uLiIpsmlZo0Yu4LEopJyBWd4r/ZQ+Fvjv4t6X4/1z4a+ANZ8eaGIl03xJfeHrS41fTxEzNEIbp4zLHsZmK7WG0sSMZNd/RQtLNdNvKysrei09AeqafW9/O+r+97hRRRQAV8//Eb/AJSm/Bv/ALJV48/9O/gyvoCvn/4jf8pTfg3/ANkq8ef+nfwZQB9AU1ly1OooA/JD9qz/AINm9W+Gvx91D42fsSfFrUP2fPiReXX2qfw68rw+F7sNcWkrW0fkIz29nvhlme0lhu7eRzFEscEKBRgeGvj1/wAFmPg7p0vhi6+CPwR+K0ui3Vzbr4uvL7T7eTX0E8hjnEcOq2KLGUKhAbSCTYE8xPM3k/sdRQB+KPiv9gT/AIKgf8FYodS0n47fFTwf+zT8LtaupbTUvCnhho7m6a2GnGE7FspXa7s7l5XWW3u9UxkyP5W2OBD+jn/BNL/glV8Jf+CUnwbvPCHwu02/eXWrs3uta/rEsVzrOtyAv5IuJo4408uFHZI440RFDO20ySyyP9JUUAIq7azvGPg7S/iD4YvdF1qyh1DS9Qj8q4t5R8rjqORyrAgEMCCpAIIIBrSoqKlOFSDp1EmmrNPVNPdNdUzSnUnTmqlNtSTumtGmtmn0aPlDw/4g1z/gnp44h0LXZrzWvhLrVww07Uihkm0WViWKOFH1LIBhwDJGAwkjPlH/AAVg+IF5+1J+0P8ABP8AZn8Oy38mi/EK6tvE3iS8067jh+2aSskmPJlMhjkVIre7uCkkbgvDasm5gVP298bZvC9p8IPE1141jhfwjp+mz3urmWJ5VjtoUMskm2MF9yKhYFBvBUFfmAr8sP8Agkz44uPhV8WfE3x28UeD9TsvBfxFupfDmj6xM8ks2m28ciuyAokcVxGPLgjaQRB3a0mKYaOWN74Jw74Sp4rPcTNPA4eKVLmu5U61SShCF+tOF3Uu3emopPRpr6nNKy4nlSo0Kb+vyb5+WyjVjGLk52urVXblcUmpt3VndP8AW3QdCsfC2h2el6XZ2um6bpsCWtpaWsKwwWsKKFSONFAVUVQAFAAAAAr84v8AgoZ471r/AIKfftVW/wCyx8O306y0fwbdrrnjHxNLdLMkBhURvHFFHJ+8ELXQjaNvna52qfJSF5W9h/4Kz/t9/wDDP/wPsfCPw+uodc+J3xUjXT9CtdMuJZL62tLlXjGoW4t/maQuVjt8MpaV96eYIXQ93/wTO/YFsf2APgI2hSXlrrHizXp11DX9ThgVEebYFS2ibaJGt4Ru2eZyWklcLH5hjX7zJIU8pwK4hxNpVZtrDxaveSavWfRqH2b7y16Hw1bmnUeHjol8XT/t359fI/Lr/gpha6h/wSL/AOCifgtvEdvfaX+xX8SYINPg1bTtAN6/w/1NLSeJ7fzFmM9xvuEhv5TOGklge5S2Vnt3J/Rj4nfsq/GvSPDIsdK8dL480uCdL77JqZ8u8knz5ZVHmL/uwhzgzoOXwu7BbuP+CnX/AAT18K/8FQf2NvFHwj8U3X9k/wBreVeaRrcdjDd3Ph/UYW3wXUSyD/eikCNG8kE08Ykj8wsPkH/g2f8A+ChepfFv4E65+y98TLX+xfjb+y3nwpqVrNfWMn9p6da3EtnEYEtyN32Hyo7OZ1EiHFrKZ5HuSF/EM84ByfNXWnXg4zrX55Qk4uTerclflk29W5Rd3q92fdYPjbM6VCGExDjXox0UKsI1Ipdk2uZK2i5ZKyta1lb6G8Cf8FDNc8DeGNLTxv4E1ZrC1b7Bda7ZTGSOaURlkUBxsaQqF3Az5++2P4a9g8CftvfDDx/5aQ+KrPTblrcXEkOqK1l5P3coZJAImcFsYR2zgkZAJqj4T05Pgl+0beabn7NofjCLzbMBFWJZw2RHuwoXaTIqomeJYgck5Gr4/wD2MPhn8Q9P8m48J6bpskcciQ3GlRixkiLgDfiLCuy4BXzFcA54wSD8bwbiuKqmCnS9tTqVcPOVKdOpFqzhblcZwd2pwamnOLetm38R0UM04ZxytjsJPDz6yoy5o3115Kl2ltop7bba/nF/wcC/8Eivih4s+Muhftkfsr6jqGj/AB4+GtpEdT0jR7WJb3xHb24cLdW4VM3V4kDtbyW0/mi7tUSBQTGsFzof8EVf+C3Xgn9uYLqEsen+DvHUNoI/GXhG1EvkQkbFGp2CsxMlm8rA7SWktjI8LBgYJrj68u/+CfWufC+6e/8Ahb8QtZ0O5/cyNZ37nybyWOQkGV4gFZArHCPC4J3AnDnH5Rf8FVv+CZ+m/A/9quT42P48tfhL8a55YdTh1LwlLZzx63eO0zy38ukfu5GNwizW8r7YLaV1JlEjyzNP6OeYTNs7dGhDL6lPG0pqdCdOLrxUr2al7O0+ScbxqJxslrq1G/PjeFcBUpOvl2YUpqOtqj9jPRbWm+V320m7/J2+sf8Agtn/AMFNPid4j/ae8KfsPfst3Wn2fxw+KlqH1vxU+rRW6+DNPeKaaSONkZpILz7JDJcvIV82K3aJrdJZ54nh98/4Jf8A/BCn4C/8Eu/C2h3fh7wzp/in4pWdqiaj491i287U7i4KTpJJaK7OmnxstzLF5dvtLxbEmedlMh+VP+DbX4b69+0V+1B+0d+1V4+0bQdO8Ya4+j/Dm0TT9Tubj7J9i0qwl1BkjbEf2a5xpUkIcySxCJ4yVwzS/r4ORX6hTjiYwUcbSdKql78G7uEvtRbWjcXdXW9j4+MuaKkuoq/dFeOfti/sDfBr9v7wPD4d+MXw98P+OdPtN32OW7jeK/0zdJFI/wBlvIWS4tvMa3iEnkyJ5ioEfcuVPOfte/8ABT34V/sU/Gv4WfDfxZda1feOvjBrNto/h/RtJsDczETTpbm7mdmSOK3jkddxLmQjcUR9rYw/28/+CsPgf9gPxfp/h7VvA/xf+ImvXGkyeIr6y8B+FX1htB0mNzG+oXjl444rcOrKW3sw25KgEE1zx5VO+jbin0vFXkv+3Vq+iSd7WdtOV8zj1STt5N2X3vRd7q26Pzd+DPxi8ef8Guf7aXhj4D/ELXNQ+Iv7IXxk1K4fwDrEsizaz4KnM0QuEeFcM0ccl1CbiONBHKJhdW6pMbm0frvD/wC2z4H+If7Z13+0z8bpdWj0Xw/m2+FnhO10S3kvNZtIrmeJLl1d2VfszyPL5skiq90JRBKTaNAPrD/gsF4L8O/ts/8ABKS9+J3h3XLe48P+CdDn+LeiXJ08v/bMFto17LFEm8o9uZorgjzCrMgYgockV8M/8Enf+Ce/xI/aU/Yv+HP7SXwr8X+CfD/izxVPeeVo/ibQYb+DRVs9SuLcXEFzLDcD7R5llE6sttGyCRwJBg7/ANb4FnkOEwldZhiPZ4ipeHK1KPLDqufkkoOe0nZtRulZu68jFSq1HGVJXjvfTXs7XV7dD6s0zw3+0r/wVyvNM1bWrq6+BP7PetwQSvpVjqAbV/ENm8U6TFXWNZJEmDFcTiK3MUsEiw3BQs/2B+yl+wf8Lf2MNDW38C+GLWz1KSAQXetXX+k6rfgrEH8y4b5lR2hRzFHshDgssa5r5f8A+HqPxz/Za+b9or9nrVtP0VP9KuvEng9/tNjp9u/7qCNx5k0Bla4G077uIhZUIjJ2+Z9Afs7f8FRfgZ+039jt/D/j7SbHWrz7LGNH1pv7MvjcXGQltGs21biUOChFu0oDbeSHQtxcSUM+eG5MNRUMGtlQfPTa6Oc4uTlLa7m7t62VzTDyoc15O8/72j+Se3yPdtc1ePQNFvL+ZZGhsYHuHCAFiqKWOM4GcD1rzv8AZt0Rr7T9V8UXcEaX2vXcjqy42iPcSdnVlBkLAgnnYvpkn7SWttfafpXhe0njS+167jRlbG0R7gBv6soMhUggc7G9MH0TQ9Jj0DRbOwhaRobGBLdC5BYqihRnAAzgelfmZ9hrhcr/AL1d/wDkkf8AOX4L7q/jHwdpfxB8MXui61ZQ6hpeoR+VcW8o+Vx1HI5VgQCGBBUgEEEA18e+G7Cb4EeIb/wB4g8ZfZ/AjeIRBYGWYPHDE3z/ADSqnyMckOrKsSSozHAJavq/4s/EBfhr4Mn1AJHLcswhto3zteRs9cdgoZu2duMgkVwUH7MWnfEH4GalpPiCLzNW8SR/a5Lq5VpZLG5w5hlAJVg8e8lhkFi0iklTivAzjK3UmsxwkV9ZpxkoXbSldfDO1m431SeilaR9FwnmscBhJrHt/V6kopJJNqS3qRTvZwXVL3r8vp+Z/wDwXZ+Fuuf8ElP20vh//wAFBPg7oF5qgW4Twn8WPD41G8jsNZsJLWO1s5HWJGS3i2QJCXkYwJdRaU4t5JPM8z9DP2T/AIjaLqHiWxuPC+pf2j4B+JWi23irwrcmGaP7XaXESzwOscnzx7oWbPmqrnylyFOFPlNv4H0n4ufBjxr+yb8fIZm0/wAX6dLpOmX0ghmje3lXbbtaSTROizQyqJrWR1bZLGi4R4kjPwN/wQZ+JXjH4FRfFL9kD4gR/Y/ip+y3rdzrGgvFZSrHqGhS3itcvCGs42e3jvJ4b2Ga4fdNBrGVQRxcfn/FGYrG5ZQ4nwVN/WMBPmnT2mo25a9J+bh7yuldxi9tH8pxNkVfKsV7Ob54/FCa+GpB7Si/Nb6uzuuh+6tFZ/hXxLa+MfDllqlk2+1vollTJBZc9VbBIDKcgjJwQR2rQr9Zw+Ip16Ua9FqUZJNNbNNXTXk0eTvqgooorYAooooAK5X45fGXQ/2efhB4j8b+JLj7Povhmxkvrja8ayTbR8sMfmMqtLI5WONSw3O6LnJFdVX5v/8ABQzU5v8Agpv+234N/Zv8G6na3XhPwNOfEXj++tbyJTaNHILeSKNmiY/aIIpWjAjMima+Cyqv2dyn0PDOTRzHGKFd8tGCc6kv5YR1fzekY/3mjnxFZ04XW70S8zoP+COnwl1T9orxP4u/ar+JVjpN7408e3z2vh147VFj0qyt0NrLJbgSNs3bPswMiiYJaMTI4uHLfoBVXQdCsfC2h2el6XZ2um6bpsCWtpaWsKwwWsKKFSONFAVUVQAFAAAAAq1WHEGcyzTHSxVuWOkYRW0IRVoxXSyXZK7u7alUKPs4cvXq+76sKKKK8U2CiiigAooooAKKKKACiiigAooooAKKKKACiiigAooooAKKKKACivDf+CkP7Xkn7DP7GfjT4jWemx61r2mwxWOg6bJny9Q1S7mS1soXwQdjXE0e7BB2hsHOK+d9U/bD8afsM+OdOsPjX8UvEnjq/wDhr8DdQ8f+OdM0XwZpcNp4huIr5Ua5trnzoZI5YhuhS3EaRSJiR3V/lqfaR1volfXppCU390Y69uaL2barlelt3bT1lGC9LuWl97SSu1Y++qK/Oqw/4OafgXq/wx8T+KbPwL8drm20G50mLTrL/hE44r3xbDqdxPb2d1pkclyvnQPLbyKC5jYkYVWbIHqvwF/4LT/DP4+a54L0GHwj8VvCXjHxj4wufBMnhfxToEek6z4fvYdPbUS99BJN8kLWoR1aMyMfOjG0ZbbpGLk2l0dvndL85JPs3Z2M5TSV32v8km7/AHRb80ro+wKK/Mr9sD/g4gk+FEngeb4b/A34zeL9Lv8A4kzeDdevh4PN7a3EVpeXNldWunywXYVtSlmhVreKTIdN25VbAH31ffHiHTP2aJ/iZc+GfF9vb23hpvEsvh6ewWHXokW2NwbNrd3CrdgAxmNpABJwWA5rNVIug8Tf3F1/7dUr+lnc05X7ZYf7T6f9vONvW6O7or418Z/8F2vgD4G8H6Br11qXiC403xF8PIviRBJaWKXDQ2c9xDa2tk6rJuN/cXMxhjgQMN0E29kVNx818T/8FkZv2k/hv8O9a+GOk/Ef4XalB8edB+G3jHQ/G/hu3sdWjhuF8y4t3hczrHvR0+ZWWVCD9zIJ0UJOoqXVyUfRuoqWvpN2fVdtVfKVSKpup0UXL1Sg6n4xV1ff7z9FKK+WNE/4K8fDHXfBvw/8QRaZ4wTR/iP481T4f6Zcva2uyG6083nn3k2Lg7bMixnZXG6TbtJjXJx578MP+DhD4I/Ei08b6hceHPjB4R8P+EfCt54207W/EXhGSxsPGujWsqxSXmkNvZ7iMtJDjesRxMpIGH25+0i4uS2SbfklHn/9J970v2dteV83L1vb58zh/wClK3r6o+6a+f8A4jf8pTfg3/2Srx5/6d/BlfNPx0/4Kr/ELxj+yTB+0X8PvAPxa+F/g74ReIbe68ceEviX4Mi0q88beHp0jWe4sH8yRl+zrMJ0kR1V2hZW3L8rfRvizWbfxF/wU0+B+oWcizWd98JPHNxBIOkiPqvgxlI+oINaOLV0907NddUmn6PVLzjJdGZ86dmtmm0/R2a9Vo35SXc+iaKKKkoKKCcUbuaACijNG7mgAooooA+FP+C4X7SmqaJ8MPDfwN8ES/aPH3xmvotN+zwXaQzR2LSrHsLechi+1TMkAMimKSJbtWIxmvY/jzd/C3/gnv8A8E/bjSNYs9Om8H+GNFGladpd46W8viK8EbNFFuhj/wCPqeZTK80ceVYyTkAIzD5x/Yo8b6X+3D/wUO+Kn7SWt3X2PwD8JbE+HvB99eRva2Mdvsn8+8NywhA2wmeZ4p1cxLqibmXyoyef8LWs3/Ban/goFD4mngupv2d/gtP/AMSaWbR4o4vEN7m2eS3l84szpO0Yd1KHbbRRI8cMlxvP61XyHD/VqeUZguXD4aPtcS39qpUStS7OXLywS6Xm9ba+bSxVSFT6xQdpt+41o1Z/F3Wut/Q4L/gmh8ONW/Z5+Jvh39or4qaG0mm/EiwmtdIuUsSP+EfV3EaXBR03q7wQ/IUOXtZ2ZXlLOg/W3TtSt9Y0+3vLO4hurW6jWaGaFxJHMjDKsrDhlIIII4INU/GPg7S/iD4YvdF1qyh1DS9Qj8q4t5R8rjqORyrAgEMCCpAIIIBr5c0Lxjqn/BPD4kWvhfxBezax8L/EUkkuk3bHfdaQQymTKDkqpdS6qMNu8xAHMkZ/B+JuJ8VhMyeKxllgJcsKaSSWGjFKFOnZJL2VrJStdSfvb3P0jL8roZ5heTC3+vx5pSTbf1i7cpSTbb9qtW47Sirx1TR9a1+OP/BxD4D8Zf8ABNz9rj4Uft8/CC21COTRbu28JfFXTNMIto/EmlmRWg+2MlrIvlzIjWUlzcs5ikGk+SgkiRh+xGnalb6xp9veWdxDdWt1Gs0M0LiSOZGGVZWHDKQQQRwQa+Zf+Cif7c3wC+D3ws8V/D74p6p/wki+K9KudE1fwjosjTapdWd1CkU8Uhjkj+y77e53hpJYWZNxjLMAK+qy7L8Tj6qoYKDqSlsoq+nfTp3ey6nw9WSp39ppbudN4j+InhL9sr9l7w58WPhh4ks/Emgy2/8AbWi6vp8rKs0GcTL8xVopY2jO9HUSxyQPGyq4ZQ34yf8ABR/4V/s2/CfTNe8ceKbG11XULAXMOiWKmbUr2TbKCsVvnesbSwSxrLIVh3qAZBkGvxR/4JU678Zvhh/wr39ifTPjB4g+Gkvj77V410SfU9M1G1u9Q02bbcMNMlVH8m3CWN5cxpHNbxTyPeb5iZ1Sv08/YL/4Ji/Df9kL46XWm61o9n4w8W2tvFe6Xr+sRhgjo0Um+0t2Bjjfem9XXdLEY5FErDJrzcfwvkXCfEEc1zzFPnxvJRlQoxU/3sVJ05VK3NyU24p02lGo37msbO/n+2nKd6Ssnpd7fJb/AJHL+Lv2jv2tv+Ch+nrB8GfBP/Cm/htrHmxQ+KvEFwtvqV9btDI8c65DSxRTRSwFHtIJSkoyl0VDlfSP2Y/+CJvwu+Dmu3HiTx9NdfGTxtfXEt1d6l4jj32ck0jTb5PsjM4kd1lBdrhpyXjEieWTivs6gjNfbYnjLFKg8JlkI4ak91TvzS/x1G3OXpdRf8p0Rwkb89R8z89vktj8YP8Ag0a8aD9n4ftOfsp+I5fD/wDwmvwl8f3Ooy3Fpqnmf2393Srxra3kjjla3t5tNgJmI5/tCFWSNtu/0/8A4OGPhJ4i+LPxP+HNp4u+FHxs+NXwDHh3WUn8OfDO0mvLqDxSyqun3t9BBJHI1vFGZCjFiiuCCG3bH5D/AILM/svfFL/gnl/wUE0v/goZ8C9D/wCEv0/RdKTTvi54PhvbyCbVdOjg+zvfuVdle3W1S2DKsZS1l0+2u2inUXDRfob+wd/wUW+Ev/BSH4N2fjL4VeLNP1qJrSG41PRnmjXWPDbymRVgv7VWZ4JN8MyqTmOURM0TyR7XPxNaiqqSl5/imvvV7xe8ZKMlqjvpVXB3X9ap/c7WkusW09z83fi58VvH3wu/4Ju/sJ+E5/gB+0x4w8TeBdZ8OeJPEcOj+B7vUZ9JTRXaC5t7jeweOeQndArgI8YDB1XFeof8HA2o+OPjBpdv8MIPhr+15P4Z1zw5dTaN4i+Ctwl7Z6rqc6PA2meIrDapWwQGFyXlAkEsoUDYxH6iA5Fc78Uvi34X+B3gS/8AFPjTxL4f8H+GdLMf23V9a1CLT7C08yRYo/MmmZUXdI6IMkZZ1UckA74h+35uf7VSVR201koqy7cvLFp91rdNp44e9DkdPeMFBf8AbrbT+fNK/k9LNJr4j/b+8e6x+yN/wbieOv8AhammWtv4otfhFH4P1ey8OWtvHa2mp6jaR6QgjjjMcKQR3N3GXEWFWNH8tWAVT1n/AAbz/BbVPgF/wRe/Z/0PWLjT7i7vvD8niRHs5GeNbfVbu41S3Ul1Q+YsF5ErgAgOrBWYAOfgP4ka34g/4Orf28PDOl+FdJ1DR/2Jf2f9f+0a5rmove2q/EW9/dmS3jgSSIiSSAGOEjbNZ293NPKySXUNof3OxzWlaq6tSVRqzk29NtddCKNJUqcacdopL7tAB4r50/ai/wCCVPwR/avs7iTWvCNr4f125nkun13w7HHp2ovNLKkk0krKhjuHcoQWnjkI8yQrtZi1fRdcn8bPGa+CPh1fXAaRLm6U2lsUYowkcEbgwBwVUM3b7uMgkV05fmeLwNVV8HUlTkusW1+W68nozpoYJ4urHDpXcml958L6H+xj8XPgt8CLrQ/2cvGEf9p+CNavZrG81yWOdtRsnN262dv50Utqsh3w5wIYi7NKfLMrZb/w+I+MH7K+r/Yv2kPgHq2h2H277O/iDw0rfYV323mwwReY8lvcyllYsUvF2ruGzdEwb7n+Bfg5vBXw2sbeaHyby6zdXC/NkM/QEN91ggRSMDBU9epx/j541uoraDwro0clxrWursaMRbttuwZW5PAJwRnkKocnbwa+hw3FFGopxzbCwxHM5ScruFTmk7t88enZOLS6aaP1cdgXjsyWGwU+WEEoLrFRhvJ+W8m7637nm2k/tDeDfif8etB/4SLxNofhO6WK1fSPDet6tbW2qXdxMSqIkKzMsknngrmJnDGNFG7Oa+kK+Z/2i/8Agkx8Hf2pdItW8UaVqUPiSz0+HTYtf0u/ktruOOOZpjiNi9uS7PKCZInIWTAI2oV8M0b/AIJ0/tK/sOWbr8AfjLa+JvCdrPNep4O8V2wVBDHK00NlAzCSMPOZJVlkiNkGYqxZcgxxhMpyjG4ePssX7Kv1jUi1Bv8Au1IuVl250rvdrr5+cZlKrX5aUW6MFywtvZdWtNW7t+vkfXX7WX7Ntv8AtK/Dcacs0NjrWmyG5027kjDKr7SGic4LCJ+N23kFUbDbNp/Fn/g4AvfF3hLW/hl+1Dp9r/wj/wAeP2cdQt9C8VW09zLa2/ibQ5pz5Bfy7qL9151zLbz29qu+5g1h3DiCIiP73/4fEfET9mD/AEL9pD4B+K/C32f/AEd/EHhpVutLvruT97DBF5j+R/x77ixS8lbfCw2D5hHofHu6+BH/AAVH8HaxD8NvHnh/UPGOuWN7oF3oxvJdHvvFFo9myXNv5Mvk3BzavIonQbSodGbC7ovgeMfD3PMrm8+wWHdWDVqqhapTrUl1Ti3HnineF3G6bi77H0nDueYDH4X+wc1mow1dKb0dKpK2/X2c2rTVnZ2krWbPUv8AgmB+1B4f/aT+Cmn6x4Z1L+0PDviDT4Ne0bzJI5LiGGUDzYJvJllhimhkKpLCsjGObzkJLK2Pp4nAr8Gv+CPHjW+/4Jf/ALT9j8B/EWuahrHhHxXqFzr/AMMr9ozcXBijjL6tpUwL7IXSIiaMpHHFI0tw+9ZZBEv6g/8ABU//AIKz/DP/AIJUfszt488W3Sa5rOtI8PhLwzZXKreeKboKDiNsN5dsgdGmuSrLGjrgSSSQxS/nnhXmVL6nVyam7ww8r0pNt82Hm5Om9dbwalSlpo6dt7pfN4/K8VlmLqZdjY8tSm7NP70/NNaprRqzR9Rhsmlr8X/CF5/wVU/4KtaxqGtW+peH/wBjL4R63nSk0u/01V8Sf2fLdXUU1zEssEmoLqEMIADs+mpIRbyQCIO0i9F/xD5/tifD/wD4n3hf/gpN8X9Y8TaH/p+kWGu2+ptpd7eRfvIIbsSapcobd5FVZA9vOuwtmKUZRv1U5T9fd/NLX4n6p/wVJ/b5/wCCMXiuRv2vPhvp/wAevg/Ndo8/xF8E28Nu2kRyNYRsd0EMMKxxmZ444b62tHuLiRgl0Y0FfsB8Av2gPBv7Unwd8P8AxA+H3iDT/FXg/wAU2ovNM1OyYmO4jyVIIYBo5EYMjxyBZI3R0dVZWUAHnP8AwUa/bMh/YW/Zc1bxrHbWuoa7NPFpehWV0JfIur2XcV8wxgkJHEk0xBKbxCUDozqa4r/gkj+xzcfsx/s8f8JJ4mOrXHxO+KPl674ruNRuZ5LgOzSyQQSLKqskqJOxl3guZ5JgXZQgX5/8K+E/+Htf/BUbUvFWqaf/AG58A/gn5uk6b56+fpOv6ghG4DbOYpfMlbzy8askltbWiTIBKuf0rr7rOuXKMrhk1N/vqvLUreS3p0n/AIfjkrfE1vbTio3q1HVey0X6v9Aooor4U7QooooAKKKKACiiigAooooAKKKKACiiigAooooAKKKKACiiigAooooA+U/+C0fwU8SfGr9gbXv+EN0G88VeKvBWs6P4z03RrQFrjVW0zUbe8kt4lHLyPDFKqIASzFVAyRXI/tJ/8E2tP/4KNap4w+Jlr4u8S+BT8W/gq/wyTTtU8MTW17o6T3jXn2qeCd4ZhIpcxvbOqEgH5xmvtqis/ZxcZRezbf8A4FB05f8AgULLytda6l+0kmmt1ZevLNTj/wCAyTfnez00Pyf/AOCtH/BJvxho/hLTfGHwj8QeIW1yS0+H/gOw0nQ/Cxv/AOwV0nWRMmteWrtujgSQsYmUIqoxaQg/L6JJ/wAEI/GkXg218TWv7SmrRftKJ47k8d3HxTk8C6dLHPM+nHTPsy6QX+zpELTaoG84kBfoQi/o5RW3NK0rvWUnK/W7lGTt2vOKk7b6J6JJZckU1ZaKKjbyUZQV+/uScdfN7tt/Dfwn/wCCOuseCP2W/hx4B134vP4k17wT8Xk+LepeI18LR2R165+3T3stt9lW4ZLfzHnYeYrMF7RjgD7kI3DB5B6iiilf3PZ9N7dPhjD/ANJhFW207t3OVc3P17/9vSl/6VKT+fax+cOif8G5XgzwP8Dfiv4Z8L/EDWvD/iDxr43s/GfhPX49NS4bwILC5a602wigkkZbi2t5ZbglGaMOJjwhAatr4J/8EVPHHhTzbr4h/tBH4ka1ffFnRfi1qGpDwLb6PJeXunwtA8Hlw3JjRJo1thuVf3ZhY7W8z5f0EopUv3bTh05X84uDT9b04Nv7XKua9iq371NT681/PmUk/wAJysvs8z5bH5t6H/wQM8Uaf8bNDF5+0Neal8B/DHi7WvFuk/DV/A9nDLYyapFex3EQ1aOZZ2A+3z7S8ZABA25AYZH7Fn/BvV4w/YS8F/Ejwt4H/aN0+z8NeMtGvdJ0yJ/g74dm1C3M0xeFtTvJkkl1aKNHkjMEhijYSNtEa4Ufp3RUU6cYQdOOzXK/NW5dXu7JWTeq6NFTk5z9pLe/N87uV0ttW22tnfW5+UvxS/4Jw+Lv+Cfv/BKv40fCPQdS8RfHD4h/tG340TT7Xwr8PYvDvh/RpbuGGxac2WnI1lpkEcIaaa4kaNJDGCfmzu+xbvwyPBX/AAUV+AOjLIZl0n4OeNbISH+Py9T8Fpn8dua+la+f/iN/ylN+Df8A2Srx5/6d/Bla+0bTvu+VfKKtFfK8td3fXZGfIla3Tm++TTk/nZadLabn0BRRWf4t8W6V4C8Kalruualp+i6Jo1pLf6hqF9cJb2tjbxIZJZpZXIWONEVmZ2ICgEkgCpKPL/26P26fhv8A8E6/2cNa+KHxP1r+y/D+lYht7eBVlvtavGDGKys4iV824k2thchVVXkkaOKOSRfy/wDCH/BZP9vL/gqbrOoXH7JP7O2geCfhHqWdJsPHvj4nzofNurq2GrwO80VtL5CxhpLa3g1HyZYGVzP5iRnkf+Ccnwkuf+DlX9vHxt+0x8cBqGr/ALP/AMH/ABBJoPwu8B3cMEWm3T8XH+nW6zSlpI4DYzXKsGS6luI4/Na2tjan9y/Lx+eaAPyE/wCGaP8Agsl8Of8Aiof+GhP2f/Hv9g/8TH/hGf7Otof+Ei8n959g3/2NbbfP2+Vu+0wY3586L765vgP/AIOTvi3+xF8ZbXwF+3x+z7qHwok1q72aZ4u8JW0tzoxjIsiR5bT3C3UcCXDyTz2V1M6Fo4vspk3Gv2QYZWuN+P37P3g39qX4N+Ifh/8AELw/p/inwd4qtDZanpt4p8u4TIZSrKQ8ciOqukiMrxuiOjK6qwAOi8J+LtJ8e+F9N1zQ9T0/WtF1q1ivtP1CxuEuLW/t5UDxzRSoSskboysrqSrBgQSDXzJ/wWF/bL/4ZB/ZA1T+yr77L408bbtD0Lyp/LuLbev+kXibZElXyYidsse7ZPLbbhhq+DP+CbHiTx1/wQv/AOCq3/DG/jvxBr+rfs2/Ff7Re/BvxB4hjt41g1BhHO1klz5you6R5raSBU3y3j2k0dvAt8xkZ/wVP/bgvvi3/wAFErHTPCEd3qV58HJzpXhC0g0xrw3viVriFZptn7qUPFMqCNCLiOSbT4h5bxXElfdeHeQvM84hzx5qdJc8r6J2+FN2ekpWT/u8z2TOLH1/Z0tN3ov69Dq7uHWrz4efDX9iv4K3F1Ya7qEH2n40atp9vBcvpU0xiN9BLdROkcqW5eSKUBsusVraiZ2MkTfqB+zp8AfDv7LfwU8P+AfCsd1HoXh2BoYDdTmaeZndpZZZG4BeSV3chQqguQqqoCjxX/glf+xBffsg/BS91TxdJdXnxV+IU41Xxfdz6m18WmDytDDv+6zoszmRwXLzSynzJEEeKn7ZX/BYb4P/ALIP27Sv7U/4Tbxpa+ZF/YWhyLL9mnXzl2XVx/qrfbLF5ciZedN6t5LCvS4ixGKzvGf2Rk0HVhGTlJxV/aVHfmqN7KKu407vSFtdWRh4xow9rW0drei6L/PzPquvk/8Ab9/b6/Z2+Hvw81Lw5458SWvijUBPJANF8NSRahq9jdQyLE5yG8u1miMjHFw8e4JKoD4ZD4Jf/DL9r/8A4KlfaU8VX3/DO/wnvvNi/slYZE1S/gP2uLZNDuS4mypWOVJ3toJEaOVIWxivqv8AZE/4Jj/B/wDYt8m88K+Hf7Q8SRbv+Ki1plvNUGfNH7t9qpB+7maM+Qke9AofeRmvFxnDuR4KjKjndVYibVnRpNOPpOq04rs1FSa8t11YXH4qnVjXwd4OLTUtmmtmlv8AkfnJaeNf2qG8LaD4T1LVvEPwB+HPiK7SVZbi3lTVbeD7Sq3EkZVVuozG0bSeSht/MWYZ3LNvb7q/Yj/4JF/Bf9lnT9J8QWdlD8QPFPlw3cPiPVglzGj4hkWWzhGYYVEkQkjkG+ZBIR5zKa+i/i38JND+Nvge68P+ILX7RZ3HzI6ELNaygHbLE2DtdcnnBBBIIKkg/PvwV+JWqfsV+Mbf4Y/EBof+EVupJH8OeIlj8u3AZyzJKf4V3vltxJiZ+S0TK6/n2K46zHI5LKKMIYbKpJRh7JSTg1ZKNapKUpzUuk5Ssn7rSVrfef2TQ4hw08dScp5jFuVSMrfvYu7c6cYqKUo/agldr3ldpnzT/wAHMH/BPXUvi38CdD/ah+Gd1/Yvxt/Zbx4r026hsbGT+09OtbiK8lE73AG77D5Ul5CjGRDi6iEEj3IK+sfsc/t3WP8AwUX/AOCf3wt/aI0D+z4PF2n7LDxXZWjxxppmpRYjvLd41mklSFptskMckvmG1vInYDzDj7mr8SfD9w3/AAb5/wDBafV/BnirWdP8N/sY/tdy6je6LBPqcNtpPhHWCkBnYwRW6/Y445pUsxs8qAWl5ZySzubJhF5nFmQ/2zlNbL4y5JyV4S/lnFqUJf8Absknpra9j4apHmjY/abwr4ltfGPhyy1Sybfa30SypkgsueqtgkBlOQRk4II7VoV5L+zTr0vh3UNc8CXzSNceH7iSS0d4jGZrcvyduOBuZXBLEkTDHC5r1qsuDs+ecZRRxs9KluWpH+WpB8tSPXaSdu6s9mKnLmjcQrmvyw/aw/4NXPhf4z+Mtr8TP2c/iD4v/ZX+IUF3JPJdeFTLPp0YmFz9oNtAk8E1nJILhY9tvcJbpDGY1txvLD9UKQoCc19OaH44+E/2Ev8AgsT4L8K6Zo9n+1r8EJrPSbSKzgkv7Zb+6eONAimW4n0B5ppCAN0krtI5yzMzEkp8N/8Ag2C8fftVfEHRfG37b37SXi/4y3dhdXeot4P0e8uU0ayuZr2OWSOC6mKmKzmgiVZILS0syu5FikUQIz/shSFATmgDkPgD8APBn7LXwb8PfD/4e+HtP8K+DfCtqLPTNMs1Pl26ZLMSzEtJI7szvI5Z5JHd3ZnZmPYUUUAFeSfFFT8TfjVo/hbdI+m6cv2q/REfG7G4h8EDBTYoYfdMx5JOK9R1zV49A0W8v5lkaGxge4cIAWKopY4zgZwPWvOP2a9DmvoNY8VXkcK3Gv3LtEEQfIodi+05JCs5I2n/AJ5g88UH0GTf7PRrZg94rlj/AI5aXX+FXZ6H4k8QW/hXQbvUrxttvZxmR+QC2OijJA3E4AGeSQK85+Anh248W6reeOtX8t77UWaK1RY1EcaLhC69SD8pQZwcK2S27NVfifdyfGb4k2nhCxb/AEDSZftOpTCROcbVbacE7kDlcf33IIAXNetW1tHZW0cMMccMMKhERFCqigYAAHAAHagqp/wn4H2a/i1ld94w6L/t/d+SSaJKKKKD50K+W/2iP+CPn7PPxy0u4nuvBdj4JvI7ZIl1Pwwy6QbSOOQylvJUG1ZiCytJJCzbDjI2oV98+JXxb0r4Z2Z+1SedfyRmS3s0+/LzgZOCFXPc+jYBIxXEw+A/Enx0vFvPE0k+i6Ckrvb6ag2XCkAKpIZfr8z5P3tqqrA16GXZtjcBU9rgqsqcu8W1e3e268noerh8jVel9YxjUKXdq7flFbt+ey76H5yeKv8Agmf4R+Cd9qvi/WPGfiT4kfDL4ZSR+LbCzv8ATBAdClsGa4tZzdvKBGIERt0gFrG+1/M2wB0bJ/4I4/sX2f8AwUY/bs+I37ZXxUjl8ZeH/CmuR+GPgvbX8s8unafb6eCJL6CGQywSrBKwSGa3ne3+2DUZVjWRYXT6R/4ORbmb4Rf8EKfjofCtxdeHZHtdIsZJdPma2klguNY0+1uIndSGZZreSSKQMT5iSMrZViK9d/4IqfC3QfhB/wAElP2c9J8O2P8AZ+n3fgDSdblh8+SbfeahbJf3kuZGY/vLq5nk2g7V37VCqFUcOMlDFY2WYVqVP20lZzjTjCbXVNw5YyTtG7cXK8V71tC8yx9CvThRoQklDROUuaTXZtq6V7vlTUVd2jfU+nymT+Oacw3Lj+dfAXw7/wCC3up/F/8AbR8J+BfD/wAEdeb4Q+PPFGreCvD/AMULnXbeOPUtU022mluvL0wp5xt1eCRFlaVd4Vio3KyDyX9iLw38UfFX/BTPR9Y8C/tI/Gj4+eGtDm1W2+MPiDVBFZ/DLzWjdbXS9CsQGRb6GVbdpXtZJEjUHdKGmeEzRftHFraSbXokntulZx1dl70bX5kePV/dqV94u1vvVk9m7xastbp3tZ2/UXxb4P0rx94U1PQde03T9a0PWrSWw1DTr+3W5tb+3lQpJDLE4KSRujMrKwIYEggg1+EPxJ/Y/wDi1/wR0/a++J/wR+EV/M/wA/as037L4C8NXOvw3ctlqktxp9vfKI7mPdGUimkszIXG6C/sHkuJprc+V7h+zp8R/iT8Cf8AguT4O+H/AIi+L37Tmpt4sk8Rw+I5/ibpo07wL42eCBZraHwpZxJJFCYtySPJ5sY2QsoOZhGx/wAHln/FHfsDfCPxzo//ABK/G3hT4qWJ0TxDafuNV0bfp2ozt9muVxLDumtLWQ7GXL20LHmNSPUyPH08HXw+ZVKaqJe8ottJtNpXfVKSTtbVaNWZniKbcp0L2t18v6v/AJ3ul+lX7Ff7J+h/sU/s76H4B0Ob7f8AYd9xf6k9tHBNqt3Id0k7hP8AgKIGZ2WKOJC77Ax9WpncfhT648Zi62KrzxOIlzTm22+7erZUYqMVGOyCiiiucoKKKKACiiigAooooAKKKKACiiigAooooAKKKKACiiigAooooAKKKKACiiigAooooAKKKKACiiigAooooAK+f/iN/wApTfg3/wBkq8ef+nfwZX0BXz/8Rv8AlKb8G/8AslXjz/07+DKAPoCvh3/g4/8Ailrvwg/4ImfHrVvDl9/Z+oXelWWiTS+RHNus9Q1K0sLyLEisP3lrczx7gNy79ylWCsPuKvm3/grv+yDdft2/8E0vjH8LdPh1C71vxD4fkuNFtbK6gtZL3VLN0vbCAyTjy1jlu7aCNy5UbHf50PzqAYH/AAQv+Cel/AL/AIJBfs76Ho9xqFzZ33gqy8RyPeujyC51Vf7UuEBRFHlrPeSqgxkIqBizAscr9oX/AILf/CP9nb9rCy+Ed1oPxN8U6j/bWmeHNa8QeHPD/wBu8P8AhTUtRcLaWl/dmRfLmcEP5caSNtzwWDKPJf8Ag1t/bns/2vf+CVnhPw3eaz9v8bfBk/8ACH6zbTLbQzQ2cRY6W6RQnd9n+w+VbrLKiNJLZXOS5RpGtftJ/wDBDDxt8Uf2h/FXibwL+0df+AfAfjXxppvxG1bwXdeCLTWoZdfsjC0dyl408U8cTPbwsYV44YZIIClP/eIKfwXXN6Xjfz+HmatrzKK2baKn8Gbj8Vnb1s7eXxcq10s290k/K/EP/BRP9o9dV1f9pyz+IHh+H9n3Q/jAvw1T4WHw1btc6lpa6kmkPqh1M/6RHdm4dpVg/wBUFRcsRlGtftG/8FD/AI0/Av8A4LFeC/hm37QXw8vrjxZ43stJT4OReDPstpa+GbmN2XU7jX7ryydQ2KStrBI4eYxIqsGMdevXf/BC66vf2j5L6T44eJl/Z/m+IA+KUvwnj0O3WKXX94nLnU9/nm0N0PO+y7Nue4YCQaPir/gjf42+J/7Smn6t44/aW8beOPgjoXjlPiHpHw71jQbS6vNO1ON2mgjTW3ZrpbSKZ3CQIigQnygerkwfu/V/a/Zacr66ctNST3u3JVJR+JKL5U4NxdNYr3vb8nVNRtprepytbW5Yumpaxbav76TU/IP+DpT4WTXXwo/Zx+J3hvztO+Inw2+K9nLouvR5l/sW3a0ub6dvJdXt3LT6XYlTPE6740XhZHDfJv8AwTJ+JPwp/Z/8UXXjzxfoWrfET4k2l/BYeAfBumW0kskl8yOy3ku6Pyv9b5EUJR5ZUd3cW7MsTr9I/wDBeL9oe+/ae/bs+AH7H/wx1bRPEfi3xFdX+q+KtHWdI28OyLaxy2F1czsMIq2f9pzNboxmaJo3ETl7dZZf2TfiD8TP+CU5mt/GX7I/+iCxhudT8X+F0lvr61sFwLya5u991C2RbJN9mE1rEjRliqLIrL+4cCVcFT4cxGHw79pia0vepqpGlJxjtG8rNppu/JdtScbpnj41TeIjKWkVs7X1/ruew698Av2sf+Cluh3jeOvFFr+zv8OdUgf7J4a02B7rVb6GRTsW+CyRuUeC5eKWOSWMF7cbrRCdw+i/2RP+CY/wf/Yt8m88K+Hf7Q8SRbv+Ki1plvNUGfNH7t9qpB+7maM+Qke9AofeRmuJ+AP/AAW2/Z++PN5HZyeJrrwNqU88kMVt4qthYo6pF5nmm5RpLWND8yqJJlYsuAvzJu+oPBHjvQ/iZ4Ytdc8N6zpPiDRb7f8AZ7/TbuO7tbjY7I2ySMlW2urKcHgqR1Br4viLMs+w9J4DEUXhaL/5dxi4RfrLepe32pS1TOzD06EnzxfM+7d/+GNaiiivgztCuZ+Lfwk0P42+B7rw/wCILX7RZ3HzI6ELNaygHbLE2DtdcnnBBBIIKkg9NRWOIw9LEUpUK8VKMlZp6pp9GjbDYmrh6sa9CTjOLTTTs01s0z5d+Enxb1z9j/xxa/Db4k3X2jwzcfL4b8SOCsKxAgCKUknai5UYJJhJAJMRR1o/8Fpf+CZ9v/wVc/YM8QfDCG+0/R/Fdrdwa94T1O/M/wBl0/VLfeqmVYmBMcsEtxbsxWURi5MoikeNFr6K+Lfwk0P42+B7rw/4gtftFncfMjoQs1rKAdssTYO11yecEEEggqSD4H8JPi3rn7H/AI4tfht8Sbr7R4ZuPl8N+JHBWFYgQBFKSTtRcqMEkwkgEmIo6/E4fEVeHqscHjJOWEk7U6j1dNvanUf8vSE3t8MujPusThqXElKWNwUVHGRTdSmlZVUt6lNfz9ZwW/xR6o+L/wDgiH/wUl1z9qP4GWU3xE0280v4z/s+anb+AvHdnqCXjanqUIt5IbbUbr7SoYX8gtr6GdJJnfz7LzGWNZVjX9brS7iv7WOeCSOaGZBJHJGwZZFIyCCOCCOcivw9/wCC5/wyb/gjf/wUU8C/tgfD3RNP034c/GKVvBPxd02w0yGRryaWdb2S7ije5iJvLmO2M6mEQx/aNKDzySfbJVk/Wz9jP4qaf8Svg/aLYalZ6xDYIjW99Z3q3ttfWsuZLeaGZCY5ImUkIUZlKopB2stcOBi8m4rq4PRUMenVh5V4JKrH1nTUal3a/JO2zPzmPu1LdH+Z61RRRX6UbBRRRQAUUUUAeXftN+IJJ9G07w1Yt5moa5coDCCnzRhsKGycruk2YPAOxueCDr/EDxJZfBD4Wpa2MkcVykH2bT0O0SSPwDKQFwSMl2JGCeDgsK57wBM3xP8Aj5q2umaM2fh1TaWgjkDBw29FYELhlYea/XILKASBTPCvm/HT4tNrkny6B4al8uzX95i5kBJVxnADZCu3cARqQetB9z9Vp0qdPD4hfu6K9pU85z+GHq1Zel9TqPgZ4Bbwd4U+2XnntrGtYub15XYtk5KqQwBDAMd2edxbkjGO2orkPiV8atH+G0Rjmk+2agchbSBwXQ7dwMn9xTleTk85AODgPmJfWsyxblCLlOTvZf1oktOyR1Oo6nb6PZvcXlxDa28eN8sziNFycDJPAySB+NeW6j8ZNc+JervpvgW12xQ4+0ajcoAI8vgMobICkAnDAuQThQVpmlfDXxF8X9Qh1LxlNJYabG0bxaTCSqygKTkjcTGSWwScvyw+TC16jomi2vhzSoLGxgjtrW2XZHGnRR/Mknkk8kkk80HocuCy74rVqv304+v87/8AJfW1jjfhr8CLDwfKNR1Jv7X1ybEks8/7xIpd24tHuGd2cfOfmOMjbkiu8oooPHxmOr4qp7WvK7/LyS2S8keG/wDBSb9j+3/by/YN+Knwkmh0+e88ZeH57bSWv7me1tbfVI8T6fPK8AMgjivIreVgFYMIyCjqSh+Mf+DVL9sS8+M//BP68+DXiyHxBp/xM/Zx1aXwvrlhrTXT30FnJNcSWQkE0a/Z/J8u4sRahnaFdNXIjV40H6gHpX5P/wDBVj/glJ8Rv2af2jZv21P2LIv7L+L2leZc+O/AtrbtJY/ES0dhJdOtqhXzriTaGmt0KtcMizwtHfRq1wHKe9eFf+CBnwu+H/7UGl/Ezw/8SPjtotvoPie48W6R4Mt/FcbeFNHvrkt9rNvZyW7GJZxLMr7ZN22ZwrL8u2f9j7/ghn4Z/Yp8baBf+G/2gP2pta8L+HVuY4PBGu+OYrnwpNFPHKjxSWCWsaFAZmcBSpDhWzkV49+x1/wdXfs/fGbWJfCPxksvEH7N/wATNP1VdEv9D8U281xYwXhupoDGb1IV+z+TsjM7X0NosLSEZdY3kH1h4t/4LDfso+C/Cup6xeftIfBGa00m0lvJ47Dxpp9/dSJGhdhFbwSvNNIQCFjiRpHOFVWYgFU4qEPZx2ta3S1rW81bTXoOUnKTk93u/m3+bb06s4X9kr/giD8K/wBkH416P4x0nxh8YvFtn4O+1jwX4W8V+LZNU8O+AvtAZH/sy1KKYiInaINI8jBGOSW+evjn/gtP4lt/+CrH/BWb9nv9inw1HqGv+HfAGvp46+MdjPYT2+mQ2SW8E0MZvYVNxHIbCe6iDRmOEy6vZoZfN/1B+1Z/wc3ap+1D4p1D4N/sG/Dfxh8YPiRrFr5MHjF9JeDTPD4le0iW/S0nTe0cb3LxvNfi1t4JUid/tEJKt9X/APBGf/gjNoP/AATD8D6r4m8Uat/wsT9oL4h7rvxx44u5JLqa4lmk8+W0tZZv3v2fzvnklfEt1KBLKFCwww3zNpJ9P6+fqyOVXcl1/r5eh9viPBp1FFSUFFFFABRRRQAUUUUAFFFFABRRRQAUUUUAFFFFABRRRQAUUUUAFFFFABRRRQAUUUUAFFFFABRRRQAUUUUAFFFFABXz/wDEb/lKb8G/+yVePP8A07+DK+gK8/8Ajp+y54E/aP8A7Lm8WaH9o1bQPN/sbXdPvbjSde0Hztgn+w6laSRXln5yxpHL9nmj82PMb7kZlIB6BQelfP8A9s+Mn7Lf+kaxqX/C9Ph3a/vL6/8A7NWy8d6PAOZJvstjALPWsNIW8q1g0+eK3ttscWp3Uio/qHwW+P3g39ovwpcax4K8Q6fr1pY3TadqEcLFLrR71ER5bG9t3CzWd5EJEEtrcJHNEW2uiNxQB+T/APwUR/ZD+Ln/AARW/a28Wftrfsxw6h4u+Hfi67k1X42fDS4upZI7lHlee41OE4d1jDSSzGRVeSxkkkcLJZSXEEP19+wd/wAF+/2Xf+CgenWMPhn4i6f4R8V313BYx+FPGcsOi6zLcTzyQ28MCvI0N5JK0YIS0lmKiWIPsdwlfaGxs9fw7V8Q/tz/APBu7+yr+31rGs694k+H/wDwiXjbXMNc+KPB9ydIv3lN01zLcPCA1nPcTM8iyT3FvLKyyH5wVjZAD7P8XeLdJ8BeFNU1zXdT0/RdD0W0lv8AUNQv7hLe1sbeJC8s0srkJHGiKzMzEBQCSQBX5of8FFf+DoD4N/s8faPAfwHk/wCGgvjZrW3TfD9h4YhfUtBTUZ/s4tlmuoWH2vf9oysNgZneSFoHe2dg44H/AIgq/wBln/ofv2gP/B5pH/ysr79/Yr/4JY/s/wD/AATv/tCT4O/C/wAP+D9Q1TzFutU3zahqksUnkl7f7bdPLcC3LW8T+QJBFvTfs3EsQD5w/wCCJ3/BJLxl+yr4s8VftEftCeKNQ8a/tSfGG1KeIrh70SWvhyykeGUacgiIhkkBt7cO0Y8iJbeKC2CxRmSf9EKaEYHrn6inUAeU/G79hv4P/tGf2nJ4y+HPhXWL/WPK+2an9hW31Sbytmz/AEyLZcLhY0X5ZBlBsOVJB+X9e/4INeHfA+uXmtfBn4tfEv4Sa7qE7rLLa3huYIrJ2Lmzj8prefYHWEgyTycRDcHYhx97UV9DlvFmb4CHssNiJKH8r96P/gMrx7dDCphaU3eUdfx+8/Onw3q/7fX7HnlwarpHhX49+FtNsbe4uJre6ja+ht7feJbeGQi3upruSNQS8kF0WYxld7mRG6D4b/8ABfHwTZeM5fDHxi8A+Nvg74ignKzxXts99BYwmBZonnHlxXSPJnARbZxho23bWJT72rJ8b+BND+Jnhi60PxJo2k+INFvtn2iw1K0ju7W42OrrvjkBVtrqrDI4Kg9QK9WXE2WYxv8AtPAQu/tUW6Ul58vvU2/+3Vd7ve+X1epD+HN+j1/yZxXwB/bH+Fv7UlnHJ4B8c+H/ABFcSQSXRsIbjytRhhjl8ppJLSTbPGgcqNzxqDvQjIZSfS6+P/jL/wAEMP2ePi39oms/DereCb+6vmvprrw7qTxbt28tCsE4mt4oizghYok27FClVyp8p/4d4ftbfsneB/s/wc/aI/4Sy1t7Hyzo/iCyWP7OltHi2trBbr7XDHuBdMbrdBti3EqAYz+xchxj/wBgxrpSb0jXi1/5UhzR084xvp30PbV4fHC/nF/o7H6LVzPxb+Emh/G3wPdeH/EFr9os7j5kdCFmtZQDtlibB2uuTzgggkEFSQfhrTv+CtXxu/ZuvL+L9oX9nfxBpuk6XOG1DxL4VgkfTrGGSKPyEBd5baZ2mdUZxeIB5m3bvQq3tfwB/wCCxn7P3x/s4xH44tfB+pNBJcS6f4qA0p7dUl8vBncm1Z2yrqkczsVbJA2uF83NeAc0+rS9rh/bUZKzcLVYNNdXFvS3e267q/Vg819jWjWoTcKkXdPVNNdUee/E/wAB2Nx8KfFX7Mnx+H9qfDP4g6VPpGj+JPKib7JEwAidTMkkcctvJ5UkTurG1mjib5oxG6fCH/Bvh8cPEH/BOr9qnxf+xj8a9U0PSPG/w51ORdFFvewy22s6bex/bWFu/lplEaSO+zI4uDFduGijFtIi/tD4+8BeFf2lvhWtneNa61oOtQR3ljfWcyyDDJuiubeVcr91sqwyrKxB3KxB/E7/AILg/sT/ABQ+EHj74efFrwdY6hr3xZ+C8sK+HtSivrhIfEnhqF55ZNNNuh3SvHJOw8lJYnMNzdQk3CvaBP594iyuvl9COAryfsqc4zw9WTd6NWD9ynVf/PuWtPne0JOEujPv8ZhKXE1CWNwUVHGxXNUprRVUtXUpr+brOC31lHqj94aaX2183/8ABOn9vzwv+2B/wTp8I/G+61Sx0TRZtElvNeub65aK30N7QMt4J7i4WMMsBjcPOQqNsZxhSMfnF45/bQ/ai/4OFvj54l8I/si+MNQ+Bv7MXgm7i0vXPiXLFPY6n4ouPtNvLI1k6ILpJEhXzIrWKS3ZoW/0yaH7XFbx/qWX4tYrDQxFnHmSbT3i+sXbrF3TXRpo+Bi7q5+tvx0/ay+Fv7L/APZf/CyviV4B+Hn9t+b/AGcPE3iG00n+0PK2eb5X2iRPM2ebHu252+YucZGT4G/tZfC39p7+1P8AhWvxK+H/AMRP7D8n+0v+EZ8Q2mrf2f5u/wArzvs8j+Xv8uTbuxu8tsZ2mvzx/Zg/4NDP2S/g14XaHx5Y+MPjFrd1a2qXN1q+t3GlWlrcRownktINPaBo45nbPlzy3DII0VXyHZz9p/8A4NDP2S/jN4UWLwHY+L/g7rVra3SW13o+tz6ra3NxIiiCS7g1B52kjhdc7IJbcuskil8lGTsGfqcXOf69q5v4ueNG8CfD6/1CJo1utgittzAEyOcAgEEMVBL7cchD2ya/HfwN+2d+1F/wb0fHvw34R/a68Xah8c/2YvG11Npeh/EuGKa+1PwvcfaLiWNr13Q3TyPE3mS2sslwVhUfY5pfsksEn6cfEr4meH/jBrHhuTTdUtda8Hx2Ca89/p1yLiz1G3liWaFopEYRuskZjEcquVb7Su088h7GQ4JYnGRjNXjH3pddFrb5u0fVkeoR3ng/4VaT4M0+3nPiTxN/pV1FGHVlicngliNrbUVGGNoVJN2M5Prnhbw/pfwp8GQ2vm2tpbWqqbi5kIiWWQ4BkYseCzY4JOOAOABXi3gv4kW1hr114q1GP+2PFOqyiCy022QARocJv3AMVbC7FX75HUMH3DrNK+GviL4v6hDqXjKaSw02No3i0mElVlAUnJG4mMktgk5flh8mFoPqs4wsuXkxc/Z07uU3u5ze6hHdqPwxeiWrv2Nb+LmtfFa+n0fwRbSLAq7LrUpv3ZiDPtDIc/KCoJ6FyCcKCua6n4c/BXTvAdyb6aSTVdbkaRnv587vnPO1SSAcdWyWO5ucHFdRomi2vhzSoLGxgjtrW2XZHGnRR/Mknkk8kkk81aoPl8Vm/wC7eGwUfZ0+v80v8Uv0Wi89wooooPFCiiigAPIpvl/NnNOooA8O/a7/AOCavwH/AG89Omh+Lnwr8H+NLqa0hsBqtzZ+RrNvbxTmdIYdQhKXcMYkLkrHKoYSSKQVkcN84/8AELj+wn/0Q3/y8/EH/wAnV9/0UAcb8FP2ePAP7Nfha40P4deCPB/gHRLq7a/n0/w5o1vpVrNcMiI0zRQIitIUjjUsRkhFGcKAOwWPaep+madRQAUUUUAFFFFABRRRQAUUUUAFFFFABRRRQAUUUUAFFFFABRRRQAUUUUAFFFFABRRRQAUUUUAFFFFABRRRQAUUUUAFFFFABRRRQAVx+s/AHwbrvxl0n4iT+HtPj8d6LaNp1vr9upttQksiJc2M00ZV7iz3zPKLaYvCJhHMEEsUci9hRQAUUUUAFFFFABRRRQAUUUUAFFFFABRRRQAV4p8Zf+CcnwM+Pv2h/E/ww8K3F1eXzalc31ja/wBmX13cNv3vLc2pjmk3GRmYO5DNhiCwBHtdFdWDx+Jwk/aYWpKEu8W4v700TKEZK0lc/PTXv+CE998IdDvJPgP8dfiX8P8AUryB2vYLrUGEGsTRqfsqSS2f2dokVmlBdo5yBKSqjBD8B+1F4Q/bY8KfDwaf438I+Cfjdp9jPHqK6/4ftd2r6eJJEiezghgFvI2QgZiLOZQJdxY+WPK/UqivocZxZVzKhLCZ9QpYynLRqpBczT3tOPLNPRWd3aytsisDKrgcRDF4CpKlUg7pxez9Hdeq2aunufy+/tf+KvF3xG+Hs37PPw7e3+Gd5+0h8UtF0Dxn4W1jSkW3m1h7kxx3TXIiM9qRcW9obpBFvdoY2UBvtP2n+kL9lX9mfwr+xz+zl4L+F/gq0+y+GfA+lQ6VZbooo5rrYv7y5m8pI42uJpC80siou+WWRyMsa/LD9u7xXpfgz/g8P/ZNvNY1PT9Js5/hrLYRzXlwkEclxcp4nt7eEMxAMks8sUSJnLvIiqCzAV+lH/BQ/wDad1L9jH9h34ofFTR9Fj8Qar4G8P3GqWlhLv8AKmkQYUybfm8pCd74wdiNyOo+MqYbLMvpzWWUpUqEbyUHN1OXq1GUkpct7tKTk9XeTPQxOKxGY4n2tfl9pNq7jFRUpP7TS91N7vlSTetrt39mIGPpWH8O/iV4Z+MHhODXvCfiDQ/FGh3TyxQ6lpF/FfWkzxSNFKqyxMyMUkRkYA8MjA8givyx/YD/AGn7r9ri8/aM+FX7Sv7Snwu+Pnwij8BaJruo6xo8lj4b03SIr77SL+xa8sJo2WGFkjjd5ZA+GTd5e9kMv/BPH4pfEfQf+DdnRdL/AGRfD/h/4ifEyxvtY8PWltZ+IdPhXww8uo3kn2uVrmURtLFDLBKsUjbn86JyGQnd0VlKnGTau0k0lrq5Si0+1pJK+sdW7pK78+lKNRxUXa7s29FblU011ejvbRrazbsv0F+Pfw++F/8AwUK+BPxQ+DuqaxoHijSNQt5/DPiW2027tL288P3TxhkLIwlW3vYGMU8RkQtHIkUgUkCvmj9iz9nTQfh34Ch+C/w7+zRWPwsZvDt6l3aCzure4tQN81wvkxv5lz5yXXmLEq3K3cVwoaOVJD4D/wAG29j8Qvhf+1D+094D8RfBW6+HOm2Op6Vc6xcXXjW0165sNXXTrVTbzPEoN1NdK8l69yp2B3ZCNxzVX9jnn/g8g/aw4/5pXY/+k3hWtJU+WMJXT5oxenmk38r3t3VmtGm/XyPP6mAnWdOCu2467q0tH2fS66S0vdNH6ofDX4LaP8NohJDH9t1A4LXc6KXQ7dpEf9xTluBknOCTgY7ChTlaKzODFYutiajrV5OUn1YUUUUHOFFFFABXiMf7Ykkn/BRib4Ar4YYxw/DtPHreIRffKC2ovZC0Nv5XH3C/mebz93Zxur26vz2/a+/4I0+FP+Cin/BVm68Z/G74ep4v+Eej/DCz0bRbg6/Pp7JrC6ncyyIEs7iK4IWCXJaQeWd4AJIOFG/toLo+a/RfBNrX/Elbu7R6lPl9jN9fdtbX7cE9P8Llfsry6Hp99/wVFvNS+JnxD8N+H/AOl303gH4o6J8NS+q+M7PRG1Nr62huJ7qEXCBXeESkR2sbvNceWdoQnaNj9uf/AIKufDb9jK803w7b694M8X/EzUfE+ieHf+EHh8VWttrkK6jdQRfaWth5k+2OKYTY8r512/MobePjP4Y/8EcPG37OWszeEfhn8Orfw18N9H/ae8PePtKjfXobppPDNrpqJPPvmnknPl3IOI5G85snapXr5T4l/wCCVvx68OfGXS/Cq/sq+BfF1zZ/HO3+IVz+0BB4p0ddc1LSm1cXzxTW9wEvtyRP5bosgUmE7EcEM1YVKc6MZPRyhzN6O3Lh3JPpFXnVb1unGSTbSUYr3jGq47qMrW115qyi+8naNOySs+aMmkr3/SL9uf8A4KufDb9jK803w7b694M8X/EzUfE+ieHf+EHh8VWttrkK6jdQRfaWth5k+2OKYTY8r512/MobePaLb9qL4Z3vxd1L4fw/ETwLN490a2N5qHhpNetW1exgCK5lltRJ50aBHRizKBh1OcEV+OviX/glb8evDnxl0vwqv7KvgXxdc2fxzt/iFc/tAQeKdHXXNS0ptXF88U1vcBL7ckT+W6LIFJhOxHBDNc/Y5/4JKftCfs//APBQzxVrHjL4L6L42s4/EfiXWfDnxPt/Feg6TBEupW1xiS5gisTrd9MTPJF5NxdC2QynCbY0mOFOpJ4dTa95qcvmoUnGNunvSmtbNuLtpa29SEVWcU/dTivW8qicvuUHZX5VJXu00/12+F37W3wp+OPiuTQfBXxN+HvjDXIdPi1Z9O0TxFZ6hdpZyhGjuTFDIziF1kjKyY2sJFIJ3DPO/tj/ALWn/DJdn8NZv+Ef/wCEg/4WF490nwPj7d9l/s/7c7r9q/1b+Z5ezPl/Luz99a+AP+CT/wDwRt8WfsDfFj9lXxJb/DfSdEvtN8BeJLL4r6r9us5L6LVb2S0mtoneORjcqhiaJPLLxxqHOVLfN9o/8FI/2e/Fn7Qlj8EYfCemLqTeEPi34f8AFGrlrmKAWmnWjytPN+8Zd+0MvyJuc54U847KlOMalKKd05xUu3L7Xlk7/wArgua+nuvm0OONSUqVWTVmoSce/N7LmWnfndra6rl16+neI/2vfhN4O+J914J1f4ofDvS/GljZvqNzoF54ks4NUt7ZITO872zSCVY1hVpC5UKEUsTgZrcj+OPgqV/DCr4w8Ls3ja3e78OgarATr0KQid5bT5v9IRYSJC0e4BCGJxzX45/Cf/glN8bPDH7dfgz/AITT9mPwr4u0XRfid4h1/wAU/F9fFulz3/jfSNXiubZYp7OcrdrHbxXMZMRYj9xII03Pufl/2Vv+CWXxC/ap8H/tQeDdL8aW+raL8C9I134G/BXUr2WdIIluLmS5vxO5DZdIZINPaVAQEVhtIQE8Uak3Q9pb3uRzt192KbVt7884U1pr70tlY6pwSrcl/d5lG/8Aik0mntZQhKo9dFyx7s/Y3wn+238GPH3ge88T6F8XPhhrXhvTtQh0m71aw8U2NzY2t5MypDbSTJKUWaRnRVjJDMXUAEkV0vwc+O/gf9onwh/wkHw/8ZeFfHWgCd7U6l4e1a31SzEyAFo/Ngdk3qGUlc5G4etfiR8Df+CN/wAcPGv7GfiTwP40/Zo0/wAF+I/E/ibwR/wkd0vjHw3HaeJNP0++3XZh07RrW0traKKF7iRnlkmvJDMF3zYBX9mv2aP2Rfht+xv4V1jQfhf4R0vwVoevavNrt3p2m70tBdzKiyPFEWKQqVjQCOIJGu3hRk57XTiuZt3V7K3XSDu10T5pLveNtdWcvtJNxSXm79NZKy7tWXk076bHo9FFFYmwUUUUAFFFFABRRRQAUUUUAFFFFABRRRQAUUUUAFFFFABRRRQAUUUUAFFFFABRRRQAUUUUAFFFFABRRRQAUUUUAFFFFABRRRQAUUUUAFFFFABRRRQAUUUUAFFFFABRRRQB+V//AAdR/sn+MvGv7MXw+/aK+Gd1qEPxC/ZX8QDxVaR29uLxUspJbV57sW5t5RLJaz2dlOTIVhS2ivGkD4UD7Y/4J+ftw+Bv+CnH7HPhv4k+F5tJvNP8R2K2uvaMlx9s/sHUPJQ3ml3G+OMs0TPty0aiWNo5VUxyoT7xtxX5AftR/wDBGf8AaB/4J4/tTa58dP8Agnnqvh/RrDxgbeXxh8I9Rlgh0rVpY7uJwlnHPtt0t2V52KGa2ltUNwtrMFuFgiTSaswTad0fo/4Q/wCCe3wC+H+kavp+g/A/4P6HYeILKTTdUtrDwbp1tDqVrIUaSCdEhAliYxxko4KkopI4Fdh8Ff2efAH7Nnhi40T4c+BvB/gHRbu5a9nsPDmjW2lWs05VUMrRwIitIVRFLEZIRRnAFfkj4K/4O6T+z+IfDv7Vv7Mvxe+Evjb+yrO8t4tOsP8AkNbvNjnuls9SNnLa25miIjAkuc/vFMmYiznjX/g7ob9oAzeHf2Uv2ZPi98WvG39lXt5cQ6lp/wDyBdvlRwXTWemm7lurcTSgSgyW2P3aiTMu5K5n+Fvle9vS+vqKy/X57flofot+3r+1n8Mf+CWX7M3xG+NGvWPhnSb66UzrbqEsLzxxrK2xSysjLHE8ks8iwpF5hSTyYY2kYCKFivyP/wAGxH7NXirTvgZ8Vf2mviBa/wBj+Nv2t/Fc3jOTSIIprazsdPFxdy20kcE8fmp5015eSo3nTI9q9kwbJcngP2Xf+CNH7QP/AAUO/am0P46f8FCtW8P61p/hD7RN4Q+EenyQz6VpMsl3I5S8jg3Wz26hIGCCa5lukFst1MVt2t5f19CDb0peQxwORRRRQAUUUUAFFFFABRRRQAUUUUAFFFFABRRRQAVh+APhn4b+E+iS6Z4V8P6H4a02e6mvpLTSrCKzgkuJnMk0xSNVUySOzMzEZZiSSSc1uUUef9f1ogCiiigAooooAKKKKACiiigAooooAKKKKACiiigAooooAKKKKACiiigAooooAKKKKACiiigAooooAKKKKACiiigAoor4d/4LC/tYftPfsiT+AtY+Cdj8B77wv4q1zTPCM8XjWHV59TbV9RvPs9uYls3SMWyqVZ2Zi/DbVOAGnm96MOsmor1bsvvdkvNopRvGUv5U2/Rav7lr6I+4qK+N/Hf/AAWJ+Ff7COheH/CH7VfxP8A+D/jMNMs7zXNP8N6Xq9zpbtcvcLHLaboHlaD/AEeQMzEmMhd+0Om7bm/4Lgfsr2v7VcXwTm+LulQ/EifUo9Ij06TS9QS2e6kVWjiF6YPshL7lCnzsMzBQSxArSMeafJD3ndpW1u07O3fXQzlLljzT93RPXSyavr8j6tor5/8AE/8AwVJ+BPg34b6Z4u1Lx19n8Oaz4h1LwrZXo0XUJFudR04XJvIVVYC2IxZ3P7zHlv5fyM2Vz5f/AMEvv+C43wh/4Km+P/HXhTwbdNa+I/COo3z2dmYbxxrGiQzRRQasJJbaFIfOMq/6MxMsffI5qaf7yTjT1aV9O1k/yafdxvLZNqqn7tc09NbfO7X5prspWju0n9oUV4H+0X+1P4g+EP7a37Pfw402z0abQ/ixPr8Wrz3MUjXVsLDTxcw+QyyKi7nOG3o+V6bTzXn8f/Ben9ke48VeO9Fh+NGiXV98NbaS78QG303UJoLaGO4itnkimW3MVyqyzRgm3aTAYt91WYSpJ6LfV+dlu/RdWNxa/D722kvVtaLqfXlFeH/Gj/gpJ8Df2eNZ1yw8ZfEbRdDuPDfhRPG2peYk0kdtpMk4t4p/MjRkZpZiEjhUmWUkbEbNecn/AILsfsnL+znpnxab4xaSvgHWNWutCttSbS9QVzfW1u1zLbvbm38+OTyV3KHjXzN8YTcZEDVfRvtv5a8uv/b3u+um4lra3Xbz05v/AElqXprsfW1FcP8As3ftI+Cv2u/gnoPxG+Hetr4i8G+Jonm03UVtprX7QqSPE37uZEkQh0YYdQeOmMV3FVKMoycZKzRMZKS5ou6YUUUVJQUUUUAFFFeI/HD9sST4Oftl/A/4Rp4YbVh8ZItelfVlvvK/sQaZaxXHMPlN5wl80LnfHsxn5s4ojrJRW7v+Cbf4Jh0ue3UV8m/tF/8ABTyf4NfGX4xeCNF8D6ZrmqfCXwRpPizz9Y8YWnhyz1afULyW3js/tN0nkW6hYg3nSyDLuECdGO7+3/8A8FQ/hz/wT3+AniLxD4q8Q+CV8faX4cbXtM8CXviu00/VtebDKkNurbpHVpFdBJHE4JRsKxGKzdSKp+1e2v4OSdlu2nF6LX5NXuNOTqezW+n4qLV3stJR3723Tt9K0m2vl79tz/gq58Nv2Gv2Y9T8ZeJte8GQ+OofCi+J9K8A6h4qtdN1jXCyHZBAkmZWDSBo96QvyjYUkFa9Y0v9rn4dr4q8JeFNb8beC/DvxB8ZabBqWneEr7XraLWblJUL/urZ2WaUDZINypz5bdMHGzpyU5Q6xaT9XzaLu/de17W13V8lUTjGfSSuvRcuvkveW/f1PSdo9OvJ96Ng9K878OftgfCXxh8R7TwbpPxS+HWqeLtQNytrodn4ks59SuTbSSx3AS3WQyN5UkMyPhTsaKQNgqwGJ+3x+1f/AMMPfsleLvil/YH/AAlH/CKx27/2Z9u+xfavNuobfHneXJtx5u77hztxxnInon0e3nfQuz5uXqewbQe1FcH40/aj+Gvwz+IOgeEfE/xC8DeG/F/ioRnR9C1TXrWz1LVS77EFvbyOsk25wVGxTlhgc8Vas/2ifh/qPhLRPEFv468G3Gg+JtRXSNI1KPWrZrTVb1pHiW1t5Q+yWYyRugjQliyMMZBFG+3e3zva3rfT1J5lv5X+Vr39LanZUV5rpf7Zvwf1yfxjFZfFb4a3knw7SSTxWkHieykbwysbMrtfAS/6KFZHBMu3BRgehrY+E37Rfw++PdzrUPgXx14N8aTeGrn7Fq8eg61bak2lT5YeVcCF2MUmUcbXwflbjg0R1V12v8tr+g5aOz72+e9vU7KiiigAooooAKKKKACiiigAooooAKKKKACiiigAooooAKKKKACiiigAooooAKKKKACiiigAooooAKKKKACiiigAooooAKKKKACiiigAooooAKKKKACiiigAooooAK+H/wDgr5+yt+1B+1nqvw5034JXXwFsfC3g3xBpfjO5fxxPq0eoTatp1359vGgtI3jNoQFDg4kYkhWTAJ+4KKnl96M+sWpL1Tun8nZ+qRSlaMo/zJp+j0f3rT0Z+Z/xc/4JBfF/9qnxZ8ZPiB8TL34O/wDCzviR8DE+GulzaI9+NN0TVHe7NzJGJoWlS1dZIAJNzy4Mq7MY3fOf7L/7DPx4/aX/AGmvjl8KofEHwl0j4P8Ahr4t+GtW8f36218PE15qWmadpd0V03YFgEE0lvGC0xDpvdgCRtb9vKKui/ZVfax7aLpdVfap+ik5aea7WedaKqU/Zy76vrZ01Ta9XFLX176fl58Dv+CTf7Snwm/aV+FujXGvfAq8/Z5+EfxP1n4gaNJbvq0XjGdL8ahiCdWje0bYb9lwrLkIDvzkH7D/AGDv2V/En7L+p/G6bxFfaHexfEj4nar400ldOeV2trK6jt1jjnMiLiYNE5ITKgFcM3NfQFFKj+6jyR7OPyfs/wD5VBfLzKq/vJucu/N8/f8A1qSfzPmr9tL9iHWv2qf2jfg74ltNYsdI0DwLZeKLLV2Mkg1Bhqulmxia2UIULIzFiXZcADG48D4w/ZJ/4I5fG74S+OPDOnfHK6/Zz1r4F/D74Y638LnXw4up2eralol3iZru7jmiMH2kvCjOEdVHnTNuZgC36yUVk6StLl+0mtdVqpxvb0qTW60k/Jqua7jf7LTVtGrSjLf1jF632R+F/wCxF/wRi8Yftt/8EbPFmuaf8RL/AEz4ofEzWNM1HwL4o1dHt5otB8PsLbQredrfMkKPHEZvMiBdTJE+2Rk+b6a/Z7/4JC/GeLVfgnqnxQ/4USuofDr4o3HjvXX8PXniDVrnXVOlvbRXFxe6xJcXN5feeYiDI0aQxwJsY7VRf02orp9pablHvF66u8XBpt6XbcIuXSTV7XZjKmpR5ZdpLTRWkpKy8kpNR3cVpexj+Afh34f+FPhW30HwvoWj+G9Ds2kaDTtKso7O1gMjtI5WKNVRSzszHA5ZiTyTWxRRWZoFFFFABRRRQAV8K/8ABUD/AIJd2P8AwUo/bW/Z5j8feC08YfBXwbp/iWTxMjaw+nGC7uIbQWQHkTRXLFpIif3ZKgId2MgH7qoqeVOUZNXtf8U1+F7rs0mUpSSfK7X7f112fdNo/HX4yf8ABCPWPgNYftTeDf2cfhXb6D4K+JXhbwfB4d83xKtx9tvrTWGn1KLde3Mk8eLfa2ZCqEgBMt05f/gpr/wS6+O3jD4mftKWPhv9ljwL+0BN8crmz1Lw18T73xPpFlrXgKOO2gtzYRxX6iUeWbdtpt5I1KSrl2bKp+2VFNJ2Sk725lr1Umna+6SsrWs0lvq7uM+WTlFK90/RpKN/O6Wqd0272va34d/8FBv+CVvx617xB+0BpOh/sq+Bfj5ffGtdOvvD3xNvfFOj2etfD8RWdtbNp6RXwEn7o27bTbyIhSVcuxyqaniP/gkt8fvD3/BXO+8eaz8F9L+MHw88QeKdA8VaZ4gg8VaBoNx4VmtI4Y9l1cT2M+sPHbGCJxb2E0UUgjXcZfMeNf2worSjN06sKq3ja3orWVvKy1VpXV3JsxqU1Kj7HpZrz1STd/Pt8OtlFLQ/IH9m7/giz45+Cnxk+HnxWHw10MfEy4/aO1zxh4t1WTULNriz8L3CajDbtDKJGYwkTRTfZ0PmF5F3oCh2fd//AAVv+AHiz9qP/gnr8RPAfgfTF1jxR4gjsksbRrmK2Epjv7aV8ySsqLiNHblhnGBkkA/R9FZ01yUo0VtGzX/bsYR/FQTfm2+uly1rOv1d/wAZSn+c2l5JLpd/iv8Atp/8Eyfj9rX7cvjbxBp37OHhv4zQeIviX4c8d6P8TZPF+mWmp+H9J077OX0GO1vCsqqRDKuY3WJvNQtu24S98FP+CduteOf+Ct3xZ+FHh3xJHD8EfgVc33xE8M2MayeX4Z8W+IrBVgtm52MloftV1EiYMfnryS5A/ZqsPwp8M/DfgTWdc1LQ/D+h6NqHie7F/rN1Y2EVvNq1yEWMTXDooaaQIqrvcltqgZwBUQoxUFSfwqMl5u6hFX/w8kZJqz54qV23JunLVyW94+is5N/fzyi09OWTVrJI/Bn9lr/gi1+0h8Nf2Y/jV4D8R/s8aTH46vPhrq3gvRPGun+M/DdlY+IFkuo3iijsrOzguZ5J/KidrnV7p3VYiR5TOYz+xX7DH/BPf4W/sKeEZD8P/AujeCdY8RaVpdr4iGmPIIb6ayt/KRym4x+Z88haRVDSsxZy7HNe8UV0e1lZ92km+9nOXpq5tu2jdna928fZpu/m396gvwUFbtr0tYooorM0CiiigAooooAKKKKACiiigAooooAKKKKACiiigAooooAKKKKACiiigAooooAKKKKACiiigAooooAKKKKACiiigAooooAKKKKACiiigAooooAKKKKACiiigAooooAKKKKACiodS1K30fTri8vJ4bW1tY2mmmlcJHCiglmZjwFABJJ4AFfNf/BNj/gp/wCEf+Cmth8TNQ8H6XqGnaX8P/FDaDa3F2/za5aNbxT2+oohVTHFOsjMinJKKrZ+bapH3pOMd0uZ+l0r/e15vXs7EvdipPZuy9bN/kn/AE0fTVFfLv8AwVJ/4KieH/8Agld4H+HvinxX4Z1bXvDPjDxXF4d1S70+Q+ZoFu1tPPJemMIxmEawEmMFSV3EElQrdJ8bf2/NB+FXi39n2LSrO38XeF/2gPEK6Fp2v6fqKmC0WXTp721uUUKwuI5fJC8MgVX35OApIe/rH+ZQ/wC3nay+fMrdHr2difufF/K5f9uq938rO63201V/fqK810z9s74Pa1N4yjs/iv8ADW7k+HSSS+K1h8T2UjeGEjZlka+Al/0UKyOCZduCjA9DV7xL+1N8MfBmqSWOsfEbwHpN9DbWd69vea/aQSpBeS+RaSlWkBCTy/u4mxiR/lUk8UuZNJrrt872/J/c+waptdv+B/mvvXc7yivKT+3f8Dx8Iv8AhYH/AAuX4U/8IEb/APsv/hJf+EtsP7I+143fZ/tXm+T52Odm7djnFYmgfttab4u/bc0n4R6Pp9jq+k658Ov+Fh2Xiiz1VZ7e6hN8lqkUcaoVdHVxIJllwRgBTndTSbmoLd3/AAi5/L3U35rboKUkoub2Vvxkof8ApTS8up7jRXy7/wAFSf8AgqJ4f/4JXeB/h74p8V+GdW17wz4w8VxeHdUu9PkPmaBbtbTzyXpjCMZhGsBJjBUldxBJUK3SfG39vzQfhV4t/Z9i0qzt/F3hf9oDxCuhadr+n6ipgtFl06e9tblFCsLiOXyQvDIFV9+TgKSHv6x/mUP+3nay+fMrdHr2dnP3Pi/lcv8At1Xu/lZ3W+2mqv79RXlrfty/BUR+MG/4W/8AC9h8PTt8U48VWH/FNnzTDi9/e/6MfNBjxLt+cFevFcF+xj/wVj+A/wC3R8MvD/iHwf8AEDwzZ33iJp44vDeq61YQ69ayQiZnjltY55GVvKt5ZgATmJd/3QSFFppyWySfyd7P00eo2mtH3t897ettT6PorgYP2qvhfdaW99H8SPAMllH4eHi5rhfEFo0S6KSQNTLeZj7GSrD7R/q8qfm4rNT9t74LyfDOx8aL8Xvhe3g3VJri3s9eHiqx/sy7lt45JZ0jufN8p2ijildwrEosbk4CkhvS9+m/32/PT10Fvt/Wl/y19NT1CivnHwL/AMFKPBPxD/ae8ReDdL1Hwre+A9A+Hdt8Qz4+tfEkE+kT2sl5dW0o3qPKWKL7K7tP5xUfMCq7ST71D430W48GL4kj1fS5PDslkNSXVFukNk1qU8wXAmzs8ry/n3527ec45o2hzvbX8HKLv21jJa9n0D7XIt9PxUZK3fSUXp3XU1KK8/m/az+FdvoE2rSfEz4fx6Xb6dY6vLeN4isxbx2V85jsrpn8zaIbmQFIZCdsrDCFjxXz/wDGn/gsZ4D/AGUvh38TPFfxYj0Dw3pPgnxk/hPQ7bSPGWlaxqniwIbRZZo7UTRtbzQtdbprWRjNFFGZCMMoJtLke/3dYxt63klbfrsnYWquu9vvTl+Sbvt96PsCivkvUP8Agsd8H9F/ast/BN/4w+Hlj8PdQ8AxeNbH4jT+MrKPQ7yR9TmsPsKSNiEvugdgyzEko67BtJr6s0nVrXX9Ktb6xure9sb2JJ7e4gkEkU8bAMroy5DKwIIIOCDmnyvl5umq+abi0+2sXv2vsJySlyddH8mlJeuklt3s9dCxRX58fB//AIKxftLftFfEXVo/AP7GC+IvhzpHjTUPCMni9vi7pdmu2yv3s7i6NlNbLPhfLZ/LAJOMKzcE/aNv+0r8OryLTXg8feCpl1rWZvDunGPXLZhqGqQmQTWEOH/eXUZilDQrl1Mb5UbTiVJOnGqtpJNd7O1nbez5lbTW+g5e7KUHvG6fa6vdX2urO+ultTtqK+Lfgr/wWGsPijon7P8AqeqeDbPwvpnxtl8VC7vLrxEpg8Lw6Gs7PNI7QIsqSLASSTEIgSSXxz9WW3xr8G3tz4Vhh8W+GZpvHUD3PhtE1SBm8QRLEJmkswGzcKsREhaLcAhDdDmnb+vv/wAn9zBuzs/P8HZ/cdNRXkn7bv7ZnhP9g39nzU/iF4uj1K+t7aaGw03SdLhE+pa/qE7iO3sbSLI8yaVzgLngBmOApNeS/sm/8FH/ABp4u8NfELVP2lfg2v7J+n+BG00pqfifxha3ujanHeK+0pqHlQWwZGEaMiu5V5VVtrfLSjJS5rfZ3+dtL9XqnZapNNqzuEk48t/tbf5+nS70vpe59a0V5l4k/bW+DXg3whpfiDWPi38MtJ0HXNObWNN1K88UWMFnqFiskUbXUMrShJIRJPChkUlQ00YzllBi8X/tyfBT4fW9pNr3xg+Fuhw39tZ3ls+oeK7C2W4gvBIbSVC8o3JOIpTEwyJBE+0nacVZ3t52+eunro9PJh0v8/lp/mvvXc9SoriPEP7TPw38I/FzSfh/q3xA8EaX481+IT6Z4bu9dtYdX1KM78PDas4mkU+XJyqkfI3ocRat+1P8MdA+JGq+Db74jeA7LxfoWnPrGpaHPr9pHqWn2SIJHuprdpBJHCqEMZGUKFIJOKnmVr9Nfw3+7r2Czvb0/Hb7+nc7yivmv9lf/grf8A/2vrL4hT+FviJ4Xt4/hnqOo2usfb9c0+P/AEKyZVk1eMx3Dg6Y+8FLpiqEddvSvULP9r34T6j8Erj4mW/xQ+Hdx8N7V/Ln8Vx+JLNtEhbzRDta8EnkKfNZUwX+8wXqcU3ok32T+T2fz/PTcN5cq3u181uvU9Eor58/YZ/4KD+Hv28/Fvxeh8Iw6XfeF/hn4oj8OWHiLS9ai1Sx8TA2UFy9xE8S+Wqq0xj2q8mdmSwJ2je8I/tb/wDCVft4+Nvgl/wj/wBn/wCEP8IaV4r/ALa+3bvtf265u4PI8jyxs2fZd2/zG3eZjau3JEm3GPWSuvNcrn8vdTeuvTfQXMkpS6Rdn683J8/edtPXbU9lorhvHn7T3w1+FnxI0Pwb4n+Ifgbw34v8TlBo+h6pr1rZ6lqxdzGn2e3kdZJtzgqNinLDA5qez/aJ+H+o+EtE8QW/jrwbcaD4m1FdI0jUo9atmtNVvWkeJbW3lD7JZjJG6CNCWLIwxkEULVXXe3zva3rfT1G9HZ9r/Le/pbU7KivNdL/bN+D+uT+MYrL4rfDW8k+HaSSeK0g8T2UjeGVjZldr4CX/AEUKyOCZduCjA9DWfP8At+fAm18L65rknxq+Esei+F79NK1nUG8X6eLXSbxy4S2uJPO2wzMY3AjchjsbA4NLmVubpv8AJuy/HT1Czvbrt80rtfJa+h61RWT4G8eaH8T/AAfp3iHwzrOk+ItA1iBbqw1PTLuO7s72JuVkiljJR0PZlJBrWqmmnZgmmroKKKKQBRRRQAUUUUAFFFFABRRRQAUUUUAFFFFABRRRQAUUUUAFFFFABRRRQAUUUUAFFFFABRRRQAUUUUAFFFFABRRRQB8uf8FYf2fviZ+158CNB+EfgG4uNF8O/EbxBBpPxC1+2u7eG60bw15csl55Cygl5Z9iW4CKxHnZI2biPMP+CZ//AATE8Uf8Eyf2zviJY6L4k8dfEL4P+PvCWkTRa/4w1621HVtP1bTnktUsm2pE7Q/Y3i8orHsRYNmRhRX3lRRR/dyco/avfzXLZJ+UX70V0nd9Wgq/vIqMulreTUuZtectIy7xSXS58x/8FEv2bPFH7RfxG/Zxk0LQ7TWtF8F/E2DX/E/2i4hjS101dNv4XYxyEecGeaNCiBmO/O3aGI+OfjH/AMEZvjR8Mv2m/hb4S+EOuafefsy6P4s1Hxhp9jf3ITUvhVqEumX8AjtWZ1afTmnulkSJQ8kb8YVd7v8ArFRWToxcXHvLmfnpBW9FyRa6p3s9S3Ubd30jyry1nqvP35J9GraH4Efsef8ABD79obwz+z78Yvhz4w+B+i+HfGV98OdW8IaL8QrTxjoFppuuD7VHNBAtjp1hHeTtcmCHfc6rcSSKiEjyizRn0P43f8E/P2nf+CifjLxhrXxJ/Zrt/hza63a+APDR0mbx7pGtLqGnaXrU1xqMxngkjaNfs82THt3HaAhdsAftpRXRzv2tOrLVws0ntdObu0rb88r2snva928pQvTnTWnNf1SkoKy9OSLXVbXtofkp/wAFHv8AgjfdfDP4qeE9a+Af7Mfgn4w/DeTTfEUOpfDafxHbaHp+ia5qccCLrtvFelrUbIoRGsUSr5ZVGjVD86+sf8Es/wBiL4rfAn4x/BXWvG3gpPClj4H+AEfw81Qf2rZXezVodWV9qiCRyyyQx+eHA2gSBSQ4Kj9E6Kih+6tbWze/+GpG3olVlbqvdV+WKSK0VU02v2/xQlf1bpxv31e7bPmP/gol+zZ4o/aL+I37OMmhaHaa1ovgv4mwa/4n+0XEMaWumrpt/C7GOQjzgzzRoUQMx3527QxHxz8Y/wDgjN8aPhl+038LfCXwh1zT7z9mXR/Fmo+MNPsb+5Cal8KtQl0y/gEdqzOrT6c090siRKHkjfjCrvd/1iorJ0YuLj3lzPz0grei5ItdU72epq6jbu+keVeWs9V5+/JPo1bQ/GT/AIIjf8EgPiL8AfiZq3h39ob9mvwfeaXa+GbzwvN4vn1zw5daL4itBexSxx/2RZael1ePKYYJDcatPLIogyBEzGMweJf+CE/xLH/BMf4O+H/h/wCB/Cfww+Omi+OL/wD4Sa/03+zobt9E1CXU7CW4luoSFmaHT72ORUDyOipsQFgFP7RUVtUftFFTV7ct/Plm56+Tb1ta67PUiF4czi9236Xhyaei2vezS6Kx+IvgH/ghJ8ePA37J3xW0XVtL0fxxqHhvxBoWg+DPC1/r0dvD468E6Hqs2pLYz3CkxwSXzXGCJVRVa3XcqKd1b3wr/wCCKvjv4qfEH4f+IPHn7P8A4D+H/gHxD8aJPG+v/Cmx1ex1HRvB2lW+htZxeasey3uGuLqJJGitkdCrxh1A8xU/ZyinGTTu9XdN36tShJt/45QjKXS7k4qPM7zKCceRaKzWnROMopLtyxk1HrZRTbSR+P37YH/BA3xJ4k+PXiZfhDoMfh74WeBfAmhv4P8ACV3q0U/hvxxqlnrd7qc+iapDLI1y9nIZsje8cSvNGQWWLan6m6L4dm+J/wCzza6R4i8NxeFJ/EPh1bPU9BWaK5j0dprYJLaCSL93IsRZowyfKwXI4IrtKKzlBSw8sNPWMm2773k5OWvne2uyirWbk5aczVZV46SVrfJRS+7lv5tu91ypfg5+yV/wb9/tMeCvi58Jrjx5qltfeFNW1K20f4hWrarbsmm+H/Dd3az6FFCkb5f7WbPLBTIUE43rG2/H0j8fv+CTfjj4w/sG/tVaDrXww8KeLviR4w+Lus+Lfh4L9tOlnjsLq7sNk0NxKdto0lvA6uCyOVTDA5AP6pUVopO1nrvv/elCTfq3TX3vq7qbJT51prF26e7GcUvRRm1bsoq+mv5p/H//AIIieGfjz+3jqGrTfCPwPp/wv8M/A2bwl4MgSzsF0fTvENze3sjSJpyrhWhS4MiyNEEDy7lJkGV+vv8Agmp8MvFXwU/4J9/BjwZ440mPQvFvhHwdpmi6rYJcxXK209tbpCV8yJmRvuA5ViOeDXt1FEJOMHBbPV+vNUlf76kl6KPbWZRTkpPorf8AksI/lTT9W31svzY/4J+/8EDvhT4W+IWtfGD4tfCjyPjZB8UNe8VaTq//AAk94223OrT3Gmz+TbXZtf8AUmNtjpns65yK8s+Av7Fn7Tngb9ob4LfDPXPgdbt8K/g/8ZNf8e/8LMXxxpt0usWl7/ajwk6axS6jcG+jyfmbchO0A5H69UVnTjyKnFfDTUUl091wab824RbatfW5VX94qnNvNtt9dVNWXklOSSd7H5mfsu/8E0PiR4f8N/sf6L428HWbaT8O5fHyeOLWbULS4itLbV1uktomCSN53nLMARFvCgncVrhv+CFn7HOtWv7ZHxI1jX/ELeLvh7+yvean8IvhLcuZT5UMl3JdXzuX4eaGOS2s/MTClYmXGEBP62VxXwB/Z38G/svfD7/hFvAuiroehtf3mqPB9pmuXluru4e5uJXkmd5GZ5ZHb5mOAQowoAFUnyVXV/uyXzb0fyjKpFdud2FWjz0uR/zJ/JXk0vWfI335ddkfOf8AwVk/Z++Jnj3UPgl8TvhT4L0r4p+JPgf4xbxCfAuo6xFpEXiGOa0mtfMiuZv3MVzbNKs0bSDAw5GWwj/Pn7X3wK/a0/bQ+EHw48efEr9nv4TeMm8CePZvEC/AgeLYiNV017GW0gXUNRuFbT7i7t55XnwqCFojjBfKH9RKKlRsmv7ykvJrl26a8i3u1rZq5cpXaf8AdcX5p82/pzyta3S97I/GT4Jf8EEvF3i3x58A/wDha/wz8Jt4J8K6f458TXvhSDUbe/0fwlqer3cU2m6MY3YfaIYEOSYo3hEsL8lChbz3wj/wQG+K3xN+C/iC4+Jnwn0O88aeF/2bLbwH4GtZ9W0+7hh8RJLfZIPnFEuI4zAUnOIlNwSsm5CV/d2iiUE6fslpGzS8rqpHd3baVVpN3fuwu207qMmqntXq73/8mpytpbRumrpae9K1rq34b6D/AMEkP2jfC3/BTax8ceLvgfovxW8I65rPhjxRBrVn4u0DRJPB95aW9vE8NzdTWM+sSQ2rwIwhsJoopViXJl8x419X/ZV/4JbfE7wl+2Z/Z/xI/Zl+Dviyxg+IGt+NNZ+Our+JBeaj4osr5LlEsIdPjC3KOIrpImgut9liGYiNmMcp/XGitvae9GTXw3/Fwevp7ONnu0rSbRl7O0XFPdL8FJaeqnK62u7pJ6n42/H/AP4IYeONU/Ye/aa0L4XfCv4Z+DfiDr/xYm8QeD4o7HSYx4i8MwS2dzb6ZuCGKK3eaEslpc4h3xL5iorkjB8N/wDBLL40Wv7Hng+8X9lXw7JqXgv4qt428QfCLxB470C4sviOsunfYjcbbCwtdGsRBujMcAhCssUrOHcgS/thRWNOLpw5IvpBd/4fJZ/P2cXJbN3dk9VtN80uZrrN9r8/NdfLnai90rK9j4T/AOCF37MXxA/Zz8F/G288efBnSPgIvj74hTeItE8G6XqunajZ6TYvZWsSpE9iRCFDxOMbIzxnaAQTzP7Rdj+07+zF/wAFUPH/AMVvhP8As1t8ePC3jrwRoegR3H/CxtK8MrpktnPeSSp5d0HkckzqchVUZPLEkL+iVFXNtypyWnIkl6KHs9b3fwvV3vcmKSjOL15nd+vOp6Wt9pfdofh7+0V/wTv/AGl/id+1HrXjjUv2TvD/AI31nxt488K/EaHxjcePNHfVvA9lYpbSXHhdEuGBcRtHNF5kDrBLvRzuwAnUfBT/AIJ26145/wCCt3xZ+FHh3xJHD8EfgVc33xE8M2MayeX4Z8W+IrBVgtm52MloftV1EiYMfnryS5A/ZquK+E/7O/g34H+JPGmseF9FXTdU+ImtN4h8Q3JuZriTUr4wxw+YTI7bFEcUaiNNqLg4UEknONOFvZ2tFRktL3vJQiv/AAFQjJS+JTjFttuTdOUr897tuO9raObb/wC3ueUXH4eWTSSSij8Mv2Wv+CLX7SHw1/Zj+NXgPxH+zxpMfjq8+GureC9E8a6f4z8N2Vj4gWS6jeKKOys7OC5nkn8qJ2udXundViJHlM5jP05+3v8A8ETfDfw5/Zz8AQ/A39lXTfG3jCO90651220Xxfo+ix21xZ6bJax3Etprdne6Xeo/nTCXdB5ruySEu251/Wairq3qR5W/5dVo/clKa9Lyk27W1Sej1JglGXNv8Wj1XvRjF/coq19tVqrJeR/sD+APF3wr/Yv+Gfhzx7pPhPQfGWjeH7W11fTvDNpDaaVZzqgDRwxQqkKY43LCqxB92wBNteuUUVpWqOpN1GrXbem2vYzpU/ZwUFrZJa76BRRRWZoFFFFABRRRQAUUUUAFFFFABRRRQAUUUUAFFFFABRRRQAUUUUAFFFFABRRRQAUUUUAFFFFABRRRQAUUUUAFFFFABRRRQAUUUUAFFFFABRRRQAUUUUAFFFFABRRRQAUUUUAFFFFABRRRQAUUUUAFFFFABRRRQAUUUUAFFFFABRRRQAUUUUAFFFFABRRRQAUUUUAFFFFABRRRQAUUUUAFFFFABRRRQAUUUUAFFFFABRRRQAUUUUAFFFFAH//Z)\n",
        "\n"
      ]
    },
    {
      "cell_type": "code",
      "execution_count": null,
      "metadata": {
        "id": "goRVV0igYs7-"
      },
      "outputs": [],
      "source": [
        "class MLP(nn.Module):\n",
        "  def __init__(self, input_dim, N1, N2, output_dim):\n",
        "    super(MLP, self).__init__()\n",
        "    self.fc1 = nn.Linear(input_dim,N1)\n",
        "    self.fc2 = nn.Linear(N1, N2)\n",
        "    self.fc3 = nn.Linear(N2, output_dim)\n",
        "    self.dropout = nn.Dropout(0.2)\n",
        "    self.relu = nn.ReLU()\n",
        "  \n",
        "  def forward(self, x):\n",
        "    out=self.dropout(self.relu(self.fc1(x)))\n",
        "    out=self.dropout(self.relu(self.fc2(out)))\n",
        "    out=self.fc3(out)        \n",
        "    return out"
      ]
    },
    {
      "cell_type": "markdown",
      "source": [
        "# Early Stopping to Halt the Training of Neural Networks \n",
        "A problem with training neural networks is in the choice of the number of training epochs to use.\n",
        "\n",
        "Too many epochs can lead to overfitting of the training dataset, whereas too few may result in an underfit model. Early stopping is a method that allows you to specify an arbitrary large number of training epochs and stop training once the model performance stops improving on a hold out validation dataset.\n",
        "Early stopping requires that a validation dataset is evaluated during training."
      ],
      "metadata": {
        "id": "rIyJONqHhZp7"
      }
    },
    {
      "cell_type": "markdown",
      "metadata": {
        "id": "z9Lnr1hIJqZy"
      },
      "source": [
        "# **Mini-Batch Taining with Early Stopping**"
      ]
    },
    {
      "cell_type": "code",
      "execution_count": null,
      "metadata": {
        "id": "KfbyUTYCZfuB"
      },
      "outputs": [],
      "source": [
        "# compute the loss on validation set for early stopping\n",
        "def validation(model, device, valid_dl, criterion): # device = cpu ou cuda , criterion= Mean squared error MSE for regression, Binary Cross Entropy BCE for binary classification and Cross Entropy for multi classification\n",
        "  model.eval() # Sets the module in evaluation mode , c'est à dire training = False\n",
        "  loss_total = 0\n",
        "  with torch.no_grad(): \n",
        "    \"\"\"every time you do a forward pass with a torch model (and you are not in a torch.no_grad() block), then gradients will accumulate for the weight tensors of the model, \n",
        "  so that when you go to do the backward pass, the gradients are already there and just need to be multiplied that's why we use with torch.no_grad\"\"\"\n",
        "    for data in valid_dl:\n",
        "      inputs = data[0].to(device)\n",
        "      labels = data[1].to(device)\n",
        "      outputs = model(inputs.view(inputs.shape[0], -1)) \n",
        "      \"\"\" Because the input layer of an MLP takes 1D tensors, we need to reshape 2-dimensional MNIST image data into 1-dimensional data. This process is technically called flattening the image. \"\"\"\n",
        "      loss = criterion(outputs, labels)\n",
        "      loss_total += loss.item()\n",
        "  \n",
        "  return loss_total / len(valid_dl)"
      ]
    },
    {
      "cell_type": "code",
      "execution_count": null,
      "metadata": {
        "id": "z8H9f77_KBZs"
      },
      "outputs": [],
      "source": [
        "# Training \n",
        "def train_model(model, device, epochs, optimizer, criterion, train_dl, valid_dl):\n",
        "  last_loss = 100; patience = 2; triggertimes = 0  \n",
        "  \"\"\" patience: Number of epochs with no improvement after which training will be stopped\n",
        "      triggertimes: combine on va attendre aprés les 2 epochs \"\"\"    \n",
        "  for epoch in range(1,epochs+1):\n",
        "    model.train() # Sets the module in traininng mode\n",
        "    for batch_idx, data in enumerate(train_dl):\n",
        "      inputs = data[0].to(device)\n",
        "      labels = data[1].to(device)\n",
        "      # Zero the gradients\n",
        "      optimizer.zero_grad()\n",
        "      # Forward and backward propagation\n",
        "      outputs = model(inputs.view(inputs.shape[0], -1))\n",
        "      loss = criterion(outputs, labels)     \n",
        "      loss.backward()\n",
        "      optimizer.step() # mettre à jour les paramètres\n",
        "      # Show progress\n",
        "      if batch_idx % 100 == 0 or batch_idx == len(train_dl):\n",
        "        print('[{}/{}, {}/{}] loss: {:.8}'.format(epoch, epochs, batch_idx, len(train_dl), loss.item()))\n",
        "    \n",
        "    with train_summary_writer.as_default():\n",
        "      summary.scalar('loss', loss.item(), step=epoch)\n",
        "\n",
        "    # Early stopping\n",
        "    current_loss = validation(model, device, valid_dl, criterion)\n",
        "    if current_loss > last_loss:\n",
        "      triggertimes += 1 \n",
        "      print('trigger times', triggertimes)       \n",
        "    if triggertimes >= patience:\n",
        "      print('Perform Early stopping!')\n",
        "      return model\n",
        "    else:\n",
        "      trigger_times = 0 \n",
        "      print('trigger times', triggertimes)          \n",
        "    last_loss = current_loss\n",
        "    \n",
        "  return model"
      ]
    },
    {
      "cell_type": "markdown",
      "metadata": {
        "id": "bqJd-5uxPGEk"
      },
      "source": [
        "# **Evaluation** \n",
        "![Logit_softmax.jfif](data:image/jpeg;base64,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)"
      ]
    },
    {
      "cell_type": "code",
      "execution_count": null,
      "metadata": {
        "id": "VGEVBT2zNuCG"
      },
      "outputs": [],
      "source": [
        "def evaluation(model, device, test_dl):\n",
        "  model.eval()\n",
        "  total = 0.0; correct = 0.0 \n",
        "  with torch.no_grad():\n",
        "    for data in test_dl:\n",
        "      inputs = data[0].to(device)\n",
        "      labels = data[1].to(device)\n",
        "      outputs = model(inputs.view(inputs.shape[0], -1))\n",
        "      _, predicted = torch.max(outputs.data, 1)      \n",
        "      total += labels.size(0)\n",
        "      correct += (predicted == labels).sum().item()\n",
        "  accuracy = correct/total\n",
        "  return accuracy"
      ]
    },
    {
      "cell_type": "markdown",
      "metadata": {
        "id": "a5DiGb3FP6NR"
      },
      "source": [
        "# **Main Function**"
      ]
    },
    {
      "cell_type": "code",
      "execution_count": null,
      "metadata": {
        "colab": {
          "base_uri": "https://localhost:8080/",
          "height": 1000,
          "referenced_widgets": [
            "1e65896987124e7b9287a1516527e9b7",
            "80de09221a344ff1b30241403166fbc4",
            "7af99013e5fe46cf9281171609eeaf02",
            "8c29fb0c7ba849b297efbcc5ef2dbd81",
            "ef8bbb53d1f2420682758576618101af",
            "5241a503cefd4dc6afa6652aea2eb7ef",
            "41bdc816961b4f26a3dc8fd964ada4c0",
            "2a9f400ebf454b41b17f410b6505d4e3",
            "15976dabe9dc4228964a21f6c6f8ed99",
            "15fd589e335643339f569361ff7eb8e5",
            "d64445de816b445aa9936f9294b6fdb8",
            "01ec75f112fe46f5b0f3aaa23dbdf893",
            "3315325f8de54af8955a5e0a97ae8e86",
            "04f248186b8a408a84b51747df320b7a",
            "cc4e84e06f5f4cb4a56415032162f7c8",
            "6522297f8e644e86bd5ac57e618f1823",
            "86c68ffc71194c23b9cddeafdf825fb6",
            "49203376f8014a928555513429c35f6c",
            "111914316b444e06aec736efadcb51dc",
            "d911fcf7fc1c4f35b2feb33e461ce280",
            "53032cc541c1447f9c7d4f9ef2161ee5",
            "0bf0ed8b84354c5a89fb501f2439b562",
            "4c7677adf3584a6d9bac3402dd1c8d11",
            "acf49b9ab76948a186e62abd89d77ae1",
            "b0d8d963bff942938508fef734d14a63",
            "c8501300f6c94aa9b811c046b59355c5",
            "514250e9a68249eb876cb03617ff4b7f",
            "8e0500dd5bb64ae3ae02e43bb9903a1d",
            "df4bf65289a746cfa899dcbbf1e2a8d5",
            "f19111c6fcf24dc4b1db30db836f88b7",
            "f3646077072840c0a18d2d8a94fae38b",
            "f0187f0731f0452b82d1caf5429049bb",
            "3000f00c84be4070ac0fd76ada2ead78",
            "9c6ab7e931b148b18b28f20673eb5b80",
            "5dbc996311d041a6be44aecc41990411",
            "80ab42223efc436f99106944d8017b56",
            "48a42d9ef0d640e6bb733940faa3f2b4",
            "ae31447373b34abc8c9eed5e6f866a26",
            "26d51e6527ab4508ae55a3a5a39a0b33",
            "7fe21ce179654a5d959f076e059b4d6a",
            "f13ceea2a49446a6849d38b67b9340db",
            "7b308f2b0e7a49168ff9506c424b22c6",
            "d1c43b69b423481ea6ea9a9d2aa9ea7f",
            "1b9c47dc18014f0388ca0047892dcb20"
          ]
        },
        "id": "kNr_lLOhLiI8",
        "outputId": "f07fa424-6b0f-490f-c6ff-f16db853a9aa"
      },
      "outputs": [
        {
          "output_type": "stream",
          "name": "stdout",
          "text": [
            "MLP(\n",
            "  (fc1): Linear(in_features=784, out_features=128, bias=True)\n",
            "  (fc2): Linear(in_features=128, out_features=64, bias=True)\n",
            "  (fc3): Linear(in_features=64, out_features=10, bias=True)\n",
            "  (dropout): Dropout(p=0.2, inplace=False)\n",
            "  (relu): ReLU()\n",
            ")\n",
            "Downloading http://yann.lecun.com/exdb/mnist/train-images-idx3-ubyte.gz\n",
            "Downloading http://yann.lecun.com/exdb/mnist/train-images-idx3-ubyte.gz to MNIST/MNIST/raw/train-images-idx3-ubyte.gz\n"
          ]
        },
        {
          "output_type": "display_data",
          "data": {
            "text/plain": [
              "  0%|          | 0/9912422 [00:00<?, ?it/s]"
            ],
            "application/vnd.jupyter.widget-view+json": {
              "version_major": 2,
              "version_minor": 0,
              "model_id": "1e65896987124e7b9287a1516527e9b7"
            }
          },
          "metadata": {}
        },
        {
          "output_type": "stream",
          "name": "stdout",
          "text": [
            "Extracting MNIST/MNIST/raw/train-images-idx3-ubyte.gz to MNIST/MNIST/raw\n",
            "\n",
            "Downloading http://yann.lecun.com/exdb/mnist/train-labels-idx1-ubyte.gz\n",
            "Downloading http://yann.lecun.com/exdb/mnist/train-labels-idx1-ubyte.gz to MNIST/MNIST/raw/train-labels-idx1-ubyte.gz\n"
          ]
        },
        {
          "output_type": "display_data",
          "data": {
            "text/plain": [
              "  0%|          | 0/28881 [00:00<?, ?it/s]"
            ],
            "application/vnd.jupyter.widget-view+json": {
              "version_major": 2,
              "version_minor": 0,
              "model_id": "01ec75f112fe46f5b0f3aaa23dbdf893"
            }
          },
          "metadata": {}
        },
        {
          "output_type": "stream",
          "name": "stdout",
          "text": [
            "Extracting MNIST/MNIST/raw/train-labels-idx1-ubyte.gz to MNIST/MNIST/raw\n",
            "\n",
            "Downloading http://yann.lecun.com/exdb/mnist/t10k-images-idx3-ubyte.gz\n",
            "Downloading http://yann.lecun.com/exdb/mnist/t10k-images-idx3-ubyte.gz to MNIST/MNIST/raw/t10k-images-idx3-ubyte.gz\n"
          ]
        },
        {
          "output_type": "display_data",
          "data": {
            "text/plain": [
              "  0%|          | 0/1648877 [00:00<?, ?it/s]"
            ],
            "application/vnd.jupyter.widget-view+json": {
              "version_major": 2,
              "version_minor": 0,
              "model_id": "4c7677adf3584a6d9bac3402dd1c8d11"
            }
          },
          "metadata": {}
        },
        {
          "output_type": "stream",
          "name": "stdout",
          "text": [
            "Extracting MNIST/MNIST/raw/t10k-images-idx3-ubyte.gz to MNIST/MNIST/raw\n",
            "\n",
            "Downloading http://yann.lecun.com/exdb/mnist/t10k-labels-idx1-ubyte.gz\n",
            "Downloading http://yann.lecun.com/exdb/mnist/t10k-labels-idx1-ubyte.gz to MNIST/MNIST/raw/t10k-labels-idx1-ubyte.gz\n"
          ]
        },
        {
          "output_type": "display_data",
          "data": {
            "text/plain": [
              "  0%|          | 0/4542 [00:00<?, ?it/s]"
            ],
            "application/vnd.jupyter.widget-view+json": {
              "version_major": 2,
              "version_minor": 0,
              "model_id": "9c6ab7e931b148b18b28f20673eb5b80"
            }
          },
          "metadata": {}
        },
        {
          "output_type": "stream",
          "name": "stdout",
          "text": [
            "Extracting MNIST/MNIST/raw/t10k-labels-idx1-ubyte.gz to MNIST/MNIST/raw\n",
            "\n",
            "[1/100, 0/750] loss: 2.3051887\n",
            "[1/100, 100/750] loss: 0.60564351\n",
            "[1/100, 200/750] loss: 0.59228253\n",
            "[1/100, 300/750] loss: 0.3458885\n",
            "[1/100, 400/750] loss: 0.45217344\n",
            "[1/100, 500/750] loss: 0.35819328\n",
            "[1/100, 600/750] loss: 0.27754235\n",
            "[1/100, 700/750] loss: 0.28661379\n",
            "trigger times 0\n",
            "[2/100, 0/750] loss: 0.44457212\n",
            "[2/100, 100/750] loss: 0.12767448\n",
            "[2/100, 200/750] loss: 0.17790346\n",
            "[2/100, 300/750] loss: 0.22648773\n",
            "[2/100, 400/750] loss: 0.19986978\n",
            "[2/100, 500/750] loss: 0.36824247\n",
            "[2/100, 600/750] loss: 0.22191919\n",
            "[2/100, 700/750] loss: 0.12858176\n",
            "trigger times 0\n",
            "[3/100, 0/750] loss: 0.25636581\n",
            "[3/100, 100/750] loss: 0.19403183\n",
            "[3/100, 200/750] loss: 0.10294513\n",
            "[3/100, 300/750] loss: 0.19459686\n",
            "[3/100, 400/750] loss: 0.27015841\n",
            "[3/100, 500/750] loss: 0.23754428\n",
            "[3/100, 600/750] loss: 0.3079119\n",
            "[3/100, 700/750] loss: 0.17012209\n",
            "trigger times 0\n",
            "[4/100, 0/750] loss: 0.098193623\n",
            "[4/100, 100/750] loss: 0.46139905\n",
            "[4/100, 200/750] loss: 0.13921812\n",
            "[4/100, 300/750] loss: 0.24811573\n",
            "[4/100, 400/750] loss: 0.23525034\n",
            "[4/100, 500/750] loss: 0.32048029\n",
            "[4/100, 600/750] loss: 0.24683607\n",
            "[4/100, 700/750] loss: 0.24606465\n",
            "trigger times 0\n",
            "[5/100, 0/750] loss: 0.19706471\n",
            "[5/100, 100/750] loss: 0.10298698\n",
            "[5/100, 200/750] loss: 0.29099572\n",
            "[5/100, 300/750] loss: 0.3779071\n",
            "[5/100, 400/750] loss: 0.2895743\n",
            "[5/100, 500/750] loss: 0.20534098\n",
            "[5/100, 600/750] loss: 0.19747353\n",
            "[5/100, 700/750] loss: 0.13410662\n",
            "trigger times 0\n",
            "[6/100, 0/750] loss: 0.22218451\n",
            "[6/100, 100/750] loss: 0.2813578\n",
            "[6/100, 200/750] loss: 0.19920516\n",
            "[6/100, 300/750] loss: 0.056847196\n",
            "[6/100, 400/750] loss: 0.10236557\n",
            "[6/100, 500/750] loss: 0.060312998\n",
            "[6/100, 600/750] loss: 0.061218932\n",
            "[6/100, 700/750] loss: 0.15545951\n",
            "trigger times 0\n",
            "[7/100, 0/750] loss: 0.10326091\n",
            "[7/100, 100/750] loss: 0.29143235\n",
            "[7/100, 200/750] loss: 0.05763685\n",
            "[7/100, 300/750] loss: 0.23864208\n",
            "[7/100, 400/750] loss: 0.082383402\n",
            "[7/100, 500/750] loss: 0.17540313\n",
            "[7/100, 600/750] loss: 0.069605745\n",
            "[7/100, 700/750] loss: 0.036699161\n",
            "trigger times 0\n",
            "[8/100, 0/750] loss: 0.17144004\n",
            "[8/100, 100/750] loss: 0.061932359\n",
            "[8/100, 200/750] loss: 0.20586683\n",
            "[8/100, 300/750] loss: 0.067157678\n",
            "[8/100, 400/750] loss: 0.14274804\n",
            "[8/100, 500/750] loss: 0.22765823\n",
            "[8/100, 600/750] loss: 0.154146\n",
            "[8/100, 700/750] loss: 0.098590784\n",
            "trigger times 1\n",
            "trigger times 1\n",
            "[9/100, 0/750] loss: 0.20047285\n",
            "[9/100, 100/750] loss: 0.095030777\n",
            "[9/100, 200/750] loss: 0.15421046\n",
            "[9/100, 300/750] loss: 0.13949199\n",
            "[9/100, 400/750] loss: 0.12825318\n",
            "[9/100, 500/750] loss: 0.089585543\n",
            "[9/100, 600/750] loss: 0.29992378\n",
            "[9/100, 700/750] loss: 0.16169053\n",
            "trigger times 2\n",
            "Perform Early stopping!\n",
            "Accuracy 0.964\n"
          ]
        }
      ],
      "source": [
        "def main(epochs=100, batch_size=64, lr=0.002):  \n",
        "  device = torch.device('cuda' if torch.cuda.is_available() else 'cpu')\n",
        "  criterion = nn.CrossEntropyLoss()\n",
        "  model = MLP(784, 128, 64, 10)\n",
        "  model = model.to(device) # Move model before creating optimizer\n",
        "  print(model)\n",
        "  optimizer = Adam(model.parameters(), lr=lr)\n",
        "  # Data Preparation\n",
        "  train_dl, valid_dl, test_dl = prepare_data(batch_size)\n",
        "  # Training\n",
        "  model = train_model(model, device, epochs, optimizer, criterion, train_dl, valid_dl)\n",
        "  # Evaluation\n",
        "  acc = evaluation(model, device, test_dl)\n",
        "  print('Accuracy', acc)\n",
        "  torch.save(model.state_dict(),\"mnist_mlp.pt\")\n",
        "\n",
        "if __name__ == '__main__':\n",
        "  main()"
      ]
    },
    {
      "cell_type": "code",
      "execution_count": null,
      "metadata": {
        "colab": {
          "base_uri": "https://localhost:8080/",
          "height": 1000
        },
        "id": "vrFBJvGgnmjt",
        "outputId": "f46b5ee4-d062-49c5-a8a8-d68acd9933d0"
      },
      "outputs": [
        {
          "output_type": "display_data",
          "data": {
            "text/plain": [
              "<IPython.core.display.Javascript object>"
            ],
            "application/javascript": [
              "\n",
              "        (async () => {\n",
              "            const url = new URL(await google.colab.kernel.proxyPort(6006, {'cache': true}));\n",
              "            url.searchParams.set('tensorboardColab', 'true');\n",
              "            const iframe = document.createElement('iframe');\n",
              "            iframe.src = url;\n",
              "            iframe.setAttribute('width', '100%');\n",
              "            iframe.setAttribute('height', '800');\n",
              "            iframe.setAttribute('frameborder', 0);\n",
              "            document.body.appendChild(iframe);\n",
              "        })();\n",
              "    "
            ]
          },
          "metadata": {}
        },
        {
          "output_type": "display_data",
          "data": {
            "text/plain": [
              "Reusing TensorBoard on port 6006 (pid 756), started 0:00:00 ago. (Use '!kill 756' to kill it.)"
            ]
          },
          "metadata": {}
        },
        {
          "output_type": "display_data",
          "data": {
            "text/plain": [
              "<IPython.core.display.Javascript object>"
            ],
            "application/javascript": [
              "\n",
              "        (async () => {\n",
              "            const url = new URL(await google.colab.kernel.proxyPort(6006, {'cache': true}));\n",
              "            url.searchParams.set('tensorboardColab', 'true');\n",
              "            const iframe = document.createElement('iframe');\n",
              "            iframe.src = url;\n",
              "            iframe.setAttribute('width', '100%');\n",
              "            iframe.setAttribute('height', '800');\n",
              "            iframe.setAttribute('frameborder', 0);\n",
              "            document.body.appendChild(iframe);\n",
              "        })();\n",
              "    "
            ]
          },
          "metadata": {}
        }
      ],
      "source": [
        "%tensorboard --logdir logs/tensorboard"
      ]
    },
    {
      "cell_type": "code",
      "source": [],
      "metadata": {
        "id": "ZTCVEhsZvLYz"
      },
      "execution_count": null,
      "outputs": []
    }
  ],
  "metadata": {
    "accelerator": "GPU",
    "colab": {
      "provenance": []
    },
    "gpuClass": "standard",
    "kernelspec": {
      "display_name": "Python 3.9.7 ('base')",
      "language": "python",
      "name": "python3"
    },
    "language_info": {
      "name": "python",
      "version": "3.9.7"
    },
    "vscode": {
      "interpreter": {
        "hash": "3c83506bc0c9d09408835bc55ca91ed883725714d894101e242cf2a4d97c3e82"
      }
    },
    "widgets": {
      "application/vnd.jupyter.widget-state+json": {
        "1e65896987124e7b9287a1516527e9b7": {
          "model_module": "@jupyter-widgets/controls",
          "model_name": "HBoxModel",
          "model_module_version": "1.5.0",
          "state": {
            "_dom_classes": [],
            "_model_module": "@jupyter-widgets/controls",
            "_model_module_version": "1.5.0",
            "_model_name": "HBoxModel",
            "_view_count": null,
            "_view_module": "@jupyter-widgets/controls",
            "_view_module_version": "1.5.0",
            "_view_name": "HBoxView",
            "box_style": "",
            "children": [
              "IPY_MODEL_80de09221a344ff1b30241403166fbc4",
              "IPY_MODEL_7af99013e5fe46cf9281171609eeaf02",
              "IPY_MODEL_8c29fb0c7ba849b297efbcc5ef2dbd81"
            ],
            "layout": "IPY_MODEL_ef8bbb53d1f2420682758576618101af"
          }
        },
        "80de09221a344ff1b30241403166fbc4": {
          "model_module": "@jupyter-widgets/controls",
          "model_name": "HTMLModel",
          "model_module_version": "1.5.0",
          "state": {
            "_dom_classes": [],
            "_model_module": "@jupyter-widgets/controls",
            "_model_module_version": "1.5.0",
            "_model_name": "HTMLModel",
            "_view_count": null,
            "_view_module": "@jupyter-widgets/controls",
            "_view_module_version": "1.5.0",
            "_view_name": "HTMLView",
            "description": "",
            "description_tooltip": null,
            "layout": "IPY_MODEL_5241a503cefd4dc6afa6652aea2eb7ef",
            "placeholder": "​",
            "style": "IPY_MODEL_41bdc816961b4f26a3dc8fd964ada4c0",
            "value": "100%"
          }
        },
        "7af99013e5fe46cf9281171609eeaf02": {
          "model_module": "@jupyter-widgets/controls",
          "model_name": "FloatProgressModel",
          "model_module_version": "1.5.0",
          "state": {
            "_dom_classes": [],
            "_model_module": "@jupyter-widgets/controls",
            "_model_module_version": "1.5.0",
            "_model_name": "FloatProgressModel",
            "_view_count": null,
            "_view_module": "@jupyter-widgets/controls",
            "_view_module_version": "1.5.0",
            "_view_name": "ProgressView",
            "bar_style": "success",
            "description": "",
            "description_tooltip": null,
            "layout": "IPY_MODEL_2a9f400ebf454b41b17f410b6505d4e3",
            "max": 9912422,
            "min": 0,
            "orientation": "horizontal",
            "style": "IPY_MODEL_15976dabe9dc4228964a21f6c6f8ed99",
            "value": 9912422
          }
        },
        "8c29fb0c7ba849b297efbcc5ef2dbd81": {
          "model_module": "@jupyter-widgets/controls",
          "model_name": "HTMLModel",
          "model_module_version": "1.5.0",
          "state": {
            "_dom_classes": [],
            "_model_module": "@jupyter-widgets/controls",
            "_model_module_version": "1.5.0",
            "_model_name": "HTMLModel",
            "_view_count": null,
            "_view_module": "@jupyter-widgets/controls",
            "_view_module_version": "1.5.0",
            "_view_name": "HTMLView",
            "description": "",
            "description_tooltip": null,
            "layout": "IPY_MODEL_15fd589e335643339f569361ff7eb8e5",
            "placeholder": "​",
            "style": "IPY_MODEL_d64445de816b445aa9936f9294b6fdb8",
            "value": " 9912422/9912422 [00:00&lt;00:00, 130290131.48it/s]"
          }
        },
        "ef8bbb53d1f2420682758576618101af": {
          "model_module": "@jupyter-widgets/base",
          "model_name": "LayoutModel",
          "model_module_version": "1.2.0",
          "state": {
            "_model_module": "@jupyter-widgets/base",
            "_model_module_version": "1.2.0",
            "_model_name": "LayoutModel",
            "_view_count": null,
            "_view_module": "@jupyter-widgets/base",
            "_view_module_version": "1.2.0",
            "_view_name": "LayoutView",
            "align_content": null,
            "align_items": null,
            "align_self": null,
            "border": null,
            "bottom": null,
            "display": null,
            "flex": null,
            "flex_flow": null,
            "grid_area": null,
            "grid_auto_columns": null,
            "grid_auto_flow": null,
            "grid_auto_rows": null,
            "grid_column": null,
            "grid_gap": null,
            "grid_row": null,
            "grid_template_areas": null,
            "grid_template_columns": null,
            "grid_template_rows": null,
            "height": null,
            "justify_content": null,
            "justify_items": null,
            "left": null,
            "margin": null,
            "max_height": null,
            "max_width": null,
            "min_height": null,
            "min_width": null,
            "object_fit": null,
            "object_position": null,
            "order": null,
            "overflow": null,
            "overflow_x": null,
            "overflow_y": null,
            "padding": null,
            "right": null,
            "top": null,
            "visibility": null,
            "width": null
          }
        },
        "5241a503cefd4dc6afa6652aea2eb7ef": {
          "model_module": "@jupyter-widgets/base",
          "model_name": "LayoutModel",
          "model_module_version": "1.2.0",
          "state": {
            "_model_module": "@jupyter-widgets/base",
            "_model_module_version": "1.2.0",
            "_model_name": "LayoutModel",
            "_view_count": null,
            "_view_module": "@jupyter-widgets/base",
            "_view_module_version": "1.2.0",
            "_view_name": "LayoutView",
            "align_content": null,
            "align_items": null,
            "align_self": null,
            "border": null,
            "bottom": null,
            "display": null,
            "flex": null,
            "flex_flow": null,
            "grid_area": null,
            "grid_auto_columns": null,
            "grid_auto_flow": null,
            "grid_auto_rows": null,
            "grid_column": null,
            "grid_gap": null,
            "grid_row": null,
            "grid_template_areas": null,
            "grid_template_columns": null,
            "grid_template_rows": null,
            "height": null,
            "justify_content": null,
            "justify_items": null,
            "left": null,
            "margin": null,
            "max_height": null,
            "max_width": null,
            "min_height": null,
            "min_width": null,
            "object_fit": null,
            "object_position": null,
            "order": null,
            "overflow": null,
            "overflow_x": null,
            "overflow_y": null,
            "padding": null,
            "right": null,
            "top": null,
            "visibility": null,
            "width": null
          }
        },
        "41bdc816961b4f26a3dc8fd964ada4c0": {
          "model_module": "@jupyter-widgets/controls",
          "model_name": "DescriptionStyleModel",
          "model_module_version": "1.5.0",
          "state": {
            "_model_module": "@jupyter-widgets/controls",
            "_model_module_version": "1.5.0",
            "_model_name": "DescriptionStyleModel",
            "_view_count": null,
            "_view_module": "@jupyter-widgets/base",
            "_view_module_version": "1.2.0",
            "_view_name": "StyleView",
            "description_width": ""
          }
        },
        "2a9f400ebf454b41b17f410b6505d4e3": {
          "model_module": "@jupyter-widgets/base",
          "model_name": "LayoutModel",
          "model_module_version": "1.2.0",
          "state": {
            "_model_module": "@jupyter-widgets/base",
            "_model_module_version": "1.2.0",
            "_model_name": "LayoutModel",
            "_view_count": null,
            "_view_module": "@jupyter-widgets/base",
            "_view_module_version": "1.2.0",
            "_view_name": "LayoutView",
            "align_content": null,
            "align_items": null,
            "align_self": null,
            "border": null,
            "bottom": null,
            "display": null,
            "flex": null,
            "flex_flow": null,
            "grid_area": null,
            "grid_auto_columns": null,
            "grid_auto_flow": null,
            "grid_auto_rows": null,
            "grid_column": null,
            "grid_gap": null,
            "grid_row": null,
            "grid_template_areas": null,
            "grid_template_columns": null,
            "grid_template_rows": null,
            "height": null,
            "justify_content": null,
            "justify_items": null,
            "left": null,
            "margin": null,
            "max_height": null,
            "max_width": null,
            "min_height": null,
            "min_width": null,
            "object_fit": null,
            "object_position": null,
            "order": null,
            "overflow": null,
            "overflow_x": null,
            "overflow_y": null,
            "padding": null,
            "right": null,
            "top": null,
            "visibility": null,
            "width": null
          }
        },
        "15976dabe9dc4228964a21f6c6f8ed99": {
          "model_module": "@jupyter-widgets/controls",
          "model_name": "ProgressStyleModel",
          "model_module_version": "1.5.0",
          "state": {
            "_model_module": "@jupyter-widgets/controls",
            "_model_module_version": "1.5.0",
            "_model_name": "ProgressStyleModel",
            "_view_count": null,
            "_view_module": "@jupyter-widgets/base",
            "_view_module_version": "1.2.0",
            "_view_name": "StyleView",
            "bar_color": null,
            "description_width": ""
          }
        },
        "15fd589e335643339f569361ff7eb8e5": {
          "model_module": "@jupyter-widgets/base",
          "model_name": "LayoutModel",
          "model_module_version": "1.2.0",
          "state": {
            "_model_module": "@jupyter-widgets/base",
            "_model_module_version": "1.2.0",
            "_model_name": "LayoutModel",
            "_view_count": null,
            "_view_module": "@jupyter-widgets/base",
            "_view_module_version": "1.2.0",
            "_view_name": "LayoutView",
            "align_content": null,
            "align_items": null,
            "align_self": null,
            "border": null,
            "bottom": null,
            "display": null,
            "flex": null,
            "flex_flow": null,
            "grid_area": null,
            "grid_auto_columns": null,
            "grid_auto_flow": null,
            "grid_auto_rows": null,
            "grid_column": null,
            "grid_gap": null,
            "grid_row": null,
            "grid_template_areas": null,
            "grid_template_columns": null,
            "grid_template_rows": null,
            "height": null,
            "justify_content": null,
            "justify_items": null,
            "left": null,
            "margin": null,
            "max_height": null,
            "max_width": null,
            "min_height": null,
            "min_width": null,
            "object_fit": null,
            "object_position": null,
            "order": null,
            "overflow": null,
            "overflow_x": null,
            "overflow_y": null,
            "padding": null,
            "right": null,
            "top": null,
            "visibility": null,
            "width": null
          }
        },
        "d64445de816b445aa9936f9294b6fdb8": {
          "model_module": "@jupyter-widgets/controls",
          "model_name": "DescriptionStyleModel",
          "model_module_version": "1.5.0",
          "state": {
            "_model_module": "@jupyter-widgets/controls",
            "_model_module_version": "1.5.0",
            "_model_name": "DescriptionStyleModel",
            "_view_count": null,
            "_view_module": "@jupyter-widgets/base",
            "_view_module_version": "1.2.0",
            "_view_name": "StyleView",
            "description_width": ""
          }
        },
        "01ec75f112fe46f5b0f3aaa23dbdf893": {
          "model_module": "@jupyter-widgets/controls",
          "model_name": "HBoxModel",
          "model_module_version": "1.5.0",
          "state": {
            "_dom_classes": [],
            "_model_module": "@jupyter-widgets/controls",
            "_model_module_version": "1.5.0",
            "_model_name": "HBoxModel",
            "_view_count": null,
            "_view_module": "@jupyter-widgets/controls",
            "_view_module_version": "1.5.0",
            "_view_name": "HBoxView",
            "box_style": "",
            "children": [
              "IPY_MODEL_3315325f8de54af8955a5e0a97ae8e86",
              "IPY_MODEL_04f248186b8a408a84b51747df320b7a",
              "IPY_MODEL_cc4e84e06f5f4cb4a56415032162f7c8"
            ],
            "layout": "IPY_MODEL_6522297f8e644e86bd5ac57e618f1823"
          }
        },
        "3315325f8de54af8955a5e0a97ae8e86": {
          "model_module": "@jupyter-widgets/controls",
          "model_name": "HTMLModel",
          "model_module_version": "1.5.0",
          "state": {
            "_dom_classes": [],
            "_model_module": "@jupyter-widgets/controls",
            "_model_module_version": "1.5.0",
            "_model_name": "HTMLModel",
            "_view_count": null,
            "_view_module": "@jupyter-widgets/controls",
            "_view_module_version": "1.5.0",
            "_view_name": "HTMLView",
            "description": "",
            "description_tooltip": null,
            "layout": "IPY_MODEL_86c68ffc71194c23b9cddeafdf825fb6",
            "placeholder": "​",
            "style": "IPY_MODEL_49203376f8014a928555513429c35f6c",
            "value": "100%"
          }
        },
        "04f248186b8a408a84b51747df320b7a": {
          "model_module": "@jupyter-widgets/controls",
          "model_name": "FloatProgressModel",
          "model_module_version": "1.5.0",
          "state": {
            "_dom_classes": [],
            "_model_module": "@jupyter-widgets/controls",
            "_model_module_version": "1.5.0",
            "_model_name": "FloatProgressModel",
            "_view_count": null,
            "_view_module": "@jupyter-widgets/controls",
            "_view_module_version": "1.5.0",
            "_view_name": "ProgressView",
            "bar_style": "success",
            "description": "",
            "description_tooltip": null,
            "layout": "IPY_MODEL_111914316b444e06aec736efadcb51dc",
            "max": 28881,
            "min": 0,
            "orientation": "horizontal",
            "style": "IPY_MODEL_d911fcf7fc1c4f35b2feb33e461ce280",
            "value": 28881
          }
        },
        "cc4e84e06f5f4cb4a56415032162f7c8": {
          "model_module": "@jupyter-widgets/controls",
          "model_name": "HTMLModel",
          "model_module_version": "1.5.0",
          "state": {
            "_dom_classes": [],
            "_model_module": "@jupyter-widgets/controls",
            "_model_module_version": "1.5.0",
            "_model_name": "HTMLModel",
            "_view_count": null,
            "_view_module": "@jupyter-widgets/controls",
            "_view_module_version": "1.5.0",
            "_view_name": "HTMLView",
            "description": "",
            "description_tooltip": null,
            "layout": "IPY_MODEL_53032cc541c1447f9c7d4f9ef2161ee5",
            "placeholder": "​",
            "style": "IPY_MODEL_0bf0ed8b84354c5a89fb501f2439b562",
            "value": " 28881/28881 [00:00&lt;00:00, 959012.09it/s]"
          }
        },
        "6522297f8e644e86bd5ac57e618f1823": {
          "model_module": "@jupyter-widgets/base",
          "model_name": "LayoutModel",
          "model_module_version": "1.2.0",
          "state": {
            "_model_module": "@jupyter-widgets/base",
            "_model_module_version": "1.2.0",
            "_model_name": "LayoutModel",
            "_view_count": null,
            "_view_module": "@jupyter-widgets/base",
            "_view_module_version": "1.2.0",
            "_view_name": "LayoutView",
            "align_content": null,
            "align_items": null,
            "align_self": null,
            "border": null,
            "bottom": null,
            "display": null,
            "flex": null,
            "flex_flow": null,
            "grid_area": null,
            "grid_auto_columns": null,
            "grid_auto_flow": null,
            "grid_auto_rows": null,
            "grid_column": null,
            "grid_gap": null,
            "grid_row": null,
            "grid_template_areas": null,
            "grid_template_columns": null,
            "grid_template_rows": null,
            "height": null,
            "justify_content": null,
            "justify_items": null,
            "left": null,
            "margin": null,
            "max_height": null,
            "max_width": null,
            "min_height": null,
            "min_width": null,
            "object_fit": null,
            "object_position": null,
            "order": null,
            "overflow": null,
            "overflow_x": null,
            "overflow_y": null,
            "padding": null,
            "right": null,
            "top": null,
            "visibility": null,
            "width": null
          }
        },
        "86c68ffc71194c23b9cddeafdf825fb6": {
          "model_module": "@jupyter-widgets/base",
          "model_name": "LayoutModel",
          "model_module_version": "1.2.0",
          "state": {
            "_model_module": "@jupyter-widgets/base",
            "_model_module_version": "1.2.0",
            "_model_name": "LayoutModel",
            "_view_count": null,
            "_view_module": "@jupyter-widgets/base",
            "_view_module_version": "1.2.0",
            "_view_name": "LayoutView",
            "align_content": null,
            "align_items": null,
            "align_self": null,
            "border": null,
            "bottom": null,
            "display": null,
            "flex": null,
            "flex_flow": null,
            "grid_area": null,
            "grid_auto_columns": null,
            "grid_auto_flow": null,
            "grid_auto_rows": null,
            "grid_column": null,
            "grid_gap": null,
            "grid_row": null,
            "grid_template_areas": null,
            "grid_template_columns": null,
            "grid_template_rows": null,
            "height": null,
            "justify_content": null,
            "justify_items": null,
            "left": null,
            "margin": null,
            "max_height": null,
            "max_width": null,
            "min_height": null,
            "min_width": null,
            "object_fit": null,
            "object_position": null,
            "order": null,
            "overflow": null,
            "overflow_x": null,
            "overflow_y": null,
            "padding": null,
            "right": null,
            "top": null,
            "visibility": null,
            "width": null
          }
        },
        "49203376f8014a928555513429c35f6c": {
          "model_module": "@jupyter-widgets/controls",
          "model_name": "DescriptionStyleModel",
          "model_module_version": "1.5.0",
          "state": {
            "_model_module": "@jupyter-widgets/controls",
            "_model_module_version": "1.5.0",
            "_model_name": "DescriptionStyleModel",
            "_view_count": null,
            "_view_module": "@jupyter-widgets/base",
            "_view_module_version": "1.2.0",
            "_view_name": "StyleView",
            "description_width": ""
          }
        },
        "111914316b444e06aec736efadcb51dc": {
          "model_module": "@jupyter-widgets/base",
          "model_name": "LayoutModel",
          "model_module_version": "1.2.0",
          "state": {
            "_model_module": "@jupyter-widgets/base",
            "_model_module_version": "1.2.0",
            "_model_name": "LayoutModel",
            "_view_count": null,
            "_view_module": "@jupyter-widgets/base",
            "_view_module_version": "1.2.0",
            "_view_name": "LayoutView",
            "align_content": null,
            "align_items": null,
            "align_self": null,
            "border": null,
            "bottom": null,
            "display": null,
            "flex": null,
            "flex_flow": null,
            "grid_area": null,
            "grid_auto_columns": null,
            "grid_auto_flow": null,
            "grid_auto_rows": null,
            "grid_column": null,
            "grid_gap": null,
            "grid_row": null,
            "grid_template_areas": null,
            "grid_template_columns": null,
            "grid_template_rows": null,
            "height": null,
            "justify_content": null,
            "justify_items": null,
            "left": null,
            "margin": null,
            "max_height": null,
            "max_width": null,
            "min_height": null,
            "min_width": null,
            "object_fit": null,
            "object_position": null,
            "order": null,
            "overflow": null,
            "overflow_x": null,
            "overflow_y": null,
            "padding": null,
            "right": null,
            "top": null,
            "visibility": null,
            "width": null
          }
        },
        "d911fcf7fc1c4f35b2feb33e461ce280": {
          "model_module": "@jupyter-widgets/controls",
          "model_name": "ProgressStyleModel",
          "model_module_version": "1.5.0",
          "state": {
            "_model_module": "@jupyter-widgets/controls",
            "_model_module_version": "1.5.0",
            "_model_name": "ProgressStyleModel",
            "_view_count": null,
            "_view_module": "@jupyter-widgets/base",
            "_view_module_version": "1.2.0",
            "_view_name": "StyleView",
            "bar_color": null,
            "description_width": ""
          }
        },
        "53032cc541c1447f9c7d4f9ef2161ee5": {
          "model_module": "@jupyter-widgets/base",
          "model_name": "LayoutModel",
          "model_module_version": "1.2.0",
          "state": {
            "_model_module": "@jupyter-widgets/base",
            "_model_module_version": "1.2.0",
            "_model_name": "LayoutModel",
            "_view_count": null,
            "_view_module": "@jupyter-widgets/base",
            "_view_module_version": "1.2.0",
            "_view_name": "LayoutView",
            "align_content": null,
            "align_items": null,
            "align_self": null,
            "border": null,
            "bottom": null,
            "display": null,
            "flex": null,
            "flex_flow": null,
            "grid_area": null,
            "grid_auto_columns": null,
            "grid_auto_flow": null,
            "grid_auto_rows": null,
            "grid_column": null,
            "grid_gap": null,
            "grid_row": null,
            "grid_template_areas": null,
            "grid_template_columns": null,
            "grid_template_rows": null,
            "height": null,
            "justify_content": null,
            "justify_items": null,
            "left": null,
            "margin": null,
            "max_height": null,
            "max_width": null,
            "min_height": null,
            "min_width": null,
            "object_fit": null,
            "object_position": null,
            "order": null,
            "overflow": null,
            "overflow_x": null,
            "overflow_y": null,
            "padding": null,
            "right": null,
            "top": null,
            "visibility": null,
            "width": null
          }
        },
        "0bf0ed8b84354c5a89fb501f2439b562": {
          "model_module": "@jupyter-widgets/controls",
          "model_name": "DescriptionStyleModel",
          "model_module_version": "1.5.0",
          "state": {
            "_model_module": "@jupyter-widgets/controls",
            "_model_module_version": "1.5.0",
            "_model_name": "DescriptionStyleModel",
            "_view_count": null,
            "_view_module": "@jupyter-widgets/base",
            "_view_module_version": "1.2.0",
            "_view_name": "StyleView",
            "description_width": ""
          }
        },
        "4c7677adf3584a6d9bac3402dd1c8d11": {
          "model_module": "@jupyter-widgets/controls",
          "model_name": "HBoxModel",
          "model_module_version": "1.5.0",
          "state": {
            "_dom_classes": [],
            "_model_module": "@jupyter-widgets/controls",
            "_model_module_version": "1.5.0",
            "_model_name": "HBoxModel",
            "_view_count": null,
            "_view_module": "@jupyter-widgets/controls",
            "_view_module_version": "1.5.0",
            "_view_name": "HBoxView",
            "box_style": "",
            "children": [
              "IPY_MODEL_acf49b9ab76948a186e62abd89d77ae1",
              "IPY_MODEL_b0d8d963bff942938508fef734d14a63",
              "IPY_MODEL_c8501300f6c94aa9b811c046b59355c5"
            ],
            "layout": "IPY_MODEL_514250e9a68249eb876cb03617ff4b7f"
          }
        },
        "acf49b9ab76948a186e62abd89d77ae1": {
          "model_module": "@jupyter-widgets/controls",
          "model_name": "HTMLModel",
          "model_module_version": "1.5.0",
          "state": {
            "_dom_classes": [],
            "_model_module": "@jupyter-widgets/controls",
            "_model_module_version": "1.5.0",
            "_model_name": "HTMLModel",
            "_view_count": null,
            "_view_module": "@jupyter-widgets/controls",
            "_view_module_version": "1.5.0",
            "_view_name": "HTMLView",
            "description": "",
            "description_tooltip": null,
            "layout": "IPY_MODEL_8e0500dd5bb64ae3ae02e43bb9903a1d",
            "placeholder": "​",
            "style": "IPY_MODEL_df4bf65289a746cfa899dcbbf1e2a8d5",
            "value": "100%"
          }
        },
        "b0d8d963bff942938508fef734d14a63": {
          "model_module": "@jupyter-widgets/controls",
          "model_name": "FloatProgressModel",
          "model_module_version": "1.5.0",
          "state": {
            "_dom_classes": [],
            "_model_module": "@jupyter-widgets/controls",
            "_model_module_version": "1.5.0",
            "_model_name": "FloatProgressModel",
            "_view_count": null,
            "_view_module": "@jupyter-widgets/controls",
            "_view_module_version": "1.5.0",
            "_view_name": "ProgressView",
            "bar_style": "success",
            "description": "",
            "description_tooltip": null,
            "layout": "IPY_MODEL_f19111c6fcf24dc4b1db30db836f88b7",
            "max": 1648877,
            "min": 0,
            "orientation": "horizontal",
            "style": "IPY_MODEL_f3646077072840c0a18d2d8a94fae38b",
            "value": 1648877
          }
        },
        "c8501300f6c94aa9b811c046b59355c5": {
          "model_module": "@jupyter-widgets/controls",
          "model_name": "HTMLModel",
          "model_module_version": "1.5.0",
          "state": {
            "_dom_classes": [],
            "_model_module": "@jupyter-widgets/controls",
            "_model_module_version": "1.5.0",
            "_model_name": "HTMLModel",
            "_view_count": null,
            "_view_module": "@jupyter-widgets/controls",
            "_view_module_version": "1.5.0",
            "_view_name": "HTMLView",
            "description": "",
            "description_tooltip": null,
            "layout": "IPY_MODEL_f0187f0731f0452b82d1caf5429049bb",
            "placeholder": "​",
            "style": "IPY_MODEL_3000f00c84be4070ac0fd76ada2ead78",
            "value": " 1648877/1648877 [00:00&lt;00:00, 28997569.79it/s]"
          }
        },
        "514250e9a68249eb876cb03617ff4b7f": {
          "model_module": "@jupyter-widgets/base",
          "model_name": "LayoutModel",
          "model_module_version": "1.2.0",
          "state": {
            "_model_module": "@jupyter-widgets/base",
            "_model_module_version": "1.2.0",
            "_model_name": "LayoutModel",
            "_view_count": null,
            "_view_module": "@jupyter-widgets/base",
            "_view_module_version": "1.2.0",
            "_view_name": "LayoutView",
            "align_content": null,
            "align_items": null,
            "align_self": null,
            "border": null,
            "bottom": null,
            "display": null,
            "flex": null,
            "flex_flow": null,
            "grid_area": null,
            "grid_auto_columns": null,
            "grid_auto_flow": null,
            "grid_auto_rows": null,
            "grid_column": null,
            "grid_gap": null,
            "grid_row": null,
            "grid_template_areas": null,
            "grid_template_columns": null,
            "grid_template_rows": null,
            "height": null,
            "justify_content": null,
            "justify_items": null,
            "left": null,
            "margin": null,
            "max_height": null,
            "max_width": null,
            "min_height": null,
            "min_width": null,
            "object_fit": null,
            "object_position": null,
            "order": null,
            "overflow": null,
            "overflow_x": null,
            "overflow_y": null,
            "padding": null,
            "right": null,
            "top": null,
            "visibility": null,
            "width": null
          }
        },
        "8e0500dd5bb64ae3ae02e43bb9903a1d": {
          "model_module": "@jupyter-widgets/base",
          "model_name": "LayoutModel",
          "model_module_version": "1.2.0",
          "state": {
            "_model_module": "@jupyter-widgets/base",
            "_model_module_version": "1.2.0",
            "_model_name": "LayoutModel",
            "_view_count": null,
            "_view_module": "@jupyter-widgets/base",
            "_view_module_version": "1.2.0",
            "_view_name": "LayoutView",
            "align_content": null,
            "align_items": null,
            "align_self": null,
            "border": null,
            "bottom": null,
            "display": null,
            "flex": null,
            "flex_flow": null,
            "grid_area": null,
            "grid_auto_columns": null,
            "grid_auto_flow": null,
            "grid_auto_rows": null,
            "grid_column": null,
            "grid_gap": null,
            "grid_row": null,
            "grid_template_areas": null,
            "grid_template_columns": null,
            "grid_template_rows": null,
            "height": null,
            "justify_content": null,
            "justify_items": null,
            "left": null,
            "margin": null,
            "max_height": null,
            "max_width": null,
            "min_height": null,
            "min_width": null,
            "object_fit": null,
            "object_position": null,
            "order": null,
            "overflow": null,
            "overflow_x": null,
            "overflow_y": null,
            "padding": null,
            "right": null,
            "top": null,
            "visibility": null,
            "width": null
          }
        },
        "df4bf65289a746cfa899dcbbf1e2a8d5": {
          "model_module": "@jupyter-widgets/controls",
          "model_name": "DescriptionStyleModel",
          "model_module_version": "1.5.0",
          "state": {
            "_model_module": "@jupyter-widgets/controls",
            "_model_module_version": "1.5.0",
            "_model_name": "DescriptionStyleModel",
            "_view_count": null,
            "_view_module": "@jupyter-widgets/base",
            "_view_module_version": "1.2.0",
            "_view_name": "StyleView",
            "description_width": ""
          }
        },
        "f19111c6fcf24dc4b1db30db836f88b7": {
          "model_module": "@jupyter-widgets/base",
          "model_name": "LayoutModel",
          "model_module_version": "1.2.0",
          "state": {
            "_model_module": "@jupyter-widgets/base",
            "_model_module_version": "1.2.0",
            "_model_name": "LayoutModel",
            "_view_count": null,
            "_view_module": "@jupyter-widgets/base",
            "_view_module_version": "1.2.0",
            "_view_name": "LayoutView",
            "align_content": null,
            "align_items": null,
            "align_self": null,
            "border": null,
            "bottom": null,
            "display": null,
            "flex": null,
            "flex_flow": null,
            "grid_area": null,
            "grid_auto_columns": null,
            "grid_auto_flow": null,
            "grid_auto_rows": null,
            "grid_column": null,
            "grid_gap": null,
            "grid_row": null,
            "grid_template_areas": null,
            "grid_template_columns": null,
            "grid_template_rows": null,
            "height": null,
            "justify_content": null,
            "justify_items": null,
            "left": null,
            "margin": null,
            "max_height": null,
            "max_width": null,
            "min_height": null,
            "min_width": null,
            "object_fit": null,
            "object_position": null,
            "order": null,
            "overflow": null,
            "overflow_x": null,
            "overflow_y": null,
            "padding": null,
            "right": null,
            "top": null,
            "visibility": null,
            "width": null
          }
        },
        "f3646077072840c0a18d2d8a94fae38b": {
          "model_module": "@jupyter-widgets/controls",
          "model_name": "ProgressStyleModel",
          "model_module_version": "1.5.0",
          "state": {
            "_model_module": "@jupyter-widgets/controls",
            "_model_module_version": "1.5.0",
            "_model_name": "ProgressStyleModel",
            "_view_count": null,
            "_view_module": "@jupyter-widgets/base",
            "_view_module_version": "1.2.0",
            "_view_name": "StyleView",
            "bar_color": null,
            "description_width": ""
          }
        },
        "f0187f0731f0452b82d1caf5429049bb": {
          "model_module": "@jupyter-widgets/base",
          "model_name": "LayoutModel",
          "model_module_version": "1.2.0",
          "state": {
            "_model_module": "@jupyter-widgets/base",
            "_model_module_version": "1.2.0",
            "_model_name": "LayoutModel",
            "_view_count": null,
            "_view_module": "@jupyter-widgets/base",
            "_view_module_version": "1.2.0",
            "_view_name": "LayoutView",
            "align_content": null,
            "align_items": null,
            "align_self": null,
            "border": null,
            "bottom": null,
            "display": null,
            "flex": null,
            "flex_flow": null,
            "grid_area": null,
            "grid_auto_columns": null,
            "grid_auto_flow": null,
            "grid_auto_rows": null,
            "grid_column": null,
            "grid_gap": null,
            "grid_row": null,
            "grid_template_areas": null,
            "grid_template_columns": null,
            "grid_template_rows": null,
            "height": null,
            "justify_content": null,
            "justify_items": null,
            "left": null,
            "margin": null,
            "max_height": null,
            "max_width": null,
            "min_height": null,
            "min_width": null,
            "object_fit": null,
            "object_position": null,
            "order": null,
            "overflow": null,
            "overflow_x": null,
            "overflow_y": null,
            "padding": null,
            "right": null,
            "top": null,
            "visibility": null,
            "width": null
          }
        },
        "3000f00c84be4070ac0fd76ada2ead78": {
          "model_module": "@jupyter-widgets/controls",
          "model_name": "DescriptionStyleModel",
          "model_module_version": "1.5.0",
          "state": {
            "_model_module": "@jupyter-widgets/controls",
            "_model_module_version": "1.5.0",
            "_model_name": "DescriptionStyleModel",
            "_view_count": null,
            "_view_module": "@jupyter-widgets/base",
            "_view_module_version": "1.2.0",
            "_view_name": "StyleView",
            "description_width": ""
          }
        },
        "9c6ab7e931b148b18b28f20673eb5b80": {
          "model_module": "@jupyter-widgets/controls",
          "model_name": "HBoxModel",
          "model_module_version": "1.5.0",
          "state": {
            "_dom_classes": [],
            "_model_module": "@jupyter-widgets/controls",
            "_model_module_version": "1.5.0",
            "_model_name": "HBoxModel",
            "_view_count": null,
            "_view_module": "@jupyter-widgets/controls",
            "_view_module_version": "1.5.0",
            "_view_name": "HBoxView",
            "box_style": "",
            "children": [
              "IPY_MODEL_5dbc996311d041a6be44aecc41990411",
              "IPY_MODEL_80ab42223efc436f99106944d8017b56",
              "IPY_MODEL_48a42d9ef0d640e6bb733940faa3f2b4"
            ],
            "layout": "IPY_MODEL_ae31447373b34abc8c9eed5e6f866a26"
          }
        },
        "5dbc996311d041a6be44aecc41990411": {
          "model_module": "@jupyter-widgets/controls",
          "model_name": "HTMLModel",
          "model_module_version": "1.5.0",
          "state": {
            "_dom_classes": [],
            "_model_module": "@jupyter-widgets/controls",
            "_model_module_version": "1.5.0",
            "_model_name": "HTMLModel",
            "_view_count": null,
            "_view_module": "@jupyter-widgets/controls",
            "_view_module_version": "1.5.0",
            "_view_name": "HTMLView",
            "description": "",
            "description_tooltip": null,
            "layout": "IPY_MODEL_26d51e6527ab4508ae55a3a5a39a0b33",
            "placeholder": "​",
            "style": "IPY_MODEL_7fe21ce179654a5d959f076e059b4d6a",
            "value": "100%"
          }
        },
        "80ab42223efc436f99106944d8017b56": {
          "model_module": "@jupyter-widgets/controls",
          "model_name": "FloatProgressModel",
          "model_module_version": "1.5.0",
          "state": {
            "_dom_classes": [],
            "_model_module": "@jupyter-widgets/controls",
            "_model_module_version": "1.5.0",
            "_model_name": "FloatProgressModel",
            "_view_count": null,
            "_view_module": "@jupyter-widgets/controls",
            "_view_module_version": "1.5.0",
            "_view_name": "ProgressView",
            "bar_style": "success",
            "description": "",
            "description_tooltip": null,
            "layout": "IPY_MODEL_f13ceea2a49446a6849d38b67b9340db",
            "max": 4542,
            "min": 0,
            "orientation": "horizontal",
            "style": "IPY_MODEL_7b308f2b0e7a49168ff9506c424b22c6",
            "value": 4542
          }
        },
        "48a42d9ef0d640e6bb733940faa3f2b4": {
          "model_module": "@jupyter-widgets/controls",
          "model_name": "HTMLModel",
          "model_module_version": "1.5.0",
          "state": {
            "_dom_classes": [],
            "_model_module": "@jupyter-widgets/controls",
            "_model_module_version": "1.5.0",
            "_model_name": "HTMLModel",
            "_view_count": null,
            "_view_module": "@jupyter-widgets/controls",
            "_view_module_version": "1.5.0",
            "_view_name": "HTMLView",
            "description": "",
            "description_tooltip": null,
            "layout": "IPY_MODEL_d1c43b69b423481ea6ea9a9d2aa9ea7f",
            "placeholder": "​",
            "style": "IPY_MODEL_1b9c47dc18014f0388ca0047892dcb20",
            "value": " 4542/4542 [00:00&lt;00:00, 159980.93it/s]"
          }
        },
        "ae31447373b34abc8c9eed5e6f866a26": {
          "model_module": "@jupyter-widgets/base",
          "model_name": "LayoutModel",
          "model_module_version": "1.2.0",
          "state": {
            "_model_module": "@jupyter-widgets/base",
            "_model_module_version": "1.2.0",
            "_model_name": "LayoutModel",
            "_view_count": null,
            "_view_module": "@jupyter-widgets/base",
            "_view_module_version": "1.2.0",
            "_view_name": "LayoutView",
            "align_content": null,
            "align_items": null,
            "align_self": null,
            "border": null,
            "bottom": null,
            "display": null,
            "flex": null,
            "flex_flow": null,
            "grid_area": null,
            "grid_auto_columns": null,
            "grid_auto_flow": null,
            "grid_auto_rows": null,
            "grid_column": null,
            "grid_gap": null,
            "grid_row": null,
            "grid_template_areas": null,
            "grid_template_columns": null,
            "grid_template_rows": null,
            "height": null,
            "justify_content": null,
            "justify_items": null,
            "left": null,
            "margin": null,
            "max_height": null,
            "max_width": null,
            "min_height": null,
            "min_width": null,
            "object_fit": null,
            "object_position": null,
            "order": null,
            "overflow": null,
            "overflow_x": null,
            "overflow_y": null,
            "padding": null,
            "right": null,
            "top": null,
            "visibility": null,
            "width": null
          }
        },
        "26d51e6527ab4508ae55a3a5a39a0b33": {
          "model_module": "@jupyter-widgets/base",
          "model_name": "LayoutModel",
          "model_module_version": "1.2.0",
          "state": {
            "_model_module": "@jupyter-widgets/base",
            "_model_module_version": "1.2.0",
            "_model_name": "LayoutModel",
            "_view_count": null,
            "_view_module": "@jupyter-widgets/base",
            "_view_module_version": "1.2.0",
            "_view_name": "LayoutView",
            "align_content": null,
            "align_items": null,
            "align_self": null,
            "border": null,
            "bottom": null,
            "display": null,
            "flex": null,
            "flex_flow": null,
            "grid_area": null,
            "grid_auto_columns": null,
            "grid_auto_flow": null,
            "grid_auto_rows": null,
            "grid_column": null,
            "grid_gap": null,
            "grid_row": null,
            "grid_template_areas": null,
            "grid_template_columns": null,
            "grid_template_rows": null,
            "height": null,
            "justify_content": null,
            "justify_items": null,
            "left": null,
            "margin": null,
            "max_height": null,
            "max_width": null,
            "min_height": null,
            "min_width": null,
            "object_fit": null,
            "object_position": null,
            "order": null,
            "overflow": null,
            "overflow_x": null,
            "overflow_y": null,
            "padding": null,
            "right": null,
            "top": null,
            "visibility": null,
            "width": null
          }
        },
        "7fe21ce179654a5d959f076e059b4d6a": {
          "model_module": "@jupyter-widgets/controls",
          "model_name": "DescriptionStyleModel",
          "model_module_version": "1.5.0",
          "state": {
            "_model_module": "@jupyter-widgets/controls",
            "_model_module_version": "1.5.0",
            "_model_name": "DescriptionStyleModel",
            "_view_count": null,
            "_view_module": "@jupyter-widgets/base",
            "_view_module_version": "1.2.0",
            "_view_name": "StyleView",
            "description_width": ""
          }
        },
        "f13ceea2a49446a6849d38b67b9340db": {
          "model_module": "@jupyter-widgets/base",
          "model_name": "LayoutModel",
          "model_module_version": "1.2.0",
          "state": {
            "_model_module": "@jupyter-widgets/base",
            "_model_module_version": "1.2.0",
            "_model_name": "LayoutModel",
            "_view_count": null,
            "_view_module": "@jupyter-widgets/base",
            "_view_module_version": "1.2.0",
            "_view_name": "LayoutView",
            "align_content": null,
            "align_items": null,
            "align_self": null,
            "border": null,
            "bottom": null,
            "display": null,
            "flex": null,
            "flex_flow": null,
            "grid_area": null,
            "grid_auto_columns": null,
            "grid_auto_flow": null,
            "grid_auto_rows": null,
            "grid_column": null,
            "grid_gap": null,
            "grid_row": null,
            "grid_template_areas": null,
            "grid_template_columns": null,
            "grid_template_rows": null,
            "height": null,
            "justify_content": null,
            "justify_items": null,
            "left": null,
            "margin": null,
            "max_height": null,
            "max_width": null,
            "min_height": null,
            "min_width": null,
            "object_fit": null,
            "object_position": null,
            "order": null,
            "overflow": null,
            "overflow_x": null,
            "overflow_y": null,
            "padding": null,
            "right": null,
            "top": null,
            "visibility": null,
            "width": null
          }
        },
        "7b308f2b0e7a49168ff9506c424b22c6": {
          "model_module": "@jupyter-widgets/controls",
          "model_name": "ProgressStyleModel",
          "model_module_version": "1.5.0",
          "state": {
            "_model_module": "@jupyter-widgets/controls",
            "_model_module_version": "1.5.0",
            "_model_name": "ProgressStyleModel",
            "_view_count": null,
            "_view_module": "@jupyter-widgets/base",
            "_view_module_version": "1.2.0",
            "_view_name": "StyleView",
            "bar_color": null,
            "description_width": ""
          }
        },
        "d1c43b69b423481ea6ea9a9d2aa9ea7f": {
          "model_module": "@jupyter-widgets/base",
          "model_name": "LayoutModel",
          "model_module_version": "1.2.0",
          "state": {
            "_model_module": "@jupyter-widgets/base",
            "_model_module_version": "1.2.0",
            "_model_name": "LayoutModel",
            "_view_count": null,
            "_view_module": "@jupyter-widgets/base",
            "_view_module_version": "1.2.0",
            "_view_name": "LayoutView",
            "align_content": null,
            "align_items": null,
            "align_self": null,
            "border": null,
            "bottom": null,
            "display": null,
            "flex": null,
            "flex_flow": null,
            "grid_area": null,
            "grid_auto_columns": null,
            "grid_auto_flow": null,
            "grid_auto_rows": null,
            "grid_column": null,
            "grid_gap": null,
            "grid_row": null,
            "grid_template_areas": null,
            "grid_template_columns": null,
            "grid_template_rows": null,
            "height": null,
            "justify_content": null,
            "justify_items": null,
            "left": null,
            "margin": null,
            "max_height": null,
            "max_width": null,
            "min_height": null,
            "min_width": null,
            "object_fit": null,
            "object_position": null,
            "order": null,
            "overflow": null,
            "overflow_x": null,
            "overflow_y": null,
            "padding": null,
            "right": null,
            "top": null,
            "visibility": null,
            "width": null
          }
        },
        "1b9c47dc18014f0388ca0047892dcb20": {
          "model_module": "@jupyter-widgets/controls",
          "model_name": "DescriptionStyleModel",
          "model_module_version": "1.5.0",
          "state": {
            "_model_module": "@jupyter-widgets/controls",
            "_model_module_version": "1.5.0",
            "_model_name": "DescriptionStyleModel",
            "_view_count": null,
            "_view_module": "@jupyter-widgets/base",
            "_view_module_version": "1.2.0",
            "_view_name": "StyleView",
            "description_width": ""
          }
        }
      }
    }
  },
  "nbformat": 4,
  "nbformat_minor": 0
}